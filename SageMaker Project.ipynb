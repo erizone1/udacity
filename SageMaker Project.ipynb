{
 "cells": [
  {
   "cell_type": "markdown",
   "metadata": {},
   "source": [
    "# Creating a Sentiment Analysis Web App\n",
    "## Using PyTorch and SageMaker\n",
    "\n",
    "_Deep Learning Nanodegree Program | Deployment_\n",
    "\n",
    "---\n",
    "\n",
    "Now that we have a basic understanding of how SageMaker works we will try to use it to construct a complete project from end to end. Our goal will be to have a simple web page which a user can use to enter a movie review. The web page will then send the review off to our deployed model which will predict the sentiment of the entered review.\n",
    "\n",
    "## Instructions\n",
    "\n",
    "Some template code has already been provided for you, and you will need to implement additional functionality to successfully complete this notebook. You will not need to modify the included code beyond what is requested. Sections that begin with '**TODO**' in the header indicate that you need to complete or implement some portion within them. Instructions will be provided for each section and the specifics of the implementation are marked in the code block with a `# TODO: ...` comment. Please be sure to read the instructions carefully!\n",
    "\n",
    "In addition to implementing code, there will be questions for you to answer which relate to the task and your implementation. Each section where you will answer a question is preceded by a '**Question:**' header. Carefully read each question and provide your answer below the '**Answer:**' header by editing the Markdown cell.\n",
    "\n",
    "> **Note**: Code and Markdown cells can be executed using the **Shift+Enter** keyboard shortcut. In addition, a cell can be edited by typically clicking it (double-click for Markdown cells) or by pressing **Enter** while it is highlighted.\n",
    "\n",
    "## General Outline\n",
    "\n",
    "Recall the general outline for SageMaker projects using a notebook instance.\n",
    "\n",
    "1. Download or otherwise retrieve the data.\n",
    "2. Process / Prepare the data.\n",
    "3. Upload the processed data to S3.\n",
    "4. Train a chosen model.\n",
    "5. Test the trained model (typically using a batch transform job).\n",
    "6. Deploy the trained model.\n",
    "7. Use the deployed model.\n",
    "\n",
    "For this project, you will be following the steps in the general outline with some modifications. \n",
    "\n",
    "First, you will not be testing the model in its own step. You will still be testing the model, however, you will do it by deploying your model and then using the deployed model by sending the test data to it. One of the reasons for doing this is so that you can make sure that your deployed model is working correctly before moving forward.\n",
    "\n",
    "In addition, you will deploy and use your trained model a second time. In the second iteration you will customize the way that your trained model is deployed by including some of your own code. In addition, your newly deployed model will be used in the sentiment analysis web app."
   ]
  },
  {
   "cell_type": "code",
   "execution_count": 1,
   "metadata": {},
   "outputs": [
    {
     "name": "stdout",
     "output_type": "stream",
     "text": [
      "Requirement already satisfied: sagemaker==1.72.0 in /home/ec2-user/anaconda3/envs/pytorch_p36/lib/python3.6/site-packages (1.72.0)\n",
      "Requirement already satisfied: importlib-metadata>=1.4.0 in /home/ec2-user/anaconda3/envs/pytorch_p36/lib/python3.6/site-packages (from sagemaker==1.72.0) (3.1.0)\n",
      "Requirement already satisfied: packaging>=20.0 in /home/ec2-user/anaconda3/envs/pytorch_p36/lib/python3.6/site-packages (from sagemaker==1.72.0) (20.7)\n",
      "Requirement already satisfied: numpy>=1.9.0 in /home/ec2-user/anaconda3/envs/pytorch_p36/lib/python3.6/site-packages (from sagemaker==1.72.0) (1.19.4)\n",
      "Requirement already satisfied: scipy>=0.19.0 in /home/ec2-user/anaconda3/envs/pytorch_p36/lib/python3.6/site-packages (from sagemaker==1.72.0) (1.4.1)\n",
      "Requirement already satisfied: boto3>=1.14.12 in /home/ec2-user/anaconda3/envs/pytorch_p36/lib/python3.6/site-packages (from sagemaker==1.72.0) (1.16.37)\n",
      "Requirement already satisfied: smdebug-rulesconfig==0.1.4 in /home/ec2-user/anaconda3/envs/pytorch_p36/lib/python3.6/site-packages (from sagemaker==1.72.0) (0.1.4)\n",
      "Requirement already satisfied: protobuf3-to-dict>=0.1.5 in /home/ec2-user/anaconda3/envs/pytorch_p36/lib/python3.6/site-packages (from sagemaker==1.72.0) (0.1.5)\n",
      "Requirement already satisfied: protobuf>=3.1 in /home/ec2-user/anaconda3/envs/pytorch_p36/lib/python3.6/site-packages (from sagemaker==1.72.0) (3.14.0)\n",
      "Requirement already satisfied: botocore<1.20.0,>=1.19.37 in /home/ec2-user/anaconda3/envs/pytorch_p36/lib/python3.6/site-packages (from boto3>=1.14.12->sagemaker==1.72.0) (1.19.37)\n",
      "Requirement already satisfied: s3transfer<0.4.0,>=0.3.0 in /home/ec2-user/anaconda3/envs/pytorch_p36/lib/python3.6/site-packages (from boto3>=1.14.12->sagemaker==1.72.0) (0.3.3)\n",
      "Requirement already satisfied: jmespath<1.0.0,>=0.7.1 in /home/ec2-user/anaconda3/envs/pytorch_p36/lib/python3.6/site-packages (from boto3>=1.14.12->sagemaker==1.72.0) (0.10.0)\n",
      "Requirement already satisfied: urllib3<1.27,>=1.25.4 in /home/ec2-user/anaconda3/envs/pytorch_p36/lib/python3.6/site-packages (from botocore<1.20.0,>=1.19.37->boto3>=1.14.12->sagemaker==1.72.0) (1.25.11)\n",
      "Requirement already satisfied: python-dateutil<3.0.0,>=2.1 in /home/ec2-user/anaconda3/envs/pytorch_p36/lib/python3.6/site-packages (from botocore<1.20.0,>=1.19.37->boto3>=1.14.12->sagemaker==1.72.0) (2.8.1)\n",
      "Requirement already satisfied: jmespath<1.0.0,>=0.7.1 in /home/ec2-user/anaconda3/envs/pytorch_p36/lib/python3.6/site-packages (from boto3>=1.14.12->sagemaker==1.72.0) (0.10.0)\n",
      "Requirement already satisfied: zipp>=0.5 in /home/ec2-user/anaconda3/envs/pytorch_p36/lib/python3.6/site-packages (from importlib-metadata>=1.4.0->sagemaker==1.72.0) (3.4.0)\n",
      "Requirement already satisfied: pyparsing>=2.0.2 in /home/ec2-user/anaconda3/envs/pytorch_p36/lib/python3.6/site-packages (from packaging>=20.0->sagemaker==1.72.0) (2.4.7)\n",
      "Requirement already satisfied: six>=1.9 in /home/ec2-user/anaconda3/envs/pytorch_p36/lib/python3.6/site-packages (from protobuf>=3.1->sagemaker==1.72.0) (1.15.0)\n",
      "Requirement already satisfied: protobuf>=3.1 in /home/ec2-user/anaconda3/envs/pytorch_p36/lib/python3.6/site-packages (from sagemaker==1.72.0) (3.14.0)\n",
      "Requirement already satisfied: six>=1.9 in /home/ec2-user/anaconda3/envs/pytorch_p36/lib/python3.6/site-packages (from protobuf>=3.1->sagemaker==1.72.0) (1.15.0)\n",
      "Requirement already satisfied: six>=1.9 in /home/ec2-user/anaconda3/envs/pytorch_p36/lib/python3.6/site-packages (from protobuf>=3.1->sagemaker==1.72.0) (1.15.0)\n",
      "Requirement already satisfied: botocore<1.20.0,>=1.19.37 in /home/ec2-user/anaconda3/envs/pytorch_p36/lib/python3.6/site-packages (from boto3>=1.14.12->sagemaker==1.72.0) (1.19.37)\n",
      "Requirement already satisfied: numpy>=1.9.0 in /home/ec2-user/anaconda3/envs/pytorch_p36/lib/python3.6/site-packages (from sagemaker==1.72.0) (1.19.4)\n",
      "\u001b[33mWARNING: You are using pip version 20.3; however, version 21.0.1 is available.\n",
      "You should consider upgrading via the '/home/ec2-user/anaconda3/envs/pytorch_p36/bin/python -m pip install --upgrade pip' command.\u001b[0m\n"
     ]
    }
   ],
   "source": [
    "# Make sure that we use SageMaker 1.x\n",
    "!pip install sagemaker==1.72.0"
   ]
  },
  {
   "cell_type": "markdown",
   "metadata": {},
   "source": [
    "## Step 1: Downloading the data\n",
    "\n",
    "As in the XGBoost in SageMaker notebook, we will be using the [IMDb dataset](http://ai.stanford.edu/~amaas/data/sentiment/)\n",
    "\n",
    "> Maas, Andrew L., et al. [Learning Word Vectors for Sentiment Analysis](http://ai.stanford.edu/~amaas/data/sentiment/). In _Proceedings of the 49th Annual Meeting of the Association for Computational Linguistics: Human Language Technologies_. Association for Computational Linguistics, 2011."
   ]
  },
  {
   "cell_type": "code",
   "execution_count": 2,
   "metadata": {},
   "outputs": [
    {
     "name": "stdout",
     "output_type": "stream",
     "text": [
      "mkdir: cannot create directory ‘../data’: File exists\n",
      "--2021-02-02 04:01:28--  http://ai.stanford.edu/~amaas/data/sentiment/aclImdb_v1.tar.gz\n",
      "Resolving ai.stanford.edu (ai.stanford.edu)... 171.64.68.10\n",
      "Connecting to ai.stanford.edu (ai.stanford.edu)|171.64.68.10|:80... connected.\n",
      "HTTP request sent, awaiting response... 200 OK\n",
      "Length: 84125825 (80M) [application/x-gzip]\n",
      "Saving to: ‘../data/aclImdb_v1.tar.gz’\n",
      "\n",
      "../data/aclImdb_v1. 100%[===================>]  80.23M  23.3MB/s    in 4.1s    \n",
      "\n",
      "2021-02-02 04:01:32 (19.5 MB/s) - ‘../data/aclImdb_v1.tar.gz’ saved [84125825/84125825]\n",
      "\n"
     ]
    }
   ],
   "source": [
    "%mkdir ../data\n",
    "!wget -O ../data/aclImdb_v1.tar.gz http://ai.stanford.edu/~amaas/data/sentiment/aclImdb_v1.tar.gz\n",
    "!tar -zxf ../data/aclImdb_v1.tar.gz -C ../data"
   ]
  },
  {
   "cell_type": "markdown",
   "metadata": {},
   "source": [
    "## Step 2: Preparing and Processing the data\n",
    "\n",
    "Also, as in the XGBoost notebook, we will be doing some initial data processing. The first few steps are the same as in the XGBoost example. To begin with, we will read in each of the reviews and combine them into a single input structure. Then, we will split the dataset into a training set and a testing set."
   ]
  },
  {
   "cell_type": "code",
   "execution_count": 3,
   "metadata": {},
   "outputs": [],
   "source": [
    "import os\n",
    "import glob\n",
    "\n",
    "def read_imdb_data(data_dir='../data/aclImdb'):\n",
    "    data = {}\n",
    "    labels = {}\n",
    "    \n",
    "    for data_type in ['train', 'test']:\n",
    "        data[data_type] = {}\n",
    "        labels[data_type] = {}\n",
    "        \n",
    "        for sentiment in ['pos', 'neg']:\n",
    "            data[data_type][sentiment] = []\n",
    "            labels[data_type][sentiment] = []\n",
    "            \n",
    "            path = os.path.join(data_dir, data_type, sentiment, '*.txt')\n",
    "            files = glob.glob(path)\n",
    "            \n",
    "            for f in files:\n",
    "                with open(f) as review:\n",
    "                    data[data_type][sentiment].append(review.read())\n",
    "                    # Here we represent a positive review by '1' and a negative review by '0'\n",
    "                    labels[data_type][sentiment].append(1 if sentiment == 'pos' else 0)\n",
    "                    \n",
    "            assert len(data[data_type][sentiment]) == len(labels[data_type][sentiment]), \\\n",
    "                    \"{}/{} data size does not match labels size\".format(data_type, sentiment)\n",
    "                \n",
    "    return data, labels"
   ]
  },
  {
   "cell_type": "code",
   "execution_count": 4,
   "metadata": {},
   "outputs": [
    {
     "name": "stdout",
     "output_type": "stream",
     "text": [
      "IMDB reviews: train = 12500 pos / 12500 neg, test = 12500 pos / 12500 neg\n"
     ]
    }
   ],
   "source": [
    "data, labels = read_imdb_data()\n",
    "print(\"IMDB reviews: train = {} pos / {} neg, test = {} pos / {} neg\".format(\n",
    "            len(data['train']['pos']), len(data['train']['neg']),\n",
    "            len(data['test']['pos']), len(data['test']['neg'])))"
   ]
  },
  {
   "cell_type": "markdown",
   "metadata": {},
   "source": [
    "Now that we've read the raw training and testing data from the downloaded dataset, we will combine the positive and negative reviews and shuffle the resulting records."
   ]
  },
  {
   "cell_type": "code",
   "execution_count": 5,
   "metadata": {},
   "outputs": [],
   "source": [
    "from sklearn.utils import shuffle\n",
    "\n",
    "def prepare_imdb_data(data, labels):\n",
    "    \"\"\"Prepare training and test sets from IMDb movie reviews.\"\"\"\n",
    "    \n",
    "    #Combine positive and negative reviews and labels\n",
    "    data_train = data['train']['pos'] + data['train']['neg']\n",
    "    data_test = data['test']['pos'] + data['test']['neg']\n",
    "    labels_train = labels['train']['pos'] + labels['train']['neg']\n",
    "    labels_test = labels['test']['pos'] + labels['test']['neg']\n",
    "    \n",
    "    #Shuffle reviews and corresponding labels within training and test sets\n",
    "    data_train, labels_train = shuffle(data_train, labels_train)\n",
    "    data_test, labels_test = shuffle(data_test, labels_test)\n",
    "    \n",
    "    # Return a unified training data, test data, training labels, test labets\n",
    "    return data_train, data_test, labels_train, labels_test"
   ]
  },
  {
   "cell_type": "code",
   "execution_count": 6,
   "metadata": {},
   "outputs": [
    {
     "name": "stdout",
     "output_type": "stream",
     "text": [
      "IMDb reviews (combined): train = 25000, test = 25000\n"
     ]
    }
   ],
   "source": [
    "train_X, test_X, train_y, test_y = prepare_imdb_data(data, labels)\n",
    "print(\"IMDb reviews (combined): train = {}, test = {}\".format(len(train_X), len(test_X)))"
   ]
  },
  {
   "cell_type": "markdown",
   "metadata": {},
   "source": [
    "Now that we have our training and testing sets unified and prepared, we should do a quick check and see an example of the data our model will be trained on. This is generally a good idea as it allows you to see how each of the further processing steps affects the reviews and it also ensures that the data has been loaded correctly."
   ]
  },
  {
   "cell_type": "code",
   "execution_count": 7,
   "metadata": {},
   "outputs": [
    {
     "name": "stdout",
     "output_type": "stream",
     "text": [
      "Another Aussie masterpiece, this delves into the world of the unknown and the supernatural, and it does very well. It doesn't resort to the big special effects overkill like American flicks, it focuses more on emotional impact. A relatively simple plot that Rebecca Gibney & Co. bring to life. It follows the story of a couple who buy an old house that was supposedly home to a very old woman who never went outside, and whose husband disappeared in mysterious circumstances a century ago. Strange things begin to happen in the house, and John Adam begins to turn into the man who disappeared, who was actually a mass murderer. Highly recommended. 8/10\n",
      "1\n"
     ]
    }
   ],
   "source": [
    "print(train_X[100])\n",
    "print(train_y[100])"
   ]
  },
  {
   "cell_type": "markdown",
   "metadata": {},
   "source": [
    "The first step in processing the reviews is to make sure that any html tags that appear should be removed. In addition we wish to tokenize our input, that way words such as *entertained* and *entertaining* are considered the same with regard to sentiment analysis."
   ]
  },
  {
   "cell_type": "code",
   "execution_count": 8,
   "metadata": {},
   "outputs": [],
   "source": [
    "import nltk\n",
    "from nltk.corpus import stopwords\n",
    "from nltk.stem.porter import *\n",
    "\n",
    "import re\n",
    "from bs4 import BeautifulSoup\n",
    "\n",
    "def review_to_words(review):\n",
    "    nltk.download(\"stopwords\", quiet=True)\n",
    "    stemmer = PorterStemmer()\n",
    "    \n",
    "    text = BeautifulSoup(review, \"html.parser\").get_text() # Remove HTML tags\n",
    "    text = re.sub(r\"[^a-zA-Z0-9]\", \" \", text.lower()) # Convert to lower case\n",
    "    words = text.split() # Split string into words\n",
    "    words = [w for w in words if w not in stopwords.words(\"english\")] # Remove stopwords\n",
    "    words = [PorterStemmer().stem(w) for w in words] # stem\n",
    "    \n",
    "    return words"
   ]
  },
  {
   "cell_type": "markdown",
   "metadata": {},
   "source": [
    "The `review_to_words` method defined above uses `BeautifulSoup` to remove any html tags that appear and uses the `nltk` package to tokenize the reviews. As a check to ensure we know how everything is working, try applying `review_to_words` to one of the reviews in the training set."
   ]
  },
  {
   "cell_type": "code",
   "execution_count": 9,
   "metadata": {},
   "outputs": [
    {
     "data": {
      "text/plain": [
       "['anoth',\n",
       " 'aussi',\n",
       " 'masterpiec',\n",
       " 'delv',\n",
       " 'world',\n",
       " 'unknown',\n",
       " 'supernatur',\n",
       " 'well',\n",
       " 'resort',\n",
       " 'big',\n",
       " 'special',\n",
       " 'effect',\n",
       " 'overkil',\n",
       " 'like',\n",
       " 'american',\n",
       " 'flick',\n",
       " 'focus',\n",
       " 'emot',\n",
       " 'impact',\n",
       " 'rel',\n",
       " 'simpl',\n",
       " 'plot',\n",
       " 'rebecca',\n",
       " 'gibney',\n",
       " 'co',\n",
       " 'bring',\n",
       " 'life',\n",
       " 'follow',\n",
       " 'stori',\n",
       " 'coupl',\n",
       " 'buy',\n",
       " 'old',\n",
       " 'hous',\n",
       " 'supposedli',\n",
       " 'home',\n",
       " 'old',\n",
       " 'woman',\n",
       " 'never',\n",
       " 'went',\n",
       " 'outsid',\n",
       " 'whose',\n",
       " 'husband',\n",
       " 'disappear',\n",
       " 'mysteri',\n",
       " 'circumst',\n",
       " 'centuri',\n",
       " 'ago',\n",
       " 'strang',\n",
       " 'thing',\n",
       " 'begin',\n",
       " 'happen',\n",
       " 'hous',\n",
       " 'john',\n",
       " 'adam',\n",
       " 'begin',\n",
       " 'turn',\n",
       " 'man',\n",
       " 'disappear',\n",
       " 'actual',\n",
       " 'mass',\n",
       " 'murder',\n",
       " 'highli',\n",
       " 'recommend',\n",
       " '8',\n",
       " '10']"
      ]
     },
     "execution_count": 9,
     "metadata": {},
     "output_type": "execute_result"
    }
   ],
   "source": [
    "# TODO: Apply review_to_words to a review (train_X[100] or any other review)\n",
    "review_to_words(train_X[100])"
   ]
  },
  {
   "cell_type": "markdown",
   "metadata": {},
   "source": [
    "**Question:** Above we mentioned that `review_to_words` method removes html formatting and allows us to tokenize the words found in a review, for example, converting *entertained* and *entertaining* into *entertain* so that they are treated as though they are the same word. What else, if anything, does this method do to the input?"
   ]
  },
  {
   "cell_type": "markdown",
   "metadata": {},
   "source": [
    "**Answer:** Besides removing HTML formatting and word stemming the function   converts all text to lower case, splits the input string into a list of words and removes all english stopwords from the list (see some example stopwords in cell below)."
   ]
  },
  {
   "cell_type": "code",
   "execution_count": 10,
   "metadata": {},
   "outputs": [
    {
     "name": "stdout",
     "output_type": "stream",
     "text": [
      "Stopwords example:  ['i', 'me', 'my', 'myself', 'we', 'our', 'ours', 'ourselves', 'you', \"you're\"]\n"
     ]
    }
   ],
   "source": [
    "#Stopwords example:\n",
    "print(\"Stopwords example: \", stopwords.words('english')[0:10])\n",
    " "
   ]
  },
  {
   "cell_type": "markdown",
   "metadata": {},
   "source": [
    "The method below applies the `review_to_words` method to each of the reviews in the training and testing datasets. In addition it caches the results. This is because performing this processing step can take a long time. This way if you are unable to complete the notebook in the current session, you can come back without needing to process the data a second time."
   ]
  },
  {
   "cell_type": "code",
   "execution_count": 11,
   "metadata": {},
   "outputs": [],
   "source": [
    "import pickle\n",
    "\n",
    "cache_dir = os.path.join(\"../cache\", \"sentiment_analysis\")  # where to store cache files\n",
    "os.makedirs(cache_dir, exist_ok=True)  # ensure cache directory exists\n",
    "\n",
    "def preprocess_data(data_train, data_test, labels_train, labels_test,\n",
    "                    cache_dir=cache_dir, cache_file=\"preprocessed_data.pkl\"):\n",
    "    \"\"\"Convert each review to words; read from cache if available.\"\"\"\n",
    "\n",
    "    # If cache_file is not None, try to read from it first\n",
    "    cache_data = None\n",
    "    if cache_file is not None:\n",
    "        try:\n",
    "            with open(os.path.join(cache_dir, cache_file), \"rb\") as f:\n",
    "                cache_data = pickle.load(f)\n",
    "            print(\"Read preprocessed data from cache file:\", cache_file)\n",
    "        except:\n",
    "            pass  # unable to read from cache, but that's okay\n",
    "    \n",
    "    # If cache is missing, then do the heavy lifting\n",
    "    if cache_data is None:\n",
    "        # Preprocess training and test data to obtain words for each review\n",
    "        #words_train = list(map(review_to_words, data_train))\n",
    "        #words_test = list(map(review_to_words, data_test))\n",
    "        words_train = [review_to_words(review) for review in data_train]\n",
    "        words_test = [review_to_words(review) for review in data_test]\n",
    "        \n",
    "        # Write to cache file for future runs\n",
    "        if cache_file is not None:\n",
    "            cache_data = dict(words_train=words_train, words_test=words_test,\n",
    "                              labels_train=labels_train, labels_test=labels_test)\n",
    "            with open(os.path.join(cache_dir, cache_file), \"wb\") as f:\n",
    "                pickle.dump(cache_data, f)\n",
    "            print(\"Wrote preprocessed data to cache file:\", cache_file)\n",
    "    else:\n",
    "        # Unpack data loaded from cache file\n",
    "        words_train, words_test, labels_train, labels_test = (cache_data['words_train'],\n",
    "                cache_data['words_test'], cache_data['labels_train'], cache_data['labels_test'])\n",
    "    \n",
    "    return words_train, words_test, labels_train, labels_test"
   ]
  },
  {
   "cell_type": "code",
   "execution_count": 12,
   "metadata": {},
   "outputs": [
    {
     "name": "stdout",
     "output_type": "stream",
     "text": [
      "Read preprocessed data from cache file: preprocessed_data.pkl\n"
     ]
    }
   ],
   "source": [
    "# Preprocess data\n",
    "train_X, test_X, train_y, test_y = preprocess_data(train_X, test_X, train_y, test_y)"
   ]
  },
  {
   "cell_type": "markdown",
   "metadata": {},
   "source": [
    "## Transform the data\n",
    "\n",
    "In the XGBoost notebook we transformed the data from its word representation to a bag-of-words feature representation. For the model we are going to construct in this notebook we will construct a feature representation which is very similar. To start, we will represent each word as an integer. Of course, some of the words that appear in the reviews occur very infrequently and so likely don't contain much information for the purposes of sentiment analysis. The way we will deal with this problem is that we will fix the size of our working vocabulary and we will only include the words that appear most frequently. We will then combine all of the infrequent words into a single category and, in our case, we will label it as `1`.\n",
    "\n",
    "Since we will be using a recurrent neural network, it will be convenient if the length of each review is the same. To do this, we will fix a size for our reviews and then pad short reviews with the category 'no word' (which we will label `0`) and truncate long reviews."
   ]
  },
  {
   "cell_type": "markdown",
   "metadata": {},
   "source": [
    "### (TODO) Create a word dictionary\n",
    "\n",
    "To begin with, we need to construct a way to map words that appear in the reviews to integers. Here we fix the size of our vocabulary (including the 'no word' and 'infrequent' categories) to be `5000` but you may wish to change this to see how it affects the model.\n",
    "\n",
    "> **TODO:** Complete the implementation for the `build_dict()` method below. Note that even though the vocab_size is set to `5000`, we only want to construct a mapping for the most frequently appearing `4998` words. This is because we want to reserve the special labels `0` for 'no word' and `1` for 'infrequent word'."
   ]
  },
  {
   "cell_type": "code",
   "execution_count": 13,
   "metadata": {},
   "outputs": [],
   "source": [
    "import numpy as np\n",
    "from collections import Counter \n",
    "\n",
    "def build_dict(data, vocab_size = 5000):\n",
    "    \"\"\"Construct and return a dictionary mapping each of the most frequently appearing words to a unique integer.\"\"\"\n",
    "   \n",
    "    # TODO: Determine how often each word appears in `data`. Note that `data` is a list of sentences and that a\n",
    "    #       sentence is a list of words.\n",
    "    flat_list = [item for sublist in data for item in sublist]\n",
    "    \n",
    "    word_count = {} # A dict storing the words that appear in the reviews along with how often they occur\n",
    "    word_count = dict(Counter(flat_list))\n",
    "    \n",
    "    # TODO: Sort the words found in `data` so that sorted_words[0] is the most frequently appearing word and\n",
    "    #       sorted_words[-1] is the least frequently appearing word.\n",
    "    \n",
    "    sorted_words = [x[0] for x in sorted(word_count.items(), key=lambda x: x[1],reverse=True)]\n",
    "    \n",
    "    word_dict = {} # This is what we are building, a dictionary that translates words into integers\n",
    "    for idx, word in enumerate(sorted_words[:vocab_size - 2]): # The -2 is so that we save room for the 'no word'\n",
    "        word_dict[word] = idx + 2                              # 'infrequent' labels\n",
    "        \n",
    "    return word_dict"
   ]
  },
  {
   "cell_type": "code",
   "execution_count": 14,
   "metadata": {},
   "outputs": [],
   "source": [
    "word_dict=build_dict(train_X)\n",
    " "
   ]
  },
  {
   "cell_type": "markdown",
   "metadata": {},
   "source": [
    "**Question:** What are the five most frequently appearing (tokenized) words in the training set? Does it makes sense that these words appear frequently in the training set?"
   ]
  },
  {
   "cell_type": "markdown",
   "metadata": {},
   "source": [
    "**Answer:** In decending order of occurence : 'movi', 'film', 'one', 'like', 'time'. This makes sense to me, people are talking if they like or not like a 'movie' or a 'film'. 'One' amd 'time' "
   ]
  },
  {
   "cell_type": "code",
   "execution_count": 15,
   "metadata": {},
   "outputs": [
    {
     "data": {
      "text/plain": [
       "['movi', 'film', 'one', 'like', 'time']"
      ]
     },
     "execution_count": 15,
     "metadata": {},
     "output_type": "execute_result"
    }
   ],
   "source": [
    "# TODO: Use this space to determine the five most frequently appearing words in the training set.\n",
    " \n",
    "flat_list = [item for sublist in train_X for item in sublist]\n",
    "word_count = dict(Counter(flat_list))\n",
    "sorted_words = [x[0] for x in sorted(word_count.items(), key=lambda x: x[1],reverse=True)]\n",
    "sorted_words[0:5]"
   ]
  },
  {
   "cell_type": "markdown",
   "metadata": {},
   "source": [
    "### Save `word_dict`\n",
    "\n",
    "Later on when we construct an endpoint which processes a submitted review we will need to make use of the `word_dict` which we have created. As such, we will save it to a file now for future use."
   ]
  },
  {
   "cell_type": "code",
   "execution_count": 16,
   "metadata": {},
   "outputs": [],
   "source": [
    "data_dir = '../data/pytorch' # The folder we will use for storing data\n",
    "if not os.path.exists(data_dir): # Make sure that the folder exists\n",
    "    os.makedirs(data_dir)"
   ]
  },
  {
   "cell_type": "code",
   "execution_count": 17,
   "metadata": {},
   "outputs": [],
   "source": [
    "with open(os.path.join(data_dir, 'word_dict.pkl'), \"wb\") as f:\n",
    "    pickle.dump(word_dict, f)"
   ]
  },
  {
   "cell_type": "markdown",
   "metadata": {},
   "source": [
    "### Transform the reviews\n",
    "\n",
    "Now that we have our word dictionary which allows us to transform the words appearing in the reviews into integers, it is time to make use of it and convert our reviews to their integer sequence representation, making sure to pad or truncate to a fixed length, which in our case is `500`."
   ]
  },
  {
   "cell_type": "code",
   "execution_count": 18,
   "metadata": {},
   "outputs": [],
   "source": [
    "def convert_and_pad(word_dict, sentence, pad=500):\n",
    "    NOWORD = 0 # We will use 0 to represent the 'no word' category\n",
    "    INFREQ = 1 # and we use 1 to represent the infrequent words, i.e., words not appearing in word_dict\n",
    "    \n",
    "    working_sentence = [NOWORD] * pad\n",
    "    \n",
    "    for word_index, word in enumerate(sentence[:pad]):\n",
    "        if word in word_dict:\n",
    "            working_sentence[word_index] = word_dict[word]\n",
    "        else:\n",
    "            working_sentence[word_index] = INFREQ\n",
    "            \n",
    "    return working_sentence, min(len(sentence), pad)\n",
    "\n",
    "def convert_and_pad_data(word_dict, data, pad=500):\n",
    "    result = []\n",
    "    lengths = []\n",
    "    \n",
    "    for sentence in data:\n",
    "        converted, leng = convert_and_pad(word_dict, sentence, pad)\n",
    "        result.append(converted)\n",
    "        lengths.append(leng)\n",
    "        \n",
    "    return np.array(result), np.array(lengths)"
   ]
  },
  {
   "cell_type": "code",
   "execution_count": 19,
   "metadata": {},
   "outputs": [],
   "source": [
    "train_X, train_X_len = convert_and_pad_data(word_dict, train_X)\n",
    "test_X, test_X_len = convert_and_pad_data(word_dict, test_X)"
   ]
  },
  {
   "cell_type": "markdown",
   "metadata": {},
   "source": [
    "As a quick check to make sure that things are working as intended, check to see what one of the reviews in the training set looks like after having been processeed. Does this look reasonable? What is the length of a review in the training set?"
   ]
  },
  {
   "cell_type": "code",
   "execution_count": 20,
   "metadata": {},
   "outputs": [
    {
     "name": "stdout",
     "output_type": "stream",
     "text": [
      "Length of rating: \n",
      "\n",
      " 500  \n",
      "\n",
      " test_X[0] : \n",
      " [ 182  120    4  521 3779    1   90    1 1564  154    8   76 1776    1\n",
      "  308 2175   13  308  513  804  982  406    1 1387 1008   94    1    1\n",
      "  130  521    1  220  168  234  839    1  763 1452  354    1 1321   82\n",
      "  264  713 3092 4600    1  349 1560  731 1324 1749    1    1    1  191\n",
      "   61  412 1423 4264  957  180    4  304  395  182    0    0    0    0\n",
      "    0    0    0    0    0    0    0    0    0    0    0    0    0    0\n",
      "    0    0    0    0    0    0    0    0    0    0    0    0    0    0\n",
      "    0    0    0    0    0    0    0    0    0    0    0    0    0    0\n",
      "    0    0    0    0    0    0    0    0    0    0    0    0    0    0\n",
      "    0    0    0    0    0    0    0    0    0    0    0    0    0    0\n",
      "    0    0    0    0    0    0    0    0    0    0    0    0    0    0\n",
      "    0    0    0    0    0    0    0    0    0    0    0    0    0    0\n",
      "    0    0    0    0    0    0    0    0    0    0    0    0    0    0\n",
      "    0    0    0    0    0    0    0    0    0    0    0    0    0    0\n",
      "    0    0    0    0    0    0    0    0    0    0    0    0    0    0\n",
      "    0    0    0    0    0    0    0    0    0    0    0    0    0    0\n",
      "    0    0    0    0    0    0    0    0    0    0    0    0    0    0\n",
      "    0    0    0    0    0    0    0    0    0    0    0    0    0    0\n",
      "    0    0    0    0    0    0    0    0    0    0    0    0    0    0\n",
      "    0    0    0    0    0    0    0    0    0    0    0    0    0    0\n",
      "    0    0    0    0    0    0    0    0    0    0    0    0    0    0\n",
      "    0    0    0    0    0    0    0    0    0    0    0    0    0    0\n",
      "    0    0    0    0    0    0    0    0    0    0    0    0    0    0\n",
      "    0    0    0    0    0    0    0    0    0    0    0    0    0    0\n",
      "    0    0    0    0    0    0    0    0    0    0    0    0    0    0\n",
      "    0    0    0    0    0    0    0    0    0    0    0    0    0    0\n",
      "    0    0    0    0    0    0    0    0    0    0    0    0    0    0\n",
      "    0    0    0    0    0    0    0    0    0    0    0    0    0    0\n",
      "    0    0    0    0    0    0    0    0    0    0    0    0    0    0\n",
      "    0    0    0    0    0    0    0    0    0    0    0    0    0    0\n",
      "    0    0    0    0    0    0    0    0    0    0    0    0    0    0\n",
      "    0    0    0    0    0    0    0    0    0    0    0    0    0    0\n",
      "    0    0    0    0    0    0    0    0    0    0    0    0    0    0\n",
      "    0    0    0    0    0    0    0    0    0    0    0    0    0    0\n",
      "    0    0    0    0    0    0    0    0    0    0    0    0    0    0\n",
      "    0    0    0    0    0    0    0    0    0    0] \n",
      "\n",
      " Rating translated back from numbers to words :\n",
      "\n",
      "  episod seri one hold closest *INFREQUENT origin *INFREQUENT accord book make star trek *INFREQUENT writer guid stori writer state alien creatur matter *INFREQUENT ugli imposs believ *INFREQUENT *INFREQUENT must hold *INFREQUENT human tv view public *INFREQUENT relat devil dark *INFREQUENT resembl noth less larg blob cow *INFREQUENT mother protect babi ball shape *INFREQUENT *INFREQUENT *INFREQUENT keep find throughout mine passag destroy idea one absolut favorit episod *NOWORD *NOWORD *NOWORD *NOWORD *NOWORD *NOWORD *NOWORD *NOWORD *NOWORD *NOWORD *NOWORD *NOWORD *NOWORD *NOWORD *NOWORD *NOWORD *NOWORD *NOWORD *NOWORD *NOWORD *NOWORD *NOWORD *NOWORD *NOWORD *NOWORD *NOWORD *NOWORD *NOWORD *NOWORD *NOWORD *NOWORD *NOWORD *NOWORD *NOWORD *NOWORD *NOWORD *NOWORD *NOWORD *NOWORD *NOWORD *NOWORD *NOWORD *NOWORD *NOWORD *NOWORD *NOWORD *NOWORD *NOWORD *NOWORD *NOWORD *NOWORD *NOWORD *NOWORD *NOWORD *NOWORD *NOWORD *NOWORD *NOWORD *NOWORD *NOWORD *NOWORD *NOWORD *NOWORD *NOWORD *NOWORD *NOWORD *NOWORD *NOWORD *NOWORD *NOWORD *NOWORD *NOWORD *NOWORD *NOWORD *NOWORD *NOWORD *NOWORD *NOWORD *NOWORD *NOWORD *NOWORD *NOWORD *NOWORD *NOWORD *NOWORD *NOWORD *NOWORD *NOWORD *NOWORD *NOWORD *NOWORD *NOWORD *NOWORD *NOWORD *NOWORD *NOWORD *NOWORD *NOWORD *NOWORD *NOWORD *NOWORD *NOWORD *NOWORD *NOWORD *NOWORD *NOWORD *NOWORD *NOWORD *NOWORD *NOWORD *NOWORD *NOWORD *NOWORD *NOWORD *NOWORD *NOWORD *NOWORD *NOWORD *NOWORD *NOWORD *NOWORD *NOWORD *NOWORD *NOWORD *NOWORD *NOWORD *NOWORD *NOWORD *NOWORD *NOWORD *NOWORD *NOWORD *NOWORD *NOWORD *NOWORD *NOWORD *NOWORD *NOWORD *NOWORD *NOWORD *NOWORD *NOWORD *NOWORD *NOWORD *NOWORD *NOWORD *NOWORD *NOWORD *NOWORD *NOWORD *NOWORD *NOWORD *NOWORD *NOWORD *NOWORD *NOWORD *NOWORD *NOWORD *NOWORD *NOWORD *NOWORD *NOWORD *NOWORD *NOWORD *NOWORD *NOWORD *NOWORD *NOWORD *NOWORD *NOWORD *NOWORD *NOWORD *NOWORD *NOWORD *NOWORD *NOWORD *NOWORD *NOWORD *NOWORD *NOWORD *NOWORD *NOWORD *NOWORD *NOWORD *NOWORD *NOWORD *NOWORD *NOWORD *NOWORD *NOWORD *NOWORD *NOWORD *NOWORD *NOWORD *NOWORD *NOWORD *NOWORD *NOWORD *NOWORD *NOWORD *NOWORD *NOWORD *NOWORD *NOWORD *NOWORD *NOWORD *NOWORD *NOWORD *NOWORD *NOWORD *NOWORD *NOWORD *NOWORD *NOWORD *NOWORD *NOWORD *NOWORD *NOWORD *NOWORD *NOWORD *NOWORD *NOWORD *NOWORD *NOWORD *NOWORD *NOWORD *NOWORD *NOWORD *NOWORD *NOWORD *NOWORD *NOWORD *NOWORD *NOWORD *NOWORD *NOWORD *NOWORD *NOWORD *NOWORD *NOWORD *NOWORD *NOWORD *NOWORD *NOWORD *NOWORD *NOWORD *NOWORD *NOWORD *NOWORD *NOWORD *NOWORD *NOWORD *NOWORD *NOWORD *NOWORD *NOWORD *NOWORD *NOWORD *NOWORD *NOWORD *NOWORD *NOWORD *NOWORD *NOWORD *NOWORD *NOWORD *NOWORD *NOWORD *NOWORD *NOWORD *NOWORD *NOWORD *NOWORD *NOWORD *NOWORD *NOWORD *NOWORD *NOWORD *NOWORD *NOWORD *NOWORD *NOWORD *NOWORD *NOWORD *NOWORD *NOWORD *NOWORD *NOWORD *NOWORD *NOWORD *NOWORD *NOWORD *NOWORD *NOWORD *NOWORD *NOWORD *NOWORD *NOWORD *NOWORD *NOWORD *NOWORD *NOWORD *NOWORD *NOWORD *NOWORD *NOWORD *NOWORD *NOWORD *NOWORD *NOWORD *NOWORD *NOWORD *NOWORD *NOWORD *NOWORD *NOWORD *NOWORD *NOWORD *NOWORD *NOWORD *NOWORD *NOWORD *NOWORD *NOWORD *NOWORD *NOWORD *NOWORD *NOWORD *NOWORD *NOWORD *NOWORD *NOWORD *NOWORD *NOWORD *NOWORD *NOWORD *NOWORD *NOWORD *NOWORD *NOWORD *NOWORD *NOWORD *NOWORD *NOWORD *NOWORD *NOWORD *NOWORD *NOWORD *NOWORD *NOWORD *NOWORD *NOWORD *NOWORD *NOWORD *NOWORD *NOWORD *NOWORD *NOWORD *NOWORD *NOWORD *NOWORD *NOWORD *NOWORD *NOWORD *NOWORD *NOWORD *NOWORD *NOWORD *NOWORD *NOWORD *NOWORD *NOWORD *NOWORD *NOWORD *NOWORD *NOWORD *NOWORD *NOWORD *NOWORD *NOWORD *NOWORD *NOWORD *NOWORD *NOWORD *NOWORD *NOWORD *NOWORD *NOWORD *NOWORD *NOWORD *NOWORD *NOWORD *NOWORD *NOWORD *NOWORD *NOWORD *NOWORD *NOWORD *NOWORD *NOWORD *NOWORD *NOWORD *NOWORD *NOWORD *NOWORD *NOWORD *NOWORD *NOWORD *NOWORD *NOWORD *NOWORD *NOWORD *NOWORD *NOWORD *NOWORD *NOWORD *NOWORD *NOWORD *NOWORD *NOWORD *NOWORD *NOWORD *NOWORD *NOWORD *NOWORD *NOWORD *NOWORD *NOWORD *NOWORD *NOWORD *NOWORD *NOWORD *NOWORD *NOWORD \n",
      "\n",
      " Dictionary:\n",
      " {'movi': 2, 'film': 3, 'one': 4, 'like': 5, 'time': 6, 'good': 7, 'make': 8, 'charact': 9, 'get': 10, 'see': 11, 'watch': 12, 'stori': 13, 'even': 14, 'would': 15, 'realli': 16, 'well': 17, 'scene': 18, 'look': 19, 'show': 20, 'much': 21, 'end': 22, 'peopl': 23, 'bad': 24, 'go': 25, 'great': 26, 'also': 27, 'first': 28, 'love': 29, 'think': 30, 'way': 31, 'act': 32, 'play': 33, 'made': 34, 'thing': 35, 'could': 36, 'know': 37, 'say': 38, 'seem': 39, 'work': 40, 'plot': 41, 'two': 42, 'actor': 43, 'year': 44, 'come': 45, 'mani': 46, 'seen': 47, 'take': 48, 'want': 49, 'life': 50, 'never': 51, 'littl': 52, 'best': 53, 'tri': 54, 'man': 55, 'ever': 56, 'give': 57, 'better': 58, 'still': 59, 'perform': 60, 'find': 61, 'feel': 62, 'part': 63, 'back': 64, 'use': 65, 'someth': 66, 'director': 67, 'actual': 68, 'interest': 69, 'lot': 70, 'real': 71, 'old': 72, 'cast': 73, 'though': 74, 'live': 75, 'star': 76, 'enjoy': 77, 'guy': 78, 'anoth': 79, 'new': 80, 'role': 81, 'noth': 82, '10': 83, 'funni': 84, 'music': 85, 'point': 86, 'start': 87, 'set': 88, 'girl': 89, 'origin': 90, 'day': 91, 'world': 92, 'everi': 93, 'believ': 94, 'turn': 95, 'quit': 96, 'us': 97, 'direct': 98, 'thought': 99, 'fact': 100, 'minut': 101, 'horror': 102, 'kill': 103, 'action': 104, 'comedi': 105, 'pretti': 106, 'young': 107, 'wonder': 108, 'happen': 109, 'around': 110, 'got': 111, 'effect': 112, 'right': 113, 'long': 114, 'howev': 115, 'big': 116, 'line': 117, 'famili': 118, 'enough': 119, 'seri': 120, 'may': 121, 'need': 122, 'fan': 123, 'bit': 124, 'script': 125, 'beauti': 126, 'person': 127, 'becom': 128, 'without': 129, 'must': 130, 'alway': 131, 'friend': 132, 'tell': 133, 'reason': 134, 'saw': 135, 'last': 136, 'final': 137, 'kid': 138, 'almost': 139, 'put': 140, 'least': 141, 'sure': 142, 'done': 143, 'whole': 144, 'place': 145, 'complet': 146, 'kind': 147, 'expect': 148, 'differ': 149, 'shot': 150, 'far': 151, 'mean': 152, 'anyth': 153, 'book': 154, 'laugh': 155, 'might': 156, 'name': 157, 'sinc': 158, 'begin': 159, '2': 160, 'probabl': 161, 'woman': 162, 'help': 163, 'entertain': 164, 'let': 165, 'screen': 166, 'call': 167, 'tv': 168, 'moment': 169, 'away': 170, 'read': 171, 'yet': 172, 'rather': 173, 'worst': 174, 'run': 175, 'fun': 176, 'lead': 177, 'hard': 178, 'audienc': 179, 'idea': 180, 'anyon': 181, 'episod': 182, 'american': 183, 'found': 184, 'appear': 185, 'bore': 186, 'especi': 187, 'although': 188, 'hope': 189, 'cours': 190, 'keep': 191, 'anim': 192, 'job': 193, 'goe': 194, 'move': 195, 'sens': 196, 'version': 197, 'dvd': 198, 'war': 199, 'money': 200, 'someon': 201, 'mind': 202, 'mayb': 203, 'problem': 204, 'true': 205, 'hous': 206, 'everyth': 207, 'nice': 208, 'second': 209, 'rate': 210, 'three': 211, 'night': 212, 'follow': 213, 'face': 214, 'recommend': 215, 'main': 216, 'product': 217, 'worth': 218, 'leav': 219, 'human': 220, 'special': 221, 'excel': 222, 'togeth': 223, 'wast': 224, 'everyon': 225, 'sound': 226, 'john': 227, 'hand': 228, '1': 229, 'father': 230, 'later': 231, 'eye': 232, 'said': 233, 'view': 234, 'instead': 235, 'review': 236, 'boy': 237, 'high': 238, 'hour': 239, 'miss': 240, 'classic': 241, 'talk': 242, 'wife': 243, 'understand': 244, 'left': 245, 'care': 246, 'black': 247, 'death': 248, 'open': 249, 'murder': 250, 'write': 251, 'half': 252, 'head': 253, 'rememb': 254, 'chang': 255, 'viewer': 256, 'fight': 257, 'gener': 258, 'surpris': 259, 'includ': 260, 'short': 261, 'die': 262, 'fall': 263, 'less': 264, 'els': 265, 'entir': 266, 'piec': 267, 'involv': 268, 'pictur': 269, 'simpli': 270, 'top': 271, 'power': 272, 'home': 273, 'total': 274, 'usual': 275, 'budget': 276, 'attempt': 277, 'suppos': 278, 'releas': 279, 'hollywood': 280, 'terribl': 281, 'song': 282, 'men': 283, 'possibl': 284, 'featur': 285, 'portray': 286, 'disappoint': 287, '3': 288, 'poor': 289, 'coupl': 290, 'stupid': 291, 'camera': 292, 'dead': 293, 'wrong': 294, 'produc': 295, 'low': 296, 'either': 297, 'video': 298, 'aw': 299, 'definit': 300, 'except': 301, 'rest': 302, 'given': 303, 'absolut': 304, 'women': 305, 'lack': 306, 'word': 307, 'writer': 308, 'titl': 309, 'talent': 310, 'decid': 311, 'full': 312, 'perfect': 313, 'along': 314, 'style': 315, 'close': 316, 'truli': 317, 'school': 318, 'emot': 319, 'save': 320, 'sex': 321, 'age': 322, 'next': 323, 'bring': 324, 'mr': 325, 'case': 326, 'killer': 327, 'heart': 328, 'comment': 329, 'sort': 330, 'creat': 331, 'perhap': 332, 'came': 333, 'brother': 334, 'sever': 335, 'joke': 336, 'art': 337, 'dialogu': 338, 'game': 339, 'small': 340, 'base': 341, 'flick': 342, 'written': 343, 'sequenc': 344, 'meet': 345, 'earli': 346, 'often': 347, 'other': 348, 'mother': 349, 'develop': 350, 'humor': 351, 'actress': 352, 'consid': 353, 'dark': 354, 'guess': 355, 'amaz': 356, 'unfortun': 357, 'light': 358, 'lost': 359, 'exampl': 360, 'cinema': 361, 'drama': 362, 'ye': 363, 'white': 364, 'experi': 365, 'imagin': 366, 'mention': 367, 'stop': 368, 'natur': 369, 'forc': 370, 'manag': 371, 'felt': 372, 'cut': 373, 'present': 374, 'children': 375, 'fail': 376, 'son': 377, 'qualiti': 378, 'car': 379, 'support': 380, 'ask': 381, 'hit': 382, 'side': 383, 'voic': 384, 'extrem': 385, 'impress': 386, 'evil': 387, 'wors': 388, 'stand': 389, 'went': 390, 'certainli': 391, 'basic': 392, 'oh': 393, 'overal': 394, 'favorit': 395, 'horribl': 396, 'mysteri': 397, 'number': 398, 'type': 399, 'danc': 400, 'wait': 401, 'hero': 402, 'alreadi': 403, '5': 404, 'learn': 405, 'matter': 406, '4': 407, 'michael': 408, 'genr': 409, 'fine': 410, 'despit': 411, 'throughout': 412, 'walk': 413, 'success': 414, 'histori': 415, 'question': 416, 'zombi': 417, 'town': 418, 'relationship': 419, 'realiz': 420, 'child': 421, 'past': 422, 'daughter': 423, 'late': 424, 'b': 425, 'wish': 426, 'credit': 427, 'hate': 428, 'event': 429, 'theme': 430, 'touch': 431, 'citi': 432, 'today': 433, 'sometim': 434, 'behind': 435, 'god': 436, 'twist': 437, 'sit': 438, 'deal': 439, 'stay': 440, 'annoy': 441, 'abl': 442, 'rent': 443, 'pleas': 444, 'edit': 445, 'blood': 446, 'deserv': 447, 'anyway': 448, 'comic': 449, 'appar': 450, 'soon': 451, 'gave': 452, 'etc': 453, 'level': 454, 'slow': 455, 'chanc': 456, 'score': 457, 'bodi': 458, 'brilliant': 459, 'incred': 460, 'figur': 461, 'situat': 462, 'major': 463, 'self': 464, 'stuff': 465, 'decent': 466, 'element': 467, 'return': 468, 'dream': 469, 'obvious': 470, 'order': 471, 'continu': 472, 'pace': 473, 'ridicul': 474, 'happi': 475, 'group': 476, 'highli': 477, 'add': 478, 'thank': 479, 'ladi': 480, 'novel': 481, 'pain': 482, 'speak': 483, 'career': 484, 'shoot': 485, 'strang': 486, 'heard': 487, 'sad': 488, 'polic': 489, 'husband': 490, 'import': 491, 'break': 492, 'took': 493, 'cannot': 494, 'strong': 495, 'robert': 496, 'predict': 497, 'violenc': 498, 'hilari': 499, 'recent': 500, 'countri': 501, 'known': 502, 'particularli': 503, 'pick': 504, 'documentari': 505, 'season': 506, 'critic': 507, 'jame': 508, 'compar': 509, 'alon': 510, 'obviou': 511, 'told': 512, 'state': 513, 'rock': 514, 'visual': 515, 'offer': 516, 'exist': 517, 'theater': 518, 'opinion': 519, 'gore': 520, 'hold': 521, 'crap': 522, 'result': 523, 'hear': 524, 'realiti': 525, 'room': 526, 'effort': 527, 'clich': 528, 'thriller': 529, 'caus': 530, 'sequel': 531, 'explain': 532, 'serious': 533, 'king': 534, 'local': 535, 'ago': 536, 'none': 537, 'hell': 538, 'note': 539, 'allow': 540, 'david': 541, 'sister': 542, 'simpl': 543, 'femal': 544, 'deliv': 545, 'ok': 546, 'class': 547, 'convinc': 548, 'check': 549, 'suspens': 550, 'win': 551, 'oscar': 552, 'buy': 553, 'huge': 554, 'valu': 555, 'sexual': 556, 'cool': 557, 'scari': 558, 'excit': 559, 'similar': 560, 'provid': 561, 'apart': 562, 'exactli': 563, 'avoid': 564, 'shown': 565, 'seriou': 566, 'english': 567, 'taken': 568, 'whose': 569, 'cinematographi': 570, 'shock': 571, 'polit': 572, 'spoiler': 573, 'offic': 574, 'across': 575, 'middl': 576, 'street': 577, 'pass': 578, 'messag': 579, 'charm': 580, 'somewhat': 581, 'silli': 582, 'modern': 583, 'confus': 584, 'filmmak': 585, 'form': 586, 'tale': 587, 'singl': 588, 'jack': 589, 'mostli': 590, 'william': 591, 'attent': 592, 'carri': 593, 'sing': 594, 'five': 595, 'subject': 596, 'prove': 597, 'richard': 598, 'team': 599, 'stage': 600, 'unlik': 601, 'cop': 602, 'georg': 603, 'televis': 604, 'monster': 605, 'earth': 606, 'villain': 607, 'cover': 608, 'pay': 609, 'marri': 610, 'toward': 611, 'build': 612, 'pull': 613, 'parent': 614, 'due': 615, 'respect': 616, 'fill': 617, 'four': 618, 'dialog': 619, 'remind': 620, 'futur': 621, 'typic': 622, 'weak': 623, '7': 624, 'cheap': 625, 'intellig': 626, 'atmospher': 627, 'british': 628, '80': 629, 'clearli': 630, 'non': 631, 'paul': 632, 'dog': 633, 'artist': 634, '8': 635, 'fast': 636, 'knew': 637, 'crime': 638, 'easili': 639, 'escap': 640, 'doubt': 641, 'adult': 642, 'detail': 643, 'date': 644, 'romant': 645, 'member': 646, 'fire': 647, 'drive': 648, 'gun': 649, 'straight': 650, 'beyond': 651, 'fit': 652, 'attack': 653, 'imag': 654, 'upon': 655, 'posit': 656, 'whether': 657, 'fantast': 658, 'peter': 659, 'aspect': 660, 'captur': 661, 'appreci': 662, 'ten': 663, 'plan': 664, 'discov': 665, 'remain': 666, 'period': 667, 'near': 668, 'air': 669, 'realist': 670, 'mark': 671, 'red': 672, 'dull': 673, 'adapt': 674, 'within': 675, 'spend': 676, 'lose': 677, 'color': 678, 'materi': 679, 'chase': 680, 'mari': 681, 'storylin': 682, 'forget': 683, 'bunch': 684, 'clear': 685, 'lee': 686, 'victim': 687, 'nearli': 688, 'box': 689, 'york': 690, 'match': 691, 'inspir': 692, 'mess': 693, 'finish': 694, 'standard': 695, 'easi': 696, 'truth': 697, 'busi': 698, 'suffer': 699, 'space': 700, 'dramat': 701, 'bill': 702, 'western': 703, 'e': 704, 'list': 705, 'battl': 706, 'notic': 707, 'de': 708, 'french': 709, 'ad': 710, '9': 711, 'tom': 712, 'larg': 713, 'among': 714, 'eventu': 715, 'accept': 716, 'train': 717, 'agre': 718, 'soundtrack': 719, 'spirit': 720, 'third': 721, 'teenag': 722, 'soldier': 723, 'adventur': 724, 'drug': 725, 'suggest': 726, 'famou': 727, 'sorri': 728, 'normal': 729, 'cri': 730, 'babi': 731, 'ultim': 732, 'troubl': 733, 'contain': 734, 'certain': 735, 'cultur': 736, 'romanc': 737, 'rare': 738, 'lame': 739, 'somehow': 740, 'mix': 741, 'disney': 742, 'gone': 743, 'cartoon': 744, 'student': 745, 'reveal': 746, 'fear': 747, 'suck': 748, 'kept': 749, 'attract': 750, 'appeal': 751, 'premis': 752, 'secret': 753, 'greatest': 754, 'design': 755, 'shame': 756, 'throw': 757, 'scare': 758, 'copi': 759, 'wit': 760, 'america': 761, 'admit': 762, 'relat': 763, 'brought': 764, 'particular': 765, 'screenplay': 766, 'whatev': 767, 'pure': 768, '70': 769, 'harri': 770, 'averag': 771, 'master': 772, 'describ': 773, 'treat': 774, 'male': 775, '20': 776, 'fantasi': 777, 'issu': 778, 'warn': 779, 'inde': 780, 'forward': 781, 'background': 782, 'free': 783, 'project': 784, 'japanes': 785, 'memor': 786, 'poorli': 787, 'award': 788, 'locat': 789, 'amus': 790, 'potenti': 791, 'struggl': 792, 'magic': 793, 'weird': 794, 'societi': 795, 'okay': 796, 'accent': 797, 'doctor': 798, 'imdb': 799, 'hot': 800, 'water': 801, 'express': 802, '30': 803, 'alien': 804, 'dr': 805, 'odd': 806, 'choic': 807, 'crazi': 808, 'fiction': 809, 'studio': 810, 'control': 811, 'becam': 812, 'masterpiec': 813, 'fli': 814, 'difficult': 815, 'joe': 816, 'scream': 817, 'costum': 818, 'lover': 819, 'refer': 820, 'uniqu': 821, 'remak': 822, 'girlfriend': 823, 'vampir': 824, 'prison': 825, 'execut': 826, 'wear': 827, 'jump': 828, 'unless': 829, 'wood': 830, 'creepi': 831, 'cheesi': 832, 'superb': 833, 'otherwis': 834, 'parti': 835, 'roll': 836, 'ghost': 837, 'mad': 838, 'public': 839, 'depict': 840, 'earlier': 841, 'moral': 842, 'badli': 843, 'week': 844, 'jane': 845, 'dumb': 846, 'fi': 847, 'grow': 848, 'flaw': 849, 'deep': 850, 'sci': 851, 'cat': 852, 'maker': 853, 'connect': 854, 'older': 855, 'footag': 856, 'bother': 857, 'plenti': 858, 'outsid': 859, 'stick': 860, 'gay': 861, 'catch': 862, 'co': 863, 'plu': 864, 'popular': 865, 'equal': 866, 'social': 867, 'disturb': 868, 'quickli': 869, 'perfectli': 870, 'dress': 871, 'era': 872, '90': 873, 'mistak': 874, 'lie': 875, 'previou': 876, 'ride': 877, 'combin': 878, 'band': 879, 'concept': 880, 'answer': 881, 'rich': 882, 'surviv': 883, 'front': 884, 'sweet': 885, 'christma': 886, 'insid': 887, 'eat': 888, 'bare': 889, 'concern': 890, 'beat': 891, 'listen': 892, 'ben': 893, 'c': 894, 'term': 895, 'serv': 896, 'la': 897, 'german': 898, 'meant': 899, 'hardli': 900, 'stereotyp': 901, 'innoc': 902, 'law': 903, 'desper': 904, 'promis': 905, 'memori': 906, 'intent': 907, 'cute': 908, 'steal': 909, 'variou': 910, 'inform': 911, 'brain': 912, 'post': 913, 'tone': 914, 'island': 915, 'amount': 916, 'track': 917, 'compani': 918, 'nuditi': 919, 'store': 920, 'claim': 921, '50': 922, 'hair': 923, 'flat': 924, 'univers': 925, 'land': 926, 'kick': 927, 'fairli': 928, 'danger': 929, 'scott': 930, 'player': 931, 'step': 932, 'plain': 933, 'crew': 934, 'toni': 935, 'share': 936, 'centuri': 937, 'tast': 938, 'achiev': 939, 'engag': 940, 'travel': 941, 'cold': 942, 'record': 943, 'rip': 944, 'suit': 945, 'sadli': 946, 'manner': 947, 'wrote': 948, 'spot': 949, 'tension': 950, 'intens': 951, 'fascin': 952, 'familiar': 953, 'depth': 954, 'burn': 955, 'remark': 956, 'destroy': 957, 'histor': 958, 'sleep': 959, 'purpos': 960, 'languag': 961, 'ignor': 962, 'ruin': 963, 'delight': 964, 'italian': 965, 'unbeliev': 966, 'soul': 967, 'collect': 968, 'abil': 969, 'detect': 970, 'clever': 971, 'violent': 972, 'rape': 973, 'reach': 974, 'door': 975, 'scienc': 976, 'trash': 977, 'liter': 978, 'caught': 979, 'reveng': 980, 'commun': 981, 'creatur': 982, 'trip': 983, 'approach': 984, 'fashion': 985, 'intrigu': 986, 'skill': 987, 'introduc': 988, 'paint': 989, 'complex': 990, 'channel': 991, 'camp': 992, 'christian': 993, 'hole': 994, 'extra': 995, 'limit': 996, 'mental': 997, 'immedi': 998, 'ann': 999, '6': 1000, 'mere': 1001, 'comput': 1002, 'slightli': 1003, 'million': 1004, 'conclus': 1005, 'slasher': 1006, 'suddenli': 1007, 'imposs': 1008, 'neither': 1009, 'teen': 1010, 'crimin': 1011, 'nation': 1012, 'spent': 1013, 'physic': 1014, 'respons': 1015, 'planet': 1016, 'receiv': 1017, 'fake': 1018, 'blue': 1019, 'sick': 1020, 'bizarr': 1021, 'embarrass': 1022, 'indian': 1023, '15': 1024, 'ring': 1025, 'pop': 1026, 'drop': 1027, 'drag': 1028, 'haunt': 1029, 'suspect': 1030, 'pointless': 1031, 'search': 1032, 'edg': 1033, 'handl': 1034, 'common': 1035, 'biggest': 1036, 'arriv': 1037, 'hurt': 1038, 'faith': 1039, 'technic': 1040, 'angel': 1041, 'genuin': 1042, 'dad': 1043, 'awesom': 1044, 'f': 1045, 'solid': 1046, 'van': 1047, 'focu': 1048, 'former': 1049, 'colleg': 1050, 'count': 1051, 'heavi': 1052, 'tear': 1053, 'rais': 1054, 'wall': 1055, 'younger': 1056, 'laughabl': 1057, 'visit': 1058, 'fair': 1059, 'sign': 1060, 'excus': 1061, 'cult': 1062, 'key': 1063, 'motion': 1064, 'tough': 1065, 'super': 1066, 'desir': 1067, 'addit': 1068, 'stun': 1069, 'cloth': 1070, 'exploit': 1071, 'tortur': 1072, 'smith': 1073, 'davi': 1074, 'race': 1075, 'cross': 1076, 'author': 1077, 'jim': 1078, 'minor': 1079, 'focus': 1080, 'consist': 1081, 'compel': 1082, 'pathet': 1083, 'commit': 1084, 'chemistri': 1085, 'park': 1086, 'frank': 1087, 'tradit': 1088, 'obsess': 1089, 'grade': 1090, '60': 1091, 'asid': 1092, 'brutal': 1093, 'somewher': 1094, 'steve': 1095, 'u': 1096, 'grant': 1097, 'depress': 1098, 'rule': 1099, 'explor': 1100, 'opportun': 1101, 'besid': 1102, 'honest': 1103, 'anti': 1104, 'dub': 1105, 'intend': 1106, 'trailer': 1107, 'bar': 1108, 'west': 1109, 'regard': 1110, 'longer': 1111, 'scientist': 1112, 'judg': 1113, 'decad': 1114, 'silent': 1115, 'armi': 1116, 'creativ': 1117, 'wild': 1118, 'south': 1119, 'g': 1120, 'stewart': 1121, 'draw': 1122, 'road': 1123, 'govern': 1124, 'ex': 1125, 'boss': 1126, 'practic': 1127, 'club': 1128, 'festiv': 1129, 'surprisingli': 1130, 'motiv': 1131, 'gang': 1132, 'green': 1133, 'page': 1134, 'redeem': 1135, 'london': 1136, 'idiot': 1137, 'machin': 1138, 'aliv': 1139, 'display': 1140, 'militari': 1141, 'thrill': 1142, 'repeat': 1143, 'nobodi': 1144, 'yeah': 1145, '100': 1146, 'folk': 1147, '40': 1148, 'garbag': 1149, 'journey': 1150, 'ground': 1151, 'tire': 1152, 'smile': 1153, 'mood': 1154, 'bought': 1155, 'stone': 1156, 'sam': 1157, 'cost': 1158, 'mouth': 1159, 'noir': 1160, 'terrif': 1161, 'agent': 1162, 'utterli': 1163, 'requir': 1164, 'honestli': 1165, 'sexi': 1166, 'area': 1167, 'geniu': 1168, 'report': 1169, 'glad': 1170, 'enter': 1171, 'humour': 1172, 'investig': 1173, 'serial': 1174, 'narr': 1175, 'occasion': 1176, 'passion': 1177, 'marriag': 1178, 'climax': 1179, 'studi': 1180, 'industri': 1181, 'demon': 1182, 'ship': 1183, 'center': 1184, 'charli': 1185, 'nowher': 1186, 'bear': 1187, 'loos': 1188, 'hors': 1189, 'hang': 1190, 'wow': 1191, 'graphic': 1192, 'giant': 1193, 'admir': 1194, 'send': 1195, 'damn': 1196, 'loud': 1197, 'nake': 1198, 'subtl': 1199, 'rel': 1200, 'profession': 1201, 'blow': 1202, 'bottom': 1203, 'batman': 1204, 'insult': 1205, 'kelli': 1206, 'r': 1207, 'doubl': 1208, 'boyfriend': 1209, 'initi': 1210, 'frame': 1211, 'gem': 1212, 'opera': 1213, 'affect': 1214, 'drawn': 1215, 'challeng': 1216, 'church': 1217, 'cinemat': 1218, 'nightmar': 1219, 'fulli': 1220, 'seek': 1221, 'evid': 1222, 'j': 1223, 'l': 1224, 'arm': 1225, 'conflict': 1226, 'essenti': 1227, 'wind': 1228, 'henri': 1229, 'christoph': 1230, 'grace': 1231, 'assum': 1232, 'witch': 1233, 'narrat': 1234, 'push': 1235, 'hunt': 1236, 'chri': 1237, 'wise': 1238, 'repres': 1239, 'month': 1240, 'nomin': 1241, 'affair': 1242, 'avail': 1243, 'hide': 1244, 'sceneri': 1245, 'justic': 1246, 'smart': 1247, 'thu': 1248, 'bond': 1249, 'interview': 1250, 'outstand': 1251, 'flashback': 1252, 'presenc': 1253, 'satisfi': 1254, 'constantli': 1255, 'central': 1256, 'bed': 1257, 'iron': 1258, 'sell': 1259, 'content': 1260, 'everybodi': 1261, 'gag': 1262, 'hotel': 1263, 'slowli': 1264, 'hire': 1265, 'system': 1266, 'individu': 1267, 'adam': 1268, 'hey': 1269, 'thrown': 1270, 'charl': 1271, 'mediocr': 1272, 'jone': 1273, 'allen': 1274, 'lesson': 1275, 'ray': 1276, 'billi': 1277, 'cameo': 1278, 'photographi': 1279, 'pari': 1280, 'fellow': 1281, 'strike': 1282, 'rise': 1283, 'absurd': 1284, 'brief': 1285, 'independ': 1286, 'neg': 1287, 'impact': 1288, 'phone': 1289, 'model': 1290, 'ill': 1291, 'born': 1292, 'spoil': 1293, 'angl': 1294, 'fresh': 1295, 'abus': 1296, 'likabl': 1297, 'hill': 1298, 'discuss': 1299, 'sight': 1300, 'ahead': 1301, 'photograph': 1302, 'sent': 1303, 'shine': 1304, 'logic': 1305, 'blame': 1306, 'occur': 1307, 'bruce': 1308, 'mainli': 1309, 'commerci': 1310, 'skip': 1311, 'forev': 1312, 'teacher': 1313, 'segment': 1314, 'held': 1315, 'surround': 1316, 'zero': 1317, 'blond': 1318, 'trap': 1319, 'satir': 1320, 'resembl': 1321, 'summer': 1322, 'six': 1323, 'ball': 1324, 'fool': 1325, 'queen': 1326, 'tragedi': 1327, 'twice': 1328, 'sub': 1329, 'pack': 1330, 'reaction': 1331, 'bomb': 1332, 'will': 1333, 'protagonist': 1334, 'hospit': 1335, 'sport': 1336, 'mile': 1337, 'mom': 1338, 'jerri': 1339, 'vote': 1340, 'drink': 1341, 'trust': 1342, 'encount': 1343, 'plane': 1344, 'al': 1345, 'program': 1346, 'current': 1347, 'station': 1348, 'celebr': 1349, 'choos': 1350, 'martin': 1351, 'join': 1352, 'field': 1353, 'lord': 1354, 'round': 1355, 'tragic': 1356, 'favourit': 1357, 'jean': 1358, 'vision': 1359, 'robot': 1360, 'arthur': 1361, 'tie': 1362, 'fortun': 1363, 'roger': 1364, 'random': 1365, 'psycholog': 1366, 'dread': 1367, 'intern': 1368, 'nonsens': 1369, 'epic': 1370, 'improv': 1371, 'prefer': 1372, 'pleasur': 1373, 'formula': 1374, 'highlight': 1375, 'legend': 1376, 'tape': 1377, '11': 1378, 'dollar': 1379, 'wide': 1380, 'gorgeou': 1381, 'object': 1382, 'thin': 1383, 'fox': 1384, 'porn': 1385, 'influenc': 1386, 'ugli': 1387, 'buddi': 1388, 'prepar': 1389, 'ii': 1390, 'nasti': 1391, 'warm': 1392, 'supposedli': 1393, 'reflect': 1394, 'progress': 1395, 'worthi': 1396, 'youth': 1397, 'length': 1398, 'latter': 1399, 'unusu': 1400, 'crash': 1401, 'superior': 1402, 'shop': 1403, 'childhood': 1404, 'seven': 1405, 'remot': 1406, 'theatr': 1407, 'funniest': 1408, 'paid': 1409, 'pilot': 1410, 'disgust': 1411, 'fell': 1412, 'castl': 1413, 'convers': 1414, 'trick': 1415, 'disast': 1416, 'establish': 1417, 'gangster': 1418, 'rob': 1419, 'ident': 1420, 'suicid': 1421, 'heaven': 1422, 'mine': 1423, 'disappear': 1424, 'mask': 1425, 'forgotten': 1426, 'decis': 1427, 'singer': 1428, 'heroin': 1429, 'tend': 1430, 'brian': 1431, 'partner': 1432, 'alan': 1433, 'recogn': 1434, 'desert': 1435, 'sky': 1436, 'stuck': 1437, 'p': 1438, 'ms': 1439, 'thoroughli': 1440, 'replac': 1441, 'accur': 1442, 'market': 1443, 'seemingli': 1444, 'clue': 1445, 'uncl': 1446, 'commentari': 1447, 'eddi': 1448, 'andi': 1449, 'danni': 1450, 'jackson': 1451, 'devil': 1452, 'therefor': 1453, 'refus': 1454, 'that': 1455, 'pair': 1456, 'fate': 1457, 'ed': 1458, 'fault': 1459, 'accid': 1460, 'unit': 1461, 'river': 1462, 'afraid': 1463, 'tune': 1464, 'stephen': 1465, 'clean': 1466, 'hidden': 1467, 'russian': 1468, 'test': 1469, 'readi': 1470, 'instanc': 1471, 'quick': 1472, 'captain': 1473, 'irrit': 1474, 'convey': 1475, 'european': 1476, 'frustrat': 1477, 'daniel': 1478, 'insan': 1479, 'rescu': 1480, 'food': 1481, 'chines': 1482, '1950': 1483, 'wed': 1484, 'lock': 1485, 'angri': 1486, 'dirti': 1487, 'joy': 1488, 'steven': 1489, 'price': 1490, 'bland': 1491, 'cage': 1492, 'anymor': 1493, 'rang': 1494, 'wooden': 1495, 'jason': 1496, 'rush': 1497, 'news': 1498, 'n': 1499, 'worri': 1500, 'led': 1501, 'twenti': 1502, '12': 1503, 'board': 1504, 'martial': 1505, 'transform': 1506, 'symbol': 1507, 'hunter': 1508, 'cgi': 1509, 'johnni': 1510, 'x': 1511, 'piti': 1512, 'onto': 1513, 'invent': 1514, 'sentiment': 1515, 'attitud': 1516, 'explan': 1517, 'process': 1518, 'awar': 1519, 'owner': 1520, 'aim': 1521, 'necessari': 1522, 'energi': 1523, 'floor': 1524, 'target': 1525, 'favor': 1526, 'opposit': 1527, 'religi': 1528, 'chick': 1529, 'window': 1530, 'insight': 1531, 'blind': 1532, 'movement': 1533, 'possess': 1534, 'deepli': 1535, 'mountain': 1536, 'research': 1537, 'comparison': 1538, 'whatsoev': 1539, 'comed': 1540, 'grand': 1541, 'rain': 1542, 'mid': 1543, 'shadow': 1544, 'began': 1545, 'bank': 1546, 'parodi': 1547, 'princ': 1548, 'friendship': 1549, 'pre': 1550, 'credibl': 1551, 'weapon': 1552, 'taylor': 1553, 'flesh': 1554, 'dougla': 1555, 'teach': 1556, 'hint': 1557, 'bloodi': 1558, 'terror': 1559, 'protect': 1560, 'marvel': 1561, 'drunk': 1562, 'anybodi': 1563, 'accord': 1564, 'load': 1565, 'leader': 1566, 'superman': 1567, 'watchabl': 1568, 'freddi': 1569, 'brown': 1570, 'hitler': 1571, 'tim': 1572, 'seat': 1573, 'jeff': 1574, 'appropri': 1575, 'unknown': 1576, 'charg': 1577, 'knock': 1578, 'villag': 1579, 'keaton': 1580, 'enemi': 1581, 'media': 1582, 'unnecessari': 1583, 'empti': 1584, 'england': 1585, 'perspect': 1586, 'dare': 1587, 'strength': 1588, 'buck': 1589, 'craft': 1590, 'wave': 1591, 'utter': 1592, 'ford': 1593, 'contrast': 1594, 'kiss': 1595, 'nativ': 1596, 'correct': 1597, 'distract': 1598, 'speed': 1599, 'knowledg': 1600, 'anywher': 1601, 'chill': 1602, 'soap': 1603, 'magnific': 1604, 'nazi': 1605, '1980': 1606, 'ice': 1607, 'breath': 1608, 'fred': 1609, 'mission': 1610, 'jr': 1611, 'crowd': 1612, 'moon': 1613, 'joan': 1614, '000': 1615, 'soft': 1616, 'kate': 1617, 'frighten': 1618, 'dick': 1619, 'dan': 1620, 'hundr': 1621, 'nick': 1622, 'dozen': 1623, 'somebodi': 1624, 'radio': 1625, 'simon': 1626, 'loss': 1627, 'thousand': 1628, 'academi': 1629, 'andrew': 1630, 'shakespear': 1631, 'root': 1632, 'quot': 1633, 'sum': 1634, 'vehicl': 1635, 'account': 1636, 'leg': 1637, 'convent': 1638, '1970': 1639, 'behavior': 1640, 'regular': 1641, 'gold': 1642, 'worker': 1643, 'demand': 1644, 'pretenti': 1645, 'compet': 1646, 'japan': 1647, 'notabl': 1648, 'stretch': 1649, 'explos': 1650, 'interpret': 1651, 'lynch': 1652, 'candi': 1653, 'privat': 1654, 'constant': 1655, 'debut': 1656, 'tarzan': 1657, 'translat': 1658, 'sea': 1659, 'prais': 1660, 'spi': 1661, 'revolv': 1662, 'quiet': 1663, 'ass': 1664, 'failur': 1665, 'threaten': 1666, 'franc': 1667, 'sat': 1668, 'jesu': 1669, 'technolog': 1670, 'aid': 1671, 'toy': 1672, 'kevin': 1673, 'higher': 1674, 'met': 1675, 'punch': 1676, 'vh': 1677, 'abandon': 1678, 'mike': 1679, 'interact': 1680, 'bet': 1681, 'confront': 1682, 'separ': 1683, 'command': 1684, 'gotten': 1685, 'site': 1686, 'servic': 1687, 'techniqu': 1688, 'belong': 1689, 'recal': 1690, 'stunt': 1691, 'bug': 1692, 'freak': 1693, 'foot': 1694, 'cabl': 1695, 'capabl': 1696, 'bright': 1697, 'jimmi': 1698, 'african': 1699, 'fu': 1700, 'fat': 1701, 'succeed': 1702, 'presid': 1703, 'stock': 1704, 'clark': 1705, 'boat': 1706, 'gene': 1707, 'structur': 1708, 'spanish': 1709, 'paper': 1710, 'kidnap': 1711, 'belief': 1712, 'factor': 1713, 'whilst': 1714, 'educ': 1715, 'attend': 1716, 'witti': 1717, 'bob': 1718, 'tree': 1719, 'realism': 1720, 'complic': 1721, 'realis': 1722, 'santa': 1723, 'assist': 1724, 'finest': 1725, 'broken': 1726, 'up': 1727, 'observ': 1728, 'v': 1729, 'smoke': 1730, 'depart': 1731, 'determin': 1732, 'hat': 1733, 'routin': 1734, 'fame': 1735, 'lewi': 1736, 'domin': 1737, 'rubbish': 1738, 'oper': 1739, 'advanc': 1740, 'foreign': 1741, 'hook': 1742, 'lone': 1743, 'morgan': 1744, 'safe': 1745, 'kinda': 1746, 'numer': 1747, 'rank': 1748, 'shape': 1749, 'washington': 1750, 'civil': 1751, 'werewolf': 1752, 'shallow': 1753, 'rose': 1754, 'vs': 1755, 'morn': 1756, 'gari': 1757, 'ordinari': 1758, 'accomplish': 1759, 'winner': 1760, 'kong': 1761, 'peac': 1762, 'grab': 1763, 'virtual': 1764, 'whenev': 1765, 'luck': 1766, 'offens': 1767, 'h': 1768, 'complain': 1769, 'bigger': 1770, 'welcom': 1771, 'activ': 1772, 'contriv': 1773, 'unfunni': 1774, 'patient': 1775, 'trek': 1776, 'pretend': 1777, 'dimension': 1778, 'con': 1779, 'flash': 1780, 'wake': 1781, 'code': 1782, 'lesbian': 1783, 'eric': 1784, 'dri': 1785, 'cain': 1786, 'dancer': 1787, 'manipul': 1788, 'statu': 1789, 'corrupt': 1790, 'albert': 1791, 'guard': 1792, 'signific': 1793, 'speech': 1794, 'context': 1795, 'sourc': 1796, 'gain': 1797, 'awkward': 1798, 'clip': 1799, 'anthoni': 1800, 'sean': 1801, 'corni': 1802, '13': 1803, 'psycho': 1804, 'religion': 1805, 'theatric': 1806, 'reli': 1807, 'priest': 1808, 'advic': 1809, 'w': 1810, 'curiou': 1811, 'flow': 1812, 'addict': 1813, 'specif': 1814, 'secur': 1815, 'jennif': 1816, 'asian': 1817, 'howard': 1818, 'skin': 1819, 'organ': 1820, 'comfort': 1821, 'golden': 1822, 'promot': 1823, 'core': 1824, 'luke': 1825, 'lucki': 1826, 'cheat': 1827, 'cash': 1828, 'lower': 1829, 'associ': 1830, 'dislik': 1831, 'wing': 1832, 'frequent': 1833, 'spell': 1834, 'devic': 1835, 'frankli': 1836, 'balanc': 1837, 'degre': 1838, 'contribut': 1839, 'regret': 1840, 'sake': 1841, 'print': 1842, 'lake': 1843, 'forgiv': 1844, 'mass': 1845, 'thoma': 1846, 'betti': 1847, 'crack': 1848, 'unexpect': 1849, 'gordon': 1850, 'invit': 1851, 'depend': 1852, 'categori': 1853, 'amateur': 1854, 'unfold': 1855, 'grown': 1856, 'construct': 1857, 'honor': 1858, 'anna': 1859, 'condit': 1860, 'intellectu': 1861, 'grew': 1862, 'matur': 1863, 'walter': 1864, 'spectacular': 1865, 'sudden': 1866, 'veteran': 1867, 'mirror': 1868, 'sole': 1869, 'demonstr': 1870, 'liner': 1871, 'meanwhil': 1872, 'freedom': 1873, 'card': 1874, 'robin': 1875, 'gift': 1876, 'overli': 1877, 'grip': 1878, 'experienc': 1879, 'theori': 1880, 'section': 1881, 'subtitl': 1882, 'unabl': 1883, 'circumst': 1884, 'crappi': 1885, 'sheriff': 1886, 'colour': 1887, 'brilliantli': 1888, 'oliv': 1889, 'drew': 1890, 'sheer': 1891, 'pile': 1892, 'cook': 1893, 'path': 1894, 'parker': 1895, 'altern': 1896, 'matt': 1897, 'laughter': 1898, 'accident': 1899, 'wander': 1900, 'defin': 1901, 'relief': 1902, 'lawyer': 1903, 'sinatra': 1904, 'treatment': 1905, 'hall': 1906, 'captiv': 1907, 'dragon': 1908, 'hank': 1909, 'gratuit': 1910, 'moor': 1911, 'halloween': 1912, 'wayn': 1913, 'k': 1914, 'cowboy': 1915, 'barbara': 1916, 'kung': 1917, 'wound': 1918, 'unintent': 1919, 'broadway': 1920, 'jacki': 1921, 'spoof': 1922, 'statement': 1923, 'winter': 1924, 'surreal': 1925, 'canadian': 1926, 'fish': 1927, 'gonna': 1928, 'cheer': 1929, 'compos': 1930, 'fare': 1931, 'treasur': 1932, 'sensit': 1933, 'unrealist': 1934, 'victor': 1935, 'emerg': 1936, 'woodi': 1937, 'neighbor': 1938, 'driven': 1939, 'sympathet': 1940, 'ran': 1941, 'glass': 1942, 'menac': 1943, 'overlook': 1944, 'topic': 1945, 'expos': 1946, 'authent': 1947, 'gross': 1948, 'michel': 1949, 'handsom': 1950, 'ancient': 1951, 'chief': 1952, 'pleasant': 1953, 'stranger': 1954, 'nevertheless': 1955, 'network': 1956, 'comedian': 1957, 'built': 1958, 'feet': 1959, 'russel': 1960, 'contemporari': 1961, 'cinderella': 1962, 'earn': 1963, 'consider': 1964, 'letter': 1965, 'endless': 1966, 'blockbust': 1967, 'underr': 1968, 'gori': 1969, 'miser': 1970, 'brook': 1971, 'switch': 1972, 'solv': 1973, 'virgin': 1974, 'bullet': 1975, 'victoria': 1976, 'convict': 1977, 'edward': 1978, 'joseph': 1979, 'scale': 1980, 'chosen': 1981, '0': 1982, 'alex': 1983, 'scenario': 1984, 'cynic': 1985, 'outrag': 1986, 'gut': 1987, 'com': 1988, 'curs': 1989, 'sword': 1990, 'substanc': 1991, 'monkey': 1992, 'uk': 1993, 'wrap': 1994, 'screenwrit': 1995, 'proper': 1996, 'juli': 1997, 'driver': 1998, 'remov': 1999, 'indic': 2000, 'court': 2001, 'par': 2002, 'bird': 2003, 'naiv': 2004, 'inevit': 2005, 'loser': 2006, 'rental': 2007, 'advertis': 2008, 'nanci': 2009, 'grave': 2010, 'consequ': 2011, 'roy': 2012, 'brave': 2013, 'invis': 2014, 'fatal': 2015, 'le': 2016, 'slap': 2017, 'bridg': 2018, 'germani': 2019, 'loui': 2020, 'anger': 2021, 'ador': 2022, 'footbal': 2023, 'provok': 2024, 'alcohol': 2025, 'chan': 2026, 'anderson': 2027, 'stumbl': 2028, 'ryan': 2029, 'professor': 2030, 'willi': 2031, '1930': 2032, 'australian': 2033, 'sharp': 2034, 'patrick': 2035, 'assassin': 2036, 'bat': 2037, 'liber': 2038, 'heck': 2039, 'cell': 2040, 'amateurish': 2041, 'deni': 2042, 'saturday': 2043, 'eight': 2044, 'lousi': 2045, 'ape': 2046, 'strongli': 2047, 'trilog': 2048, 'refresh': 2049, 'sin': 2050, 'san': 2051, 'vagu': 2052, 'justifi': 2053, 'resid': 2054, 'sympathi': 2055, 'terrifi': 2056, 'indi': 2057, 'mini': 2058, 'reput': 2059, 'creator': 2060, 'defeat': 2061, 'tediou': 2062, 'task': 2063, 'expert': 2064, 'endur': 2065, 'prevent': 2066, 'tabl': 2067, 'offend': 2068, 'trial': 2069, 'imit': 2070, 'rival': 2071, 'employ': 2072, 'che': 2073, 'basebal': 2074, 'pitch': 2075, 'fairi': 2076, 'weekend': 2077, 'dig': 2078, 'europ': 2079, 'max': 2080, 'complaint': 2081, 'beach': 2082, 'risk': 2083, 'format': 2084, 'purchas': 2085, 'murphi': 2086, 'titan': 2087, 'bite': 2088, 'glimps': 2089, 'harsh': 2090, 'hype': 2091, 'nois': 2092, 'reminisc': 2093, 'powel': 2094, 'tini': 2095, 'asleep': 2096, 'till': 2097, '14': 2098, 'fals': 2099, 'prime': 2100, 'north': 2101, 'strip': 2102, 'destruct': 2103, 'descript': 2104, 'africa': 2105, 'revel': 2106, 'texa': 2107, 'semi': 2108, 'sitcom': 2109, 'excess': 2110, 'inner': 2111, 'spin': 2112, 'arrest': 2113, 'uninterest': 2114, 'surfac': 2115, 'controversi': 2116, 'dinosaur': 2117, 'makeup': 2118, 'hitchcock': 2119, 'massiv': 2120, 'twin': 2121, 'argu': 2122, 'maintain': 2123, 'melodrama': 2124, 'stare': 2125, 'insist': 2126, 'reject': 2127, 'expens': 2128, 'kim': 2129, 'ideal': 2130, 'ludicr': 2131, 'press': 2132, 'erot': 2133, 'ala': 2134, 'subplot': 2135, 'forest': 2136, 'atroci': 2137, 'host': 2138, 'ga': 2139, 'supernatur': 2140, 'nail': 2141, 'columbo': 2142, 'notch': 2143, 'cant': 2144, 'dude': 2145, 'presum': 2146, 'identifi': 2147, 'closer': 2148, 'guest': 2149, 'forgett': 2150, 'plagu': 2151, 'method': 2152, 'crude': 2153, 'character': 2154, 'beast': 2155, 'princess': 2156, 'ear': 2157, 'landscap': 2158, 'border': 2159, 'lion': 2160, 'foster': 2161, 'urban': 2162, 'pacino': 2163, 'bound': 2164, 'jungl': 2165, 'aunt': 2166, 'accus': 2167, 'storytel': 2168, 'previous': 2169, 'damag': 2170, 'birth': 2171, 'thirti': 2172, 'chose': 2173, 'propaganda': 2174, 'guid': 2175, 'nude': 2176, 'doll': 2177, 'emma': 2178, 'jess': 2179, 'mainstream': 2180, 'pet': 2181, 'warrior': 2182, 'whoever': 2183, 'mate': 2184, '25': 2185, 'cooper': 2186, 'latest': 2187, 'merit': 2188, 'exact': 2189, 'size': 2190, 'deadli': 2191, 'friday': 2192, 'poster': 2193, 'gritti': 2194, 'upset': 2195, 'ton': 2196, 'rough': 2197, 'sun': 2198, '1990': 2199, 'corps': 2200, 'contest': 2201, 'buff': 2202, 'settl': 2203, 'wilson': 2204, 'citizen': 2205, 'warner': 2206, 'popul': 2207, 'blend': 2208, 'contact': 2209, 'mgm': 2210, 'select': 2211, 'alic': 2212, 'overcom': 2213, 'pitt': 2214, 'widow': 2215, 'environ': 2216, 'rat': 2217, 'bu': 2218, 'metal': 2219, 'revolut': 2220, 'particip': 2221, 'guilti': 2222, 'link': 2223, 'ted': 2224, 'lift': 2225, 'johnson': 2226, 'exagger': 2227, '1960': 2228, 'moron': 2229, 'matrix': 2230, 'accompani': 2231, 'prostitut': 2232, 'corner': 2233, 'afternoon': 2234, 'corpor': 2235, 'instal': 2236, 'doom': 2237, 'clair': 2238, 'sincer': 2239, 'multipl': 2240, 'friendli': 2241, 'leagu': 2242, 'holm': 2243, 'hood': 2244, 'campi': 2245, 'junk': 2246, 'examin': 2247, 'advis': 2248, 'blah': 2249, 'irish': 2250, 'sunday': 2251, 'aka': 2252, 'string': 2253, 'grim': 2254, 'lugosi': 2255, 'hip': 2256, 'defend': 2257, 'tight': 2258, 'rachel': 2259, 'shut': 2260, 'varieti': 2261, 'shake': 2262, 'confid': 2263, 'icon': 2264, 'pro': 2265, 'medic': 2266, 'goal': 2267, 'denni': 2268, 'directli': 2269, 'sullivan': 2270, 'jaw': 2271, 'attach': 2272, 'mexican': 2273, 'terrorist': 2274, 'duke': 2275, 'sarah': 2276, 'legendari': 2277, 'prior': 2278, 'sentenc': 2279, 'dean': 2280, 'breast': 2281, 'vietnam': 2282, 'courag': 2283, 'truck': 2284, 'bourn': 2285, 'proceed': 2286, 'un': 2287, 'split': 2288, 'donald': 2289, 'hong': 2290, 'behav': 2291, 'nose': 2292, 'yell': 2293, 'entri': 2294, 'buri': 2295, 'unconvinc': 2296, 'everywher': 2297, 'gather': 2298, 'swim': 2299, 'concentr': 2300, 'stolen': 2301, 'confess': 2302, 'borrow': 2303, 'jerk': 2304, 'forth': 2305, 'lifetim': 2306, 'crush': 2307, 'pan': 2308, 'spite': 2309, 'deliveri': 2310, 'lip': 2311, 'california': 2312, 'turkey': 2313, 'julia': 2314, 'downright': 2315, 'freeman': 2316, 'quest': 2317, 'reward': 2318, 'flight': 2319, 'proud': 2320, 'offici': 2321, 'hoffman': 2322, 'china': 2323, 'encourag': 2324, 'jail': 2325, 'jon': 2326, 'fabul': 2327, 'betray': 2328, 'sir': 2329, 'fade': 2330, 'sink': 2331, 'notori': 2332, 'worthwhil': 2333, 'inept': 2334, 'lazi': 2335, 'lisa': 2336, 'imageri': 2337, 'bell': 2338, 'survivor': 2339, 'teeth': 2340, 'bag': 2341, 'retard': 2342, 'shower': 2343, 'storm': 2344, 'relev': 2345, 'cousin': 2346, 'susan': 2347, 'branagh': 2348, 'alright': 2349, 'toler': 2350, 'summari': 2351, 'finger': 2352, 'hugh': 2353, 'trade': 2354, 'tremend': 2355, 'stab': 2356, 'quirki': 2357, 'facial': 2358, 'bride': 2359, 'mexico': 2360, 'shark': 2361, 'blown': 2362, 'bitter': 2363, 'pose': 2364, 'ha': 2365, 'hyster': 2366, 'von': 2367, 'afterward': 2368, 'larri': 2369, 'ron': 2370, 'bone': 2371, 'cruel': 2372, 'address': 2373, 'scheme': 2374, 'ned': 2375, 'christ': 2376, 'traci': 2377, 'pursu': 2378, 'snake': 2379, 'swear': 2380, 'thumb': 2381, 'feed': 2382, 'beg': 2383, 'screw': 2384, 'tour': 2385, 'distinct': 2386, 'photo': 2387, 'chair': 2388, 'mechan': 2389, 'obscur': 2390, 'occas': 2391, 'raw': 2392, 'stomach': 2393, 'cabin': 2394, 'chain': 2395, 'holiday': 2396, 'argument': 2397, 'gruesom': 2398, 'heavili': 2399, 'southern': 2400, 'hardi': 2401, 'necessarili': 2402, 'sidney': 2403, 'resist': 2404, 'render': 2405, 'satan': 2406, 'understood': 2407, 'philip': 2408, 'indulg': 2409, 'racist': 2410, 'india': 2411, 'belov': 2412, 'tongu': 2413, 'pregnant': 2414, 'fourth': 2415, 'forgot': 2416, 'integr': 2417, 'outfit': 2418, 'obnoxi': 2419, 'midnight': 2420, 'lay': 2421, 'stalk': 2422, 'inhabit': 2423, 'magazin': 2424, 'restor': 2425, '17': 2426, 'slapstick': 2427, 'deeper': 2428, 'carol': 2429, 'ticket': 2430, 'garden': 2431, 'incid': 2432, 'shoe': 2433, 'brad': 2434, 'lincoln': 2435, 'devot': 2436, 'underground': 2437, 'disbelief': 2438, 'divorc': 2439, 'sandler': 2440, 'benefit': 2441, 'anticip': 2442, 'elizabeth': 2443, 'lili': 2444, 'guarante': 2445, 'maria': 2446, 'princip': 2447, 'greater': 2448, 'capit': 2449, 'slave': 2450, 'creation': 2451, 'amazingli': 2452, 'bbc': 2453, 'cring': 2454, 'mildli': 2455, 'explod': 2456, 'halfway': 2457, 'funnier': 2458, 'lesli': 2459, 'extraordinari': 2460, 'introduct': 2461, 'advantag': 2462, 'text': 2463, 'wreck': 2464, 'enhanc': 2465, 'tap': 2466, 'extent': 2467, 'overwhelm': 2468, 'punish': 2469, 'transfer': 2470, 'horrif': 2471, 'lo': 2472, 'east': 2473, 'dynam': 2474, 'error': 2475, 'preview': 2476, 'plant': 2477, 'deliber': 2478, 'lane': 2479, 'jessica': 2480, 'vincent': 2481, 'miscast': 2482, 'vacat': 2483, 'homosexu': 2484, 'ensu': 2485, 'miller': 2486, '2000': 2487, 'basi': 2488, 'sophist': 2489, 'appli': 2490, 'steel': 2491, 'measur': 2492, 'extend': 2493, 'uncomfort': 2494, 'elev': 2495, 'sleazi': 2496, 'mansion': 2497, 'spoken': 2498, 'bollywood': 2499, 'reed': 2500, 'via': 2501, 'assign': 2502, 'hippi': 2503, 'breathtak': 2504, 'daili': 2505, 'cathol': 2506, 'melt': 2507, 'alter': 2508, 'blair': 2509, 'conceiv': 2510, 'mous': 2511, 'stanley': 2512, 'overact': 2513, 'savag': 2514, 'beer': 2515, 'dentist': 2516, 'fix': 2517, 'goofi': 2518, 'burt': 2519, 'subsequ': 2520, 'carpent': 2521, 'nowaday': 2522, 'properli': 2523, 'sacrific': 2524, 'succe': 2525, 'everyday': 2526, 'oppos': 2527, 'inspector': 2528, 'neck': 2529, 'circl': 2530, 'massacr': 2531, 'block': 2532, 'laura': 2533, 'access': 2534, 'pool': 2535, 'lesser': 2536, 'mob': 2537, 'christi': 2538, 'concert': 2539, 'fallen': 2540, 'grey': 2541, 'portrait': 2542, 'seagal': 2543, 'fay': 2544, 'chees': 2545, 'relax': 2546, 'jewish': 2547, 'isol': 2548, 'sinist': 2549, 'competit': 2550, 'usa': 2551, 'react': 2552, 'jake': 2553, 'spiritu': 2554, 'appal': 2555, 'ironi': 2556, 'nonetheless': 2557, '2006': 2558, 'immens': 2559, 'chop': 2560, 'creep': 2561, 'suitabl': 2562, 'stink': 2563, 'lyric': 2564, 'nine': 2565, 'franchis': 2566, 'rage': 2567, 'needless': 2568, 'shirt': 2569, 'user': 2570, 'reduc': 2571, 'spring': 2572, 'retir': 2573, 'showcas': 2574, 'navi': 2575, 'adopt': 2576, 'sold': 2577, 'nut': 2578, 'luci': 2579, 'nurs': 2580, 'zone': 2581, 'asham': 2582, 'jay': 2583, 'stanwyck': 2584, 'bath': 2585, 'per': 2586, 'uninspir': 2587, 'bulli': 2588, 'digit': 2589, 'oddli': 2590, 'laid': 2591, 'illustr': 2592, '2001': 2593, 'broadcast': 2594, 'upper': 2595, 'amongst': 2596, 'sutherland': 2597, '1940': 2598, 'disguis': 2599, 'baker': 2600, 'throat': 2601, 'fulfil': 2602, 'aspir': 2603, 'brando': 2604, 'stylish': 2605, 'thief': 2606, 'em': 2607, '18': 2608, 'wanna': 2609, 'endear': 2610, 'impli': 2611, 'pride': 2612, 'nobl': 2613, 'neighborhood': 2614, 'wwii': 2615, 'pound': 2616, 'diseas': 2617, 'shoulder': 2618, 'tens': 2619, 'prop': 2620, 'dawn': 2621, '16': 2622, 'dinner': 2623, 'distribut': 2624, 'cinematograph': 2625, 'coher': 2626, 'bett': 2627, 'shift': 2628, 'bo': 2629, 'albeit': 2630, 'rochest': 2631, 'shout': 2632, 'function': 2633, 'snow': 2634, 'silenc': 2635, 'contract': 2636, 'poignant': 2637, 'rebel': 2638, 'knife': 2639, 'surf': 2640, 'forti': 2641, 'wash': 2642, 'matthau': 2643, 'reunion': 2644, 'height': 2645, 'internet': 2646, 'silver': 2647, 'duti': 2648, 'cannib': 2649, 'cancel': 2650, 'chuck': 2651, 'horrend': 2652, 'mindless': 2653, 'henc': 2654, 'heat': 2655, 'eeri': 2656, 'widmark': 2657, 'instinct': 2658, 'proof': 2659, 'derek': 2660, 'elvira': 2661, 'premier': 2662, 'alik': 2663, 'torn': 2664, 'greatli': 2665, 'incoher': 2666, 'elvi': 2667, 'glori': 2668, 'neat': 2669, 'musician': 2670, 'absorb': 2671, 'pie': 2672, 'spielberg': 2673, 'etern': 2674, 'mill': 2675, 'innov': 2676, 'repetit': 2677, 'horrifi': 2678, 'diamond': 2679, 'wealthi': 2680, 'racism': 2681, 'announc': 2682, 'nelson': 2683, 'bang': 2684, 'britain': 2685, 'precis': 2686, 'lovabl': 2687, 'infam': 2688, 'blank': 2689, 'itali': 2690, 'redempt': 2691, 'trite': 2692, 'crisi': 2693, 'homag': 2694, 'fbi': 2695, 'burton': 2696, 'flop': 2697, 'dedic': 2698, 'ensembl': 2699, 'helen': 2700, 'wilder': 2701, 'resolut': 2702, 'happili': 2703, 'chaplin': 2704, 'hammer': 2705, 'parallel': 2706, 'streisand': 2707, 'pat': 2708, 'st': 2709, 'plastic': 2710, 'mar': 2711, 'conclud': 2712, 'triumph': 2713, 'carter': 2714, 'oil': 2715, 'factori': 2716, 'cube': 2717, 'disagre': 2718, 'broke': 2719, 'own': 2720, 'climb': 2721, 'march': 2722, 'rocket': 2723, 'bush': 2724, 'row': 2725, 'weight': 2726, 'vega': 2727, 'chuckl': 2728, 'fighter': 2729, 'thug': 2730, 'enorm': 2731, 'meaning': 2732, 'spare': 2733, 'wherea': 2734, 'dump': 2735, 'luca': 2736, 'boot': 2737, 'kurt': 2738, 'lust': 2739, 'sensibl': 2740, 'unforgett': 2741, 'mst3k': 2742, 'dane': 2743, 'stress': 2744, 'arnold': 2745, 'rap': 2746, 'fifti': 2747, 'bobbi': 2748, 'dear': 2749, 'engin': 2750, 'adequ': 2751, 'threat': 2752, 'difficulti': 2753, 'brand': 2754, 'caricatur': 2755, 'karloff': 2756, 'butt': 2757, 'elabor': 2758, 'ralph': 2759, 'swing': 2760, 'ego': 2761, 'fest': 2762, 'polish': 2763, 'arrog': 2764, 'barri': 2765, 'secretari': 2766, 'flynn': 2767, 'hamlet': 2768, 'journalist': 2769, 'homeless': 2770, 'induc': 2771, 'spike': 2772, 'resort': 2773, 'grate': 2774, 'fanci': 2775, 'puppet': 2776, 'simpson': 2777, 'unbear': 2778, 'float': 2779, 'tool': 2780, 'arrang': 2781, 'conspiraci': 2782, 'tribut': 2783, 'boll': 2784, 'phillip': 2785, 'muppet': 2786, 'pig': 2787, 'guilt': 2788, 'basement': 2789, 'choreograph': 2790, 'cruis': 2791, 'exercis': 2792, 'ward': 2793, 'babe': 2794, 'tower': 2795, 'layer': 2796, 'fianc': 2797, 'ham': 2798, 'medium': 2799, '24': 2800, 'puzzl': 2801, 'toilet': 2802, 'scarecrow': 2803, 'stan': 2804, 'file': 2805, 'slip': 2806, 'document': 2807, 'korean': 2808, 'editor': 2809, 'item': 2810, 'assur': 2811, 'territori': 2812, 'superfici': 2813, 'inexplic': 2814, 'slaughter': 2815, 'librari': 2816, 'transit': 2817, 'minim': 2818, 'persona': 2819, 'spark': 2820, 'catherin': 2821, 'doc': 2822, 'glover': 2823, 'larger': 2824, 'portion': 2825, 'denzel': 2826, 'orient': 2827, 'philosoph': 2828, 'boredom': 2829, 'financi': 2830, 'wolf': 2831, 'owe': 2832, 'jeremi': 2833, 'sneak': 2834, 'curti': 2835, 'walken': 2836, 'jet': 2837, 'pg': 2838, 'dorothi': 2839, 'shi': 2840, 'ban': 2841, 'multi': 2842, 'backdrop': 2843, 'metaphor': 2844, 'ambigu': 2845, 'hudson': 2846, 'profound': 2847, 'eleph': 2848, 'whale': 2849, 'cusack': 2850, 'hack': 2851, 'birthday': 2852, 'implaus': 2853, 'ultra': 2854, 'rave': 2855, 'union': 2856, 'elsewher': 2857, 'notion': 2858, 'viru': 2859, 'stiff': 2860, '2005': 2861, 'gadget': 2862, 'poison': 2863, 'squar': 2864, 'superhero': 2865, 'distanc': 2866, '1st': 2867, 'pad': 2868, 'bibl': 2869, 'urg': 2870, 'slight': 2871, 'reader': 2872, 'afford': 2873, 'disc': 2874, 'lloyd': 2875, 'newspap': 2876, 'deriv': 2877, 'hawk': 2878, 'canada': 2879, 'eastwood': 2880, 'eva': 2881, 'montag': 2882, 'spread': 2883, 'button': 2884, 'charisma': 2885, 'skit': 2886, 'sadist': 2887, 'cure': 2888, 'huh': 2889, 'restaur': 2890, 'health': 2891, 'essenc': 2892, 'drown': 2893, 'heston': 2894, 'fetch': 2895, 'lab': 2896, 'estat': 2897, 'gradual': 2898, 'godfath': 2899, 'maniac': 2900, 'dealt': 2901, 'peak': 2902, 'companion': 2903, 'scoobi': 2904, 'invest': 2905, 'muslim': 2906, 'servant': 2907, 'cup': 2908, 'tea': 2909, 'ritter': 2910, 'subtleti': 2911, 'countless': 2912, 'miik': 2913, 'gothic': 2914, 'alli': 2915, 'kane': 2916, 'electr': 2917, 'elect': 2918, 'charismat': 2919, 'iii': 2920, 'heroic': 2921, 'briefli': 2922, 'salli': 2923, 'toss': 2924, 'neil': 2925, 'nuanc': 2926, 'wannab': 2927, 'reel': 2928, 'admittedli': 2929, 'ingredi': 2930, 'resourc': 2931, 'grandmoth': 2932, 'tender': 2933, 'bud': 2934, 'cole': 2935, 'pauli': 2936, 'pit': 2937, 'reev': 2938, 'stronger': 2939, 'gate': 2940, 'stood': 2941, 'mild': 2942, 'shall': 2943, 'dawson': 2944, 'carrey': 2945, 'kubrick': 2946, 'poverti': 2947, 'mafia': 2948, 'label': 2949, 'punk': 2950, 'outcom': 2951, 'easier': 2952, 'cardboard': 2953, 'updat': 2954, 'fond': 2955, 'assault': 2956, 'useless': 2957, 'burst': 2958, 'smash': 2959, 'terri': 2960, 'bakshi': 2961, 'ian': 2962, 'smooth': 2963, 'cox': 2964, 'tag': 2965, 'astair': 2966, 'exchang': 2967, 'melodramat': 2968, '2002': 2969, 'samurai': 2970, 'coincid': 2971, 'sketch': 2972, 'vari': 2973, 'increasingli': 2974, 'fist': 2975, 'resolv': 2976, 'vulner': 2977, 'qualifi': 2978, 'divers': 2979, 'rex': 2980, 'be': 2981, 'conveni': 2982, 'suspend': 2983, 'luckili': 2984, 'insert': 2985, 'blast': 2986, 'tame': 2987, 'brillianc': 2988, 'reynold': 2989, 'templ': 2990, 'scratch': 2991, 'soprano': 2992, 'pin': 2993, 'meat': 2994, 'seventi': 2995, 'nuclear': 2996, 'fisher': 2997, 'walker': 2998, 'jami': 2999, 'gotta': 3000, 'farm': 3001, 'ambiti': 3002, 'coach': 3003, 'matthew': 3004, 'strictli': 3005, 'hamilton': 3006, 'closet': 3007, 'revers': 3008, 'convolut': 3009, 'butcher': 3010, 'cave': 3011, 'instantli': 3012, 'grasp': 3013, 'ninja': 3014, 'clock': 3015, 'spooki': 3016, 'worthless': 3017, 'struck': 3018, 'discoveri': 3019, 'recreat': 3020, 'empir': 3021, 'timeless': 3022, 'kudo': 3023, 'eccentr': 3024, 'brosnan': 3025, 'monk': 3026, 'joey': 3027, 'sidekick': 3028, 'importantli': 3029, 'sloppi': 3030, 'clown': 3031, 'wipe': 3032, 'cliff': 3033, 'inconsist': 3034, 'mitchel': 3035, 'bleak': 3036, 'declar': 3037, 'gray': 3038, 'partli': 3039, 'selfish': 3040, 'miracl': 3041, 'seller': 3042, 'norman': 3043, 'pal': 3044, 'fifteen': 3045, 'eighti': 3046, 'communist': 3047, 'evok': 3048, 'cheek': 3049, 'piano': 3050, 'psychiatrist': 3051, 'aforement': 3052, 'superbl': 3053, 'websit': 3054, 'stoog': 3055, 'australia': 3056, 'destin': 3057, 'chew': 3058, 'seed': 3059, 'ho': 3060, '45': 3061, 'enthusiast': 3062, 'flawless': 3063, 'farc': 3064, 'debat': 3065, 'lifestyl': 3066, 'drivel': 3067, 'dash': 3068, 'dire': 3069, 'bash': 3070, 'kitchen': 3071, 'regardless': 3072, 'emili': 3073, 'slice': 3074, 'pressur': 3075, 'akshay': 3076, 'anni': 3077, 'incompet': 3078, 'abc': 3079, 'wick': 3080, 'wrestl': 3081, 'directori': 3082, 'splatter': 3083, 'soviet': 3084, 'jar': 3085, 'pleasantli': 3086, 'suppli': 3087, 'ken': 3088, 'curios': 3089, 'seduc': 3090, 'helicopt': 3091, 'blob': 3092, 'judi': 3093, 'mann': 3094, 'increas': 3095, 'duo': 3096, 'recov': 3097, 'distant': 3098, 'dave': 3099, 'beaten': 3100, 'cameron': 3101, 'artifici': 3102, 'cia': 3103, 'doo': 3104, 'lou': 3105, 'cagney': 3106, 'chapter': 3107, 'prize': 3108, 'boil': 3109, 'flower': 3110, 'glow': 3111, 'hop': 3112, 'favour': 3113, 'glenn': 3114, 'panic': 3115, 'ranger': 3116, 'francisco': 3117, 'web': 3118, 'turner': 3119, 'craven': 3120, 'craig': 3121, 'splendid': 3122, 'combat': 3123, 'laurel': 3124, 'ellen': 3125, 'eleg': 3126, 'drunken': 3127, 'perri': 3128, 'goldberg': 3129, 'psychot': 3130, 'wizard': 3131, 'min': 3132, 'fx': 3133, 'flip': 3134, '20th': 3135, 'falk': 3136, 'graduat': 3137, 'alexand': 3138, 'shortli': 3139, 'gentl': 3140, 'rid': 3141, 'ruth': 3142, 'plausibl': 3143, 'hatr': 3144, 'gandhi': 3145, 'slightest': 3146, 'greek': 3147, 'philosophi': 3148, 'modesti': 3149, 'legal': 3150, 'preciou': 3151, 'knight': 3152, 'jealou': 3153, 'dracula': 3154, 'ocean': 3155, 'holi': 3156, 'we': 3157, 'futurist': 3158, 'manhattan': 3159, 'lend': 3160, 'tall': 3161, 'unpleas': 3162, 'felix': 3163, 'fund': 3164, 'harm': 3165, 'bless': 3166, 'mock': 3167, 'reviv': 3168, 'explicit': 3169, 'childish': 3170, 'scientif': 3171, 'tank': 3172, 'thread': 3173, 'digniti': 3174, 'nod': 3175, 'ami': 3176, 'forbidden': 3177, 'giallo': 3178, 'overdon': 3179, 'pirat': 3180, '99': 3181, 'fever': 3182, 'verhoeven': 3183, 'repeatedli': 3184, 'torment': 3185, 'elderli': 3186, 'unwatch': 3187, 'thick': 3188, 'awe': 3189, 'eve': 3190, 'nerv': 3191, '2004': 3192, 'mel': 3193, 'yesterday': 3194, 'awaken': 3195, 'margaret': 3196, 'broad': 3197, 'romero': 3198, 'absenc': 3199, 'lean': 3200, 'automat': 3201, 'rivet': 3202, 'royal': 3203, 'ambit': 3204, 'kay': 3205, 'eas': 3206, 'launch': 3207, 'acclaim': 3208, 'roman': 3209, 'bin': 3210, 'ah': 3211, 'publish': 3212, 'stiller': 3213, 'griffith': 3214, 'timothi': 3215, 'custom': 3216, 'politician': 3217, 'uniform': 3218, 'warren': 3219, 'crook': 3220, 'bathroom': 3221, 'termin': 3222, 'purpl': 3223, 'wallac': 3224, 'pulp': 3225, 'transport': 3226, 'sunshin': 3227, 'homicid': 3228, 'darker': 3229, 'phrase': 3230, 'pierc': 3231, 'antic': 3232, 'stinker': 3233, 'gabriel': 3234, 'foul': 3235, 'tomato': 3236, 'packag': 3237, 'awak': 3238, '2003': 3239, 'ought': 3240, 'hollow': 3241, 'revolutionari': 3242, 'evolv': 3243, 'q': 3244, 'brazil': 3245, 'horrid': 3246, 'coloni': 3247, 'choreographi': 3248, 'donna': 3249, 'juvenil': 3250, 'marin': 3251, 'pray': 3252, 'sixti': 3253, 'li': 3254, 'contrari': 3255, 'rambo': 3256, 'karen': 3257, 'album': 3258, 'viciou': 3259, 'kenneth': 3260, 'saint': 3261, 'prom': 3262, 'eyr': 3263, 'beatti': 3264, 'nerd': 3265, 'candid': 3266, 'twelv': 3267, 'option': 3268, 'boast': 3269, 'kapoor': 3270, 'dose': 3271, 'conserv': 3272, 'stole': 3273, 'overr': 3274, 'ireland': 3275, 'blade': 3276, 'defi': 3277, 'mildr': 3278, 'ramon': 3279, 'mummi': 3280, 'collabor': 3281, 'confirm': 3282, 'kirk': 3283, 'protest': 3284, 'flame': 3285, 'detract': 3286, 'fulci': 3287, 'jazz': 3288, 'funer': 3289, 'astonish': 3290, 'trio': 3291, 'global': 3292, 'altman': 3293, 'natali': 3294, 'mystic': 3295, 'yellow': 3296, 'nicholson': 3297, 'leap': 3298, 'tommi': 3299, 'shade': 3300, 'enterpris': 3301, 'spit': 3302, 'whip': 3303, 'racial': 3304, 'delici': 3305, 'blake': 3306, 'destini': 3307, 'audio': 3308, 'bull': 3309, 'bottl': 3310, 'reunit': 3311, 'popcorn': 3312, 'merci': 3313, 'swedish': 3314, 'pseudo': 3315, 'todd': 3316, 'threw': 3317, 'adolesc': 3318, 'meaningless': 3319, 'bedroom': 3320, 'vivid': 3321, 'enchant': 3322, 'altogeth': 3323, 'inherit': 3324, 'fonda': 3325, 'staff': 3326, 'visibl': 3327, 'harder': 3328, 'neo': 3329, 'madonna': 3330, 'crocodil': 3331, 'moodi': 3332, 'respond': 3333, 'tip': 3334, 'decor': 3335, 'leonard': 3336, 'await': 3337, 'lawrenc': 3338, 'befriend': 3339, 'uneven': 3340, 'roommat': 3341, 'lemmon': 3342, 'bust': 3343, 'edi': 3344, 'jew': 3345, 'synopsi': 3346, 'kennedi': 3347, 'fanat': 3348, 'ruthless': 3349, 'exhibit': 3350, 'reserv': 3351, 'wire': 3352, 'suspici': 3353, 'voight': 3354, 'atlanti': 3355, 'chao': 3356, 'rural': 3357, 'unsettl': 3358, 'incident': 3359, 'carl': 3360, '2007': 3361, 'ventur': 3362, 'centr': 3363, 'bargain': 3364, 'abysm': 3365, 'audit': 3366, 'garner': 3367, 'bold': 3368, 'dimens': 3369, 'clumsi': 3370, 'palma': 3371, 'voyag': 3372, 'holli': 3373, 'bradi': 3374, 'clint': 3375, 'mall': 3376, 'echo': 3377, 'poetic': 3378, 'daddi': 3379, 'tiger': 3380, 'nearbi': 3381, 'imperson': 3382, 'versu': 3383, '2nd': 3384, 'neglect': 3385, 'immigr': 3386, 'cuba': 3387, 'troop': 3388, 'cd': 3389, 'characterist': 3390, 'hart': 3391, 'humili': 3392, 'wealth': 3393, 'trail': 3394, 'elimin': 3395, 'acknowledg': 3396, 'ant': 3397, 'timon': 3398, 'cari': 3399, 'lit': 3400, 'collaps': 3401, 'repuls': 3402, 'celluloid': 3403, 'saga': 3404, 'prejudic': 3405, 'jeffrey': 3406, 'solo': 3407, 'paus': 3408, 'mickey': 3409, 'mistaken': 3410, 'domest': 3411, 'pun': 3412, 'homer': 3413, 'infect': 3414, 'marshal': 3415, 'apolog': 3416, 'promin': 3417, 'sore': 3418, 'tribe': 3419, 'olivi': 3420, 'cake': 3421, 'coat': 3422, 'undoubtedli': 3423, 'equip': 3424, 'chest': 3425, 'interrupt': 3426, 'gear': 3427, 'coffe': 3428, 'assembl': 3429, 'inan': 3430, 'hbo': 3431, 'milk': 3432, 'harvey': 3433, 'inappropri': 3434, '1996': 3435, 'leon': 3436, 'pant': 3437, 'ginger': 3438, 'exot': 3439, 'devast': 3440, 'aveng': 3441, 'furthermor': 3442, 'pot': 3443, 'highest': 3444, 'humbl': 3445, 'institut': 3446, 'brooklyn': 3447, 'florida': 3448, 'polanski': 3449, 'embrac': 3450, 'retain': 3451, 'solut': 3452, 'colleagu': 3453, 'primari': 3454, 'colonel': 3455, 'trace': 3456, 'vulgar': 3457, 'airplan': 3458, 'jenni': 3459, 'maggi': 3460, 'pen': 3461, 'consum': 3462, 'instant': 3463, 'disabl': 3464, 'cope': 3465, 'gender': 3466, 'seduct': 3467, '1999': 3468, '3rd': 3469, 'godzilla': 3470, 'descend': 3471, 'rick': 3472, 'strain': 3473, 'smaller': 3474, 'dian': 3475, 'outer': 3476, 'dutch': 3477, 'linda': 3478, 'illog': 3479, 'poke': 3480, 'ya': 3481, 'principl': 3482, 'wive': 3483, 'bowl': 3484, 'sale': 3485, 'blatant': 3486, 'mixtur': 3487, 'secondli': 3488, 'hal': 3489, 'rabbit': 3490, 'scope': 3491, 'bubbl': 3492, 'gloriou': 3493, 'yard': 3494, 'lol': 3495, 'dive': 3496, 'predecessor': 3497, 'primarili': 3498, 'inferior': 3499, 'devoid': 3500, 'glamor': 3501, 'vast': 3502, 'gundam': 3503, 'cue': 3504, 'dud': 3505, 'beneath': 3506, 'shelf': 3507, 'invas': 3508, 'alert': 3509, 'april': 3510, 'disjoint': 3511, 'museum': 3512, 'et': 3513, 'hideou': 3514, 'aggress': 3515, 'casual': 3516, 'talki': 3517, 'countrysid': 3518, 'streep': 3519, 'pearl': 3520, 'z': 3521, 'trademark': 3522, 'senseless': 3523, 'simplist': 3524, 'breed': 3525, 'garbo': 3526, 'arab': 3527, 'alfr': 3528, 'shirley': 3529, 'domino': 3530, 'grinch': 3531, 'myer': 3532, 'uwe': 3533, 'disgrac': 3534, 'sh': 3535, 'unhappi': 3536, 'hardcor': 3537, 'hopeless': 3538, 'obtain': 3539, 'applaud': 3540, 'stellar': 3541, 'loyal': 3542, 'robinson': 3543, 'boom': 3544, 'acid': 3545, 'stack': 3546, 'stir': 3547, 'maci': 3548, 'mayor': 3549, 'oz': 3550, 'experiment': 3551, 'illeg': 3552, 'defens': 3553, 'mail': 3554, 'robberi': 3555, 'slide': 3556, 'vanish': 3557, 'rendit': 3558, 'khan': 3559, 'diana': 3560, 'craze': 3561, 'recruit': 3562, 'declin': 3563, 'span': 3564, 'topless': 3565, 'blew': 3566, 'incomprehens': 3567, 'fri': 3568, 'grandfath': 3569, 'tenant': 3570, 'wont': 3571, 'counter': 3572, 'dismiss': 3573, 'psychic': 3574, 'rifl': 3575, 'emphasi': 3576, 'soccer': 3577, 'hartley': 3578, 'dicken': 3579, 'spider': 3580, 'amanda': 3581, 'tempt': 3582, 'berlin': 3583, 'scroog': 3584, 'riot': 3585, 'sympath': 3586, 'trashi': 3587, 'justin': 3588, 'niro': 3589, 'revolt': 3590, 'intim': 3591, 'bitch': 3592, 'ethnic': 3593, 'shed': 3594, 'woo': 3595, 'resurrect': 3596, 'ration': 3597, 'sibl': 3598, 'porno': 3599, 'lumet': 3600, 'goer': 3601, 'wet': 3602, 'faster': 3603, 'parad': 3604, 'shaw': 3605, 'immort': 3606, 'mario': 3607, 'nephew': 3608, 'weakest': 3609, 'eager': 3610, 'farmer': 3611, 'commend': 3612, 'steam': 3613, 'lena': 3614, 'choru': 3615, 'feminist': 3616, 'wheel': 3617, 'gap': 3618, 'worm': 3619, 'rider': 3620, 'jonathan': 3621, 'hopper': 3622, 'biographi': 3623, 'partial': 3624, 'ensur': 3625, 'dealer': 3626, 'slick': 3627, 'enlighten': 3628, '00': 3629, 'andr': 3630, 'patriot': 3631, 'hesit': 3632, 'ballet': 3633, 'unreal': 3634, 'wendi': 3635, 'region': 3636, 'honesti': 3637, 'snap': 3638, 'mutant': 3639, 'sappi': 3640, 'victori': 3641, 'vice': 3642, 'blunt': 3643, 'kingdom': 3644, 'leo': 3645, 'psychopath': 3646, 'util': 3647, 'safeti': 3648, 'properti': 3649, 'hung': 3650, 'owen': 3651, 'similarli': 3652, 'charlott': 3653, 'prequel': 3654, 'repress': 3655, 'franco': 3656, 'nostalg': 3657, 'composit': 3658, 'sandra': 3659, 'wore': 3660, 'confin': 3661, 'skull': 3662, 'macarthur': 3663, 'morri': 3664, 'tad': 3665, 'despair': 3666, 'drain': 3667, 'nervou': 3668, 'bumbl': 3669, 'tail': 3670, 'bonu': 3671, 'deed': 3672, 'pattern': 3673, 'rocki': 3674, 'heartbreak': 3675, 'bow': 3676, 'repli': 3677, 'bergman': 3678, 'acquir': 3679, 'recycl': 3680, 'dust': 3681, 'thru': 3682, 'strand': 3683, 'rambl': 3684, 'snl': 3685, 'del': 3686, 'drum': 3687, 'emperor': 3688, 'latin': 3689, 'hyde': 3690, 'compens': 3691, 'compass': 3692, 'farrel': 3693, 'campbel': 3694, 'whoopi': 3695, 'valuabl': 3696, 'speci': 3697, 'cg': 3698, 'miseri': 3699, 'montana': 3700, '1972': 3701, 'rope': 3702, 'exit': 3703, 'kyle': 3704, 'dalton': 3705, 'olli': 3706, 'gimmick': 3707, 'radic': 3708, 'percept': 3709, 'contempl': 3710, 'wacki': 3711, 'oppress': 3712, 'airport': 3713, 'romp': 3714, 'carradin': 3715, 'downhil': 3716, 'gal': 3717, 'martian': 3718, 'pour': 3719, 'roth': 3720, 'tonight': 3721, 'slug': 3722, 'bleed': 3723, '35': 3724, 'rotten': 3725, 'mistress': 3726, 'chess': 3727, 'rapist': 3728, 'orson': 3729, 'da': 3730, 'belt': 3731, 'arc': 3732, 'tackl': 3733, 'tooth': 3734, 'arguabl': 3735, 'pervers': 3736, 'taught': 3737, 'programm': 3738, 'paltrow': 3739, '1983': 3740, 'stilt': 3741, 'preach': 3742, 'slash': 3743, 'banal': 3744, 'dazzl': 3745, 'unpredict': 3746, 'heal': 3747, 'shelley': 3748, 'mislead': 3749, 'melodi': 3750, 'attorney': 3751, 'edgar': 3752, 'pervert': 3753, 'champion': 3754, 'pursuit': 3755, 'orang': 3756, 'poem': 3757, 'conneri': 3758, 'duval': 3759, 'raymond': 3760, 'vocal': 3761, 'employe': 3762, 'maid': 3763, 'bela': 3764, 'uplift': 3765, 'cleverli': 3766, 'virginia': 3767, 'gambl': 3768, 'tiresom': 3769, 'franki': 3770, 'graham': 3771, 'plight': 3772, 'mesmer': 3773, 'marti': 3774, 'vengeanc': 3775, 'sensat': 3776, 'dixon': 3777, 'rubi': 3778, 'closest': 3779, 'chicken': 3780, 'passeng': 3781, 'suffic': 3782, '1968': 3783, 'mute': 3784, 'lundgren': 3785, 'gerard': 3786, 'outing': 3787, 'yawn': 3788, 'quarter': 3789, 'inject': 3790, 'extens': 3791, 'whine': 3792, 'scottish': 3793, 'convincingli': 3794, 'clone': 3795, 'paranoia': 3796, 'numb': 3797, 'tube': 3798, 'engross': 3799, 'sirk': 3800, 'profan': 3801, 'monologu': 3802, 'calm': 3803, 'giggl': 3804, 'bay': 3805, 'secretli': 3806, 'abraham': 3807, 'volum': 3808, 'habit': 3809, 'climact': 3810, 'iran': 3811, 'crystal': 3812, 'amitabh': 3813, 'swallow': 3814, 'pokemon': 3815, 'backward': 3816, 'junior': 3817, 'poetri': 3818, 'underst': 3819, 'richardson': 3820, 'expand': 3821, 'fed': 3822, 'bend': 3823, 'abort': 3824, 'franci': 3825, 'meander': 3826, 'earl': 3827, 'dispos': 3828, 'lowest': 3829, 'nichola': 3830, 'surpass': 3831, 'chicago': 3832, 'plod': 3833, 'frankenstein': 3834, 'grotesqu': 3835, 'septemb': 3836, 'im': 3837, 'austen': 3838, 'ethan': 3839, 'profess': 3840, 'taxi': 3841, 'linger': 3842, 'spock': 3843, 'trend': 3844, 'nostalgia': 3845, 'myth': 3846, 'rant': 3847, 'household': 3848, 'dysfunct': 3849, 'waitress': 3850, 'rubber': 3851, 'literatur': 3852, 'hum': 3853, 'der': 3854, 'econom': 3855, 'descent': 3856, 'tourist': 3857, 'eugen': 3858, 'spoke': 3859, 'stallon': 3860, 'mundan': 3861, 'lure': 3862, 'simplic': 3863, 'instrument': 3864, 'greedi': 3865, 'compliment': 3866, 'catchi': 3867, 'muddl': 3868, 'cannon': 3869, 'sue': 3870, 'eaten': 3871, 'stale': 3872, 'flee': 3873, 'molli': 3874, 'firstli': 3875, 'sissi': 3876, 'louis': 3877, 'recognis': 3878, 'carel': 3879, 'mortal': 3880, 'alongsid': 3881, 'randi': 3882, 'duck': 3883, 'recognit': 3884, 'furi': 3885, 'hello': 3886, 'bacal': 3887, 'occupi': 3888, 'map': 3889, 'damon': 3890, 'crucial': 3891, 'phantom': 3892, 'irrelev': 3893, 'coast': 3894, 'deaf': 3895, 'lang': 3896, 'june': 3897, 'dement': 3898, 'mankind': 3899, 'omen': 3900, 'cent': 3901, 'insur': 3902, 'dictat': 3903, 'equival': 3904, 'phoni': 3905, 'twilight': 3906, 'damm': 3907, 'freez': 3908, 'grayson': 3909, 'newli': 3910, 'ashley': 3911, 'distinguish': 3912, 'lengthi': 3913, 'loyalti': 3914, 'dreari': 3915, 'heel': 3916, 'cyborg': 3917, 'buffalo': 3918, 'antwon': 3919, 'reign': 3920, 'bump': 3921, 'likewis': 3922, 'rude': 3923, 'rooney': 3924, 'onlin': 3925, 'wisdom': 3926, 'daisi': 3927, 'blackmail': 3928, '1973': 3929, 'biko': 3930, 'labor': 3931, 'drake': 3932, 'bike': 3933, 'attribut': 3934, 'inher': 3935, 'sailor': 3936, 'analysi': 3937, 'butler': 3938, 'chronicl': 3939, 'barrymor': 3940, 'basketbal': 3941, 'proce': 3942, 'tunnel': 3943, 'emphas': 3944, 'baddi': 3945, 'pink': 3946, 'interior': 3947, 'vein': 3948, 'prey': 3949, 'keith': 3950, 'exposur': 3951, 'incorpor': 3952, 'unorigin': 3953, 'nineti': 3954, 'startl': 3955, 'ridden': 3956, 'provoc': 3957, 'boxer': 3958, 'worn': 3959, 'approv': 3960, 'unrel': 3961, 'meyer': 3962, 'millionair': 3963, 'substitut': 3964, 'undeni': 3965, 'condemn': 3966, 'drift': 3967, 'mighti': 3968, 'walsh': 3969, 'belushi': 3970, 'nicol': 3971, 'predat': 3972, 'barrel': 3973, 'er': 3974, 'improvis': 3975, 'indiffer': 3976, 'carla': 3977, 'fleet': 3978, 'degrad': 3979, 'robbin': 3980, 'hypnot': 3981, 'underli': 3982, 'stalker': 3983, 'elm': 3984, 'mormon': 3985, 'meg': 3986, 'julian': 3987, 'simmon': 3988, 'bunni': 3989, 'othello': 3990, 'disord': 3991, '3d': 3992, 'mtv': 3993, 'dolph': 3994, 'nyc': 3995, 'lampoon': 3996, 'exquisit': 3997, 'roof': 3998, 'shove': 3999, 'agenda': 4000, 'greed': 4001, 'alarm': 4002, 'unawar': 4003, 'enthusiasm': 4004, 'alison': 4005, 'firm': 4006, 'hay': 4007, 'novak': 4008, 'edgi': 4009, 'priceless': 4010, 'errol': 4011, 'warmth': 4012, 'marion': 4013, 'vital': 4014, 'reid': 4015, 'palac': 4016, 'watson': 4017, 'rukh': 4018, 'profit': 4019, 'petti': 4020, 'distort': 4021, 'sergeant': 4022, 'testament': 4023, 'minimum': 4024, 'drip': 4025, 'preserv': 4026, 'what': 4027, 'thompson': 4028, 'iraq': 4029, 'randomli': 4030, '13th': 4031, 'unleash': 4032, 'campaign': 4033, 'simultan': 4034, 'peck': 4035, 'zizek': 4036, 'cassidi': 4037, 'ponder': 4038, 'showdown': 4039, 'angela': 4040, 'spain': 4041, 'israel': 4042, 'pamela': 4043, 'orlean': 4044, 'coup': 4045, 'valentin': 4046, '1933': 4047, 'gestur': 4048, 'eastern': 4049, 'session': 4050, 'glanc': 4051, 'peril': 4052, 'nun': 4053, 'championship': 4054, 'crown': 4055, 'beatl': 4056, 'empathi': 4057, 'travesti': 4058, 'crawl': 4059, 'represent': 4060, 'stake': 4061, 'brenda': 4062, 'kurosawa': 4063, 'climat': 4064, 'unimagin': 4065, 'scotland': 4066, 'exposit': 4067, 'crow': 4068, 'realm': 4069, 'regist': 4070, 'reson': 4071, 'restrain': 4072, '1984': 4073, 'wig': 4074, 'rout': 4075, 'cream': 4076, 'han': 4077, 'jan': 4078, 'quinn': 4079, 'mon': 4080, 'cooki': 4081, 'shootout': 4082, 'calib': 4083, 'din': 4084, 'gentleman': 4085, 'contradict': 4086, 'valley': 4087, 'fido': 4088, 'buster': 4089, 'sabrina': 4090, 'miyazaki': 4091, 'stroke': 4092, 'perpetu': 4093, 'bro': 4094, 'censor': 4095, 'pole': 4096, 'unsatisfi': 4097, 'fuller': 4098, 'greg': 4099, 'delic': 4100, 'demis': 4101, 'baldwin': 4102, 'femm': 4103, 'absent': 4104, 'wax': 4105, 'spacey': 4106, 'pretens': 4107, 'traumat': 4108, 'unseen': 4109, 'derang': 4110, 'sammi': 4111, 'shaki': 4112, 'painter': 4113, 'monoton': 4114, 'mclaglen': 4115, 'tacki': 4116, 'businessman': 4117, 'perceiv': 4118, 'compromis': 4119, 'shoddi': 4120, 'cloud': 4121, 'abomin': 4122, 'meryl': 4123, '1997': 4124, 'geek': 4125, 'darren': 4126, 'distress': 4127, 'dana': 4128, 'passabl': 4129, 'soderbergh': 4130, 'sucker': 4131, 'warrant': 4132, 'ross': 4133, 'crawford': 4134, 'stargat': 4135, 'ustinov': 4136, '1987': 4137, 'josh': 4138, '1993': 4139, 'fog': 4140, 'furiou': 4141, 'norm': 4142, 'sid': 4143, 'correctli': 4144, 'jewel': 4145, 'click': 4146, 'verbal': 4147, 'clash': 4148, 'uncov': 4149, 'dee': 4150, 'expedit': 4151, 'deceas': 4152, 'accuraci': 4153, 'judgment': 4154, 'deniro': 4155, 'tech': 4156, 'exclus': 4157, 'reluct': 4158, 'polici': 4159, 'wholli': 4160, 'valid': 4161, 'fenc': 4162, 'primit': 4163, 'antonioni': 4164, 'unravel': 4165, 'kumar': 4166, 'austin': 4167, 'nathan': 4168, 'seal': 4169, 'anchor': 4170, 'tarantino': 4171, 'behold': 4172, 'darn': 4173, 'hallucin': 4174, 'dreck': 4175, 'ritual': 4176, 'logan': 4177, 'wang': 4178, 'roller': 4179, 'fart': 4180, 'conduct': 4181, 'sheet': 4182, 'sustain': 4183, 'pocket': 4184, 'wretch': 4185, 'debt': 4186, 'clerk': 4187, 'trait': 4188, 'joel': 4189, 'slam': 4190, 'malon': 4191, 'unfair': 4192, 'fought': 4193, '2008': 4194, 'bake': 4195, '1971': 4196, '3000': 4197, 'fabric': 4198, 'mode': 4199, '1995': 4200, 'patienc': 4201, 'temper': 4202, 'tax': 4203, 'enforc': 4204, 'sunni': 4205, 'sand': 4206, 'nicola': 4207, 'shanghai': 4208, 'murray': 4209, 'crippl': 4210, 'alec': 4211, 'seldom': 4212, 'vanc': 4213, 'clau': 4214, 'critiqu': 4215, 'preposter': 4216, 'squad': 4217, 'grief': 4218, 'guitar': 4219, 'conscious': 4220, 'fundament': 4221, 'exhaust': 4222, 'stuart': 4223, 'divid': 4224, 'phil': 4225, 'soup': 4226, 'schedul': 4227, 'tactic': 4228, 'bridget': 4229, 'shell': 4230, 'technicolor': 4231, 'canyon': 4232, 'pete': 4233, 'despis': 4234, 'stark': 4235, 'outlin': 4236, 'sweep': 4237, 'legaci': 4238, 'robber': 4239, 'rita': 4240, 'penni': 4241, 'scriptwrit': 4242, 'runner': 4243, 'helpless': 4244, 'bias': 4245, 'isabel': 4246, 'preston': 4247, 'cigarett': 4248, 'restrict': 4249, 'rehash': 4250, 'drove': 4251, 'consciou': 4252, 'sniper': 4253, 'bloom': 4254, 'connor': 4255, 'flair': 4256, 'unexpectedli': 4257, 'sugar': 4258, 'sentinel': 4259, 'kansa': 4260, 'vomit': 4261, 'boyl': 4262, 'newman': 4263, 'passag': 4264, 'rear': 4265, 'agenc': 4266, 'culmin': 4267, 'marc': 4268, 'propos': 4269, 'lacklust': 4270, 'liberti': 4271, 'russia': 4272, 'implic': 4273, 'jodi': 4274, 'palanc': 4275, 'delv': 4276, 'gregori': 4277, 'inabl': 4278, 'downey': 4279, 'jacket': 4280, 'alley': 4281, 'invad': 4282, 'alicia': 4283, 'tripe': 4284, 'bacon': 4285, 'arrow': 4286, 'rampag': 4287, 'asylum': 4288, '22': 4289, 'chainsaw': 4290, 'improb': 4291, 'vet': 4292, 'wrench': 4293, 'awhil': 4294, '1936': 4295, 'delet': 4296, 'horn': 4297, 'kolchak': 4298, 'karl': 4299, 'cap': 4300, 'behaviour': 4301, 'mccoy': 4302, 'foxx': 4303, 'lush': 4304, 'ladder': 4305, 'pale': 4306, 'aesthet': 4307, 'tendenc': 4308, 'rehears': 4309, 'rod': 4310, 'feat': 4311, 'sharon': 4312, 'yeti': 4313, 'suspicion': 4314, 'paradis': 4315, '1920': 4316, 'loneli': 4317, 'coaster': 4318, 'filler': 4319, '1988': 4320, '19th': 4321, 'globe': 4322, 'stream': 4323, 'paramount': 4324, 'amazon': 4325, '1978': 4326, 'weav': 4327, 'suffici': 4328, 'aristocrat': 4329, 'visitor': 4330, 'sung': 4331, 'hungri': 4332, 'wildli': 4333, 'rumor': 4334, 'prank': 4335, 'wagner': 4336, 'financ': 4337, 'underneath': 4338, 'hackney': 4339, 'rhythm': 4340, 'conscienc': 4341, 'minu': 4342, 'hulk': 4343, 'el': 4344, 'fright': 4345, 'tasteless': 4346, 'shortcom': 4347, 'lurk': 4348, 'spice': 4349, 'tomorrow': 4350, 'newcom': 4351, 'elit': 4352, 'scoop': 4353, 'thunderbird': 4354, 'basing': 4355, '1989': 4356, 'grudg': 4357, 'springer': 4358, 'quietli': 4359, 'worship': 4360, 'en': 4361, 'dirt': 4362, 'smell': 4363, 'curli': 4364, 'standout': 4365, 'choppi': 4366, 'entranc': 4367, 'atroc': 4368, 'secondari': 4369, 'naughti': 4370, 'heist': 4371, 'brit': 4372, 'ram': 4373, 'immers': 4374, 'lectur': 4375, 'inmat': 4376, 'impos': 4377, 'rub': 4378, 'cancer': 4379, 'chamberlain': 4380, 'hopkin': 4381, 'recogniz': 4382, 'teas': 4383, 'literari': 4384, 'posey': 4385, 'tierney': 4386, 'ingeni': 4387, 'leigh': 4388, 'counterpart': 4389, 'couch': 4390, 'abrupt': 4391, '1939': 4392, 'paxton': 4393, 'straightforward': 4394, 'beverli': 4395, 'chavez': 4396, '75': 4397, 'wwe': 4398, 'penn': 4399, 'bread': 4400, 'minist': 4401, 'iv': 4402, 'morbid': 4403, '1986': 4404, 'laurenc': 4405, 'variat': 4406, 'heartfelt': 4407, 'transcend': 4408, 'enthral': 4409, 'sassi': 4410, 'policeman': 4411, 'missil': 4412, 'nolan': 4413, 'clan': 4414, 'watcher': 4415, 'yearn': 4416, 'skeptic': 4417, 'quaid': 4418, 'ace': 4419, 'cattl': 4420, 'misguid': 4421, 'sublim': 4422, 'esther': 4423, 'entitl': 4424, 'moreov': 4425, 'bernard': 4426, 'convert': 4427, 'attenborough': 4428, 'injuri': 4429, 'net': 4430, 'lindsay': 4431, 'nemesi': 4432, 'duel': 4433, 'ratso': 4434, 'geni': 4435, 'cruelti': 4436, '1979': 4437, 'poe': 4438, 'reliabl': 4439, 'steadi': 4440, 'characteris': 4441, 'out': 4442, 'mytholog': 4443, 'graini': 4444, 'diari': 4445, 'spiral': 4446, 'hopelessli': 4447, 'enabl': 4448, 'moder': 4449, 'kidman': 4450, 'egg': 4451, 'bye': 4452, 'facil': 4453, 'uncut': 4454, 'unexplain': 4455, 'brood': 4456, 'buzz': 4457, 'bean': 4458, 'tyler': 4459, 'vader': 4460, 'setup': 4461, 'obstacl': 4462, 'rosemari': 4463, 'grin': 4464, 'kitti': 4465, 'youngest': 4466, 'dont': 4467, 'puppi': 4468, 'carlito': 4469, 'hk': 4470, 'artsi': 4471, 'weather': 4472, 'gina': 4473, 'sweat': 4474, 'hammi': 4475, 'bewar': 4476, 'christin': 4477, 'fuel': 4478, 'decept': 4479, 'acquaint': 4480, 'kline': 4481, 'despic': 4482, '1969': 4483, 'oblig': 4484, 'gillian': 4485, 'underworld': 4486, 'heap': 4487, 'brendan': 4488, 'athlet': 4489, 'hain': 4490, 'spontan': 4491, 'exterior': 4492, 'baffl': 4493, 'preming': 4494, 'effici': 4495, 'bounc': 4496, 'narrow': 4497, 'disastr': 4498, 'martha': 4499, 'niec': 4500, 'clueless': 4501, 'bronson': 4502, 'patricia': 4503, 'injur': 4504, 'analyz': 4505, 'goof': 4506, 'dandi': 4507, 'headach': 4508, 'circu': 4509, 'sooner': 4510, 'candl': 4511, 'loi': 4512, 'tick': 4513, 'lester': 4514, 'renaiss': 4515, 'sleepwalk': 4516, 'suprem': 4517, 'scar': 4518, 'astound': 4519, 'viewpoint': 4520, '73': 4521, 'preachi': 4522, 'taboo': 4523, 'housewif': 4524, '19': 4525, 'harmless': 4526, 'rome': 4527, 'enlist': 4528, 'dilemma': 4529, 'trigger': 4530, 'insipid': 4531, 'fontain': 4532, 'mermaid': 4533, 'uh': 4534, 'shatter': 4535, 'angst': 4536, 'outlaw': 4537, 'virtu': 4538, 'hepburn': 4539, 'biker': 4540, 'loath': 4541, 'mayhem': 4542, 'hooker': 4543, 'fluff': 4544, 'scorses': 4545, 'immatur': 4546, 'amor': 4547, 'phenomenon': 4548, 'redund': 4549, 'ebert': 4550, 'gere': 4551, 'cassavet': 4552, 'dismal': 4553, 'bent': 4554, 'filth': 4555, 'stimul': 4556, 'overlong': 4557, 'intric': 4558, 'whore': 4559, 'slimi': 4560, 'claustrophob': 4561, 'sox': 4562, 'boston': 4563, 'camcord': 4564, 'oldest': 4565, 'foolish': 4566, 'salt': 4567, 'glorifi': 4568, 'steer': 4569, 'idol': 4570, 'hostag': 4571, 'ariel': 4572, 'corbett': 4573, 'contempt': 4574, 'stair': 4575, 'dish': 4576, 'surgeri': 4577, 'hokey': 4578, 'macho': 4579, 'zoom': 4580, 'guin': 4581, 'tripl': 4582, 'spade': 4583, 'proport': 4584, 'zane': 4585, 'beard': 4586, 'assert': 4587, 'radiat': 4588, 'frantic': 4589, 'muscl': 4590, 'trivia': 4591, 'spinal': 4592, 'strongest': 4593, 'cush': 4594, 'flag': 4595, 'down': 4596, 'obligatori': 4597, 'transplant': 4598, 'schlock': 4599, 'cow': 4600, 'rhyme': 4601, 'joker': 4602, 'shield': 4603, 'corman': 4604, '1981': 4605, '1976': 4606, 'antagonist': 4607, 'harold': 4608, 'keen': 4609, 'nolt': 4610, 'widescreen': 4611, 'flashi': 4612, 'flirt': 4613, 'spree': 4614, 'conquer': 4615, 'perman': 4616, 'astronaut': 4617, 'gabl': 4618, 'alvin': 4619, 'mount': 4620, 'preced': 4621, 'mutual': 4622, 'shred': 4623, 'remad': 4624, 'fascist': 4625, 'dwarf': 4626, 'cohen': 4627, 'margin': 4628, 'faint': 4629, 'gasp': 4630, 'messi': 4631, 'naschi': 4632, 'someday': 4633, 'sensual': 4634, 'barn': 4635, 'brush': 4636, 'mobil': 4637, 'www': 4638, 'wield': 4639, 'archiv': 4640, 'persuad': 4641, 'fishburn': 4642, 'bachelor': 4643, 'raj': 4644, 'interestingli': 4645, 'triangl': 4646, 'deer': 4647, 'off': 4648, 'discern': 4649, 'boob': 4650, 'divin': 4651, 'inflict': 4652, 'flock': 4653, '95': 4654, '28': 4655, 'repris': 4656, 'hara': 4657, 'vaniti': 4658, 'scandal': 4659, 'neurot': 4660, 'departur': 4661, 'aborigin': 4662, 'carey': 4663, '1945': 4664, 'claud': 4665, 'bitten': 4666, 'ritchi': 4667, 'instruct': 4668, 'strive': 4669, 'mol': 4670, 'danish': 4671, 'resum': 4672, 'info': 4673, 'artwork': 4674, 'luka': 4675, 'wendigo': 4676, 'pixar': 4677, 'cb': 4678, 'kathryn': 4679, 'biblic': 4680, 'miracul': 4681, 'axe': 4682, 'dylan': 4683, 'timberlak': 4684, 'hug': 4685, 'bate': 4686, 'clad': 4687, 'proclaim': 4688, 'ish': 4689, 'parson': 4690, 'recit': 4691, 'earnest': 4692, 'dame': 4693, 'carlo': 4694, 'cycl': 4695, 'neill': 4696, 'frontier': 4697, 'cher': 4698, 'casino': 4699, 'fragil': 4700, 'banter': 4701, 'hilar': 4702, 'vibrant': 4703, 'helm': 4704, 'mobster': 4705, 'colin': 4706, 'undermin': 4707, 'rot': 4708, 'jade': 4709, 'harrison': 4710, 'heartwarm': 4711, 'anton': 4712, 'pacif': 4713, 'hapless': 4714, 'submit': 4715, 'senior': 4716, 'traffic': 4717, 'europa': 4718, 'loretta': 4719, 'melissa': 4720, 'prophet': 4721, 'pickford': 4722, 'cliffhang': 4723, 'dim': 4724, 'illus': 4725, 'lucil': 4726, 'sicken': 4727, 'nope': 4728, 'legitim': 4729, 'estrang': 4730, 'http': 4731, 'cerebr': 4732, 'redneck': 4733, 'aris': 4734, 'antholog': 4735, 'rooki': 4736, 'alexandr': 4737, 'choke': 4738, 'blatantli': 4739, 'electron': 4740, 'articl': 4741, 'bikini': 4742, 'eli': 4743, 'shepherd': 4744, 'flavor': 4745, 'jo': 4746, 'feast': 4747, 'northern': 4748, 'static': 4749, 'breakfast': 4750, 'orphan': 4751, 'vanessa': 4752, 'mason': 4753, 'winchest': 4754, 'seedi': 4755, 'akin': 4756, 'toronto': 4757, 'token': 4758, 'misfortun': 4759, 'razor': 4760, 'mathieu': 4761, 'milo': 4762, 'uma': 4763, 'wardrob': 4764, 'venom': 4765, 'foil': 4766, 'bondag': 4767, 'pc': 4768, 'marlon': 4769, 'vile': 4770, 'trier': 4771, 'jordan': 4772, 'lui': 4773, 'holocaust': 4774, 'isra': 4775, 'outdat': 4776, 'leather': 4777, 'turd': 4778, 'cartoonish': 4779, 'styliz': 4780, 'peer': 4781, 'disregard': 4782, 'clinic': 4783, 'ceremoni': 4784, 'feminin': 4785, 'swept': 4786, 'frog': 4787, 'abund': 4788, 'tack': 4789, 'magician': 4790, 'shorter': 4791, 'ideolog': 4792, 'audrey': 4793, 'affleck': 4794, 'linear': 4795, 'smack': 4796, 'howl': 4797, 'charlton': 4798, 'fifth': 4799, 'glare': 4800, 'nightclub': 4801, 'gilbert': 4802, 'dudley': 4803, 'gunga': 4804, 'wrestler': 4805, 'highway': 4806, 'oppon': 4807, 'knightley': 4808, 'huston': 4809, 'retriev': 4810, 'psych': 4811, 'deem': 4812, 'comprehend': 4813, 'boyer': 4814, 'bastard': 4815, 'snatch': 4816, 'corn': 4817, 'lifeless': 4818, 'whack': 4819, 'chip': 4820, 'breakdown': 4821, 'deliver': 4822, 'newer': 4823, 'bogu': 4824, 'lighter': 4825, 'moe': 4826, 'client': 4827, '1991': 4828, 'evolut': 4829, 'summar': 4830, 'spawn': 4831, 'tara': 4832, 'spine': 4833, 'energet': 4834, 'collector': 4835, 'toe': 4836, 'durat': 4837, '4th': 4838, 'plate': 4839, 'uniformli': 4840, 'btw': 4841, 'potter': 4842, 'compris': 4843, 'monument': 4844, 'cemeteri': 4845, 'sleaz': 4846, 'einstein': 4847, 'braveheart': 4848, 'greet': 4849, 'phenomen': 4850, 'boo': 4851, '1994': 4852, 'cuban': 4853, 'conrad': 4854, 'senat': 4855, 'lavish': 4856, 'mitch': 4857, 'goldsworthi': 4858, 'salman': 4859, 'historian': 4860, 'outright': 4861, 'wtf': 4862, 'armstrong': 4863, 'firmli': 4864, 'undead': 4865, 'mcqueen': 4866, 'luxuri': 4867, 'eleven': 4868, 'judd': 4869, 'embark': 4870, 'appl': 4871, 'randolph': 4872, 'creek': 4873, 'cecil': 4874, 'bori': 4875, 'neatli': 4876, 'pronounc': 4877, 'spectacl': 4878, 'constitut': 4879, 'clara': 4880, 'evelyn': 4881, 'ol': 4882, 'trauma': 4883, 'signal': 4884, 'kazan': 4885, 'undertak': 4886, '1977': 4887, 'jedi': 4888, 'jam': 4889, 'ie': 4890, 'belli': 4891, 'nina': 4892, 'fluid': 4893, 'kent': 4894, 'bulk': 4895, 'sorrow': 4896, 'healthi': 4897, 'inaccuraci': 4898, '1974': 4899, 'liu': 4900, 'jule': 4901, 'jare': 4902, 'lex': 4903, 'occup': 4904, 'capot': 4905, 'gilliam': 4906, 'replay': 4907, 'alleg': 4908, 'sacrif': 4909, 'cape': 4910, 'blur': 4911, 'decapit': 4912, 'meal': 4913, 'vain': 4914, 'curtain': 4915, 'relentless': 4916, 'inclus': 4917, 'vignett': 4918, '1985': 4919, 'conan': 4920, 'goldblum': 4921, 'unsuspect': 4922, 'inaccur': 4923, 'comb': 4924, 'forgiven': 4925, 'bsg': 4926, 'poker': 4927, 'fruit': 4928, 'walt': 4929, 'lauren': 4930, 'groan': 4931, 'paula': 4932, 'porter': 4933, 'miami': 4934, 'pepper': 4935, 'antonio': 4936, 'spray': 4937, 'propheci': 4938, 'galaxi': 4939, 'abound': 4940, 'id': 4941, 'pioneer': 4942, 'genet': 4943, 'aussi': 4944, 'truman': 4945, 'roar': 4946, 'subtli': 4947, 'bait': 4948, 'mum': 4949, 'kiddi': 4950, 'ash': 4951, 'palm': 4952, 'unattract': 4953, 'miniseri': 4954, 'rosario': 4955, 'knee': 4956, 'congratul': 4957, 'sidewalk': 4958, 'carmen': 4959, 'tokyo': 4960, 'lanc': 4961, 'comprehens': 4962, 'basket': 4963, 'optimist': 4964, 'weari': 4965, '21st': 4966, 'growth': 4967, 'verg': 4968, 'turtl': 4969, 'bach': 4970, 'scarfac': 4971, 'handicap': 4972, 'victorian': 4973, 'scariest': 4974, 'ingrid': 4975, 'playboy': 4976, 'sparkl': 4977, 'sophi': 4978, 'orchestr': 4979, 'rapidli': 4980, 'frontal': 4981, 'weaker': 4982, 'modest': 4983, 'macabr': 4984, 'reincarn': 4985, 'vastli': 4986, 'motorcycl': 4987, 'masterson': 4988, 'dubiou': 4989, 'casper': 4990, 'omin': 4991, 'asset': 4992, 'cypher': 4993, 'assort': 4994, 'bravo': 4995, 'hostil': 4996, 'profil': 4997, 'monti': 4998, 'substanti': 4999}\n"
     ]
    }
   ],
   "source": [
    "# Use this cell to examine one of the processed reviews to make sure everything is working as intended.\n",
    "\n",
    "# In order to do the requested quick check, I am doing a manual spot check on one test review as follows: \n",
    "# Translate preprocessing result test_X[0] back from numbers to tokenized words in a variable called  rating, \n",
    "# then print the set of (len(test_X[0]), test_X[0], rating, word_dict ) and manually compare if all seems correct, which it does. \n",
    "rating=\"\"\n",
    "for i in test_X[0]:\n",
    "    if i == 0:\n",
    "        rating = rating + str(' ') + str('*NOWORD')\n",
    "    elif i == 1:\n",
    "        rating = rating + str(' ')+ str('*INFREQUENT')\n",
    "    else:\n",
    "        rating = rating +str(' ') + str(list(word_dict.keys())[list(word_dict.values()).index(i)])\n",
    "        \n",
    "print(\"Length of rating: \\n\\n\", len(test_X[0]),\" \\n\\n test_X[0] : \\n\", test_X[0], \"\\n\\n Rating translated back from numbers to words :\\n\\n\", rating, \"\\n\\n Dictionary:\\n\", word_dict)"
   ]
  },
  {
   "cell_type": "markdown",
   "metadata": {},
   "source": [
    "**Question:** In the cells above we use the `preprocess_data` and `convert_and_pad_data` methods to process both the training and testing set. Why or why not might this be a problem?"
   ]
  },
  {
   "cell_type": "markdown",
   "metadata": {},
   "source": [
    "**Answer:** # The preprocessing step transforms the review into tokenized words (stemmed and stopwords removed), then it compares the rating to a set of 5000 words in the word_dict and assigns \"INFREQ\" if the word is not included in the the dictionary.Moreover it cuts the entire rating to 500 words (including infrequent and no-word). Obviously the limitation to 5000 words, cutting the rating down to 500 words and  the process to select which words are entiteled to make it in to\n",
    " the dictionary (word_dict) is quiet arbitratry and my cause problems down the line as we have already seen with XGBoost. \n",
    "Alot of information in the review is lost. There may be a problem because  we created word_dict only with words from training data. Test data may have a different vocabulary all together, so we may get a label \"1\" for infrequent words in test data based on their frequency in training data. This may lead to mapping errors because frequent test data words may be wrongly classified as infrequent, solely  based on their frequency of occurence in the training set. "
   ]
  },
  {
   "cell_type": "markdown",
   "metadata": {},
   "source": [
    "## Step 3: Upload the data to S3\n",
    "\n",
    "As in the XGBoost notebook, we will need to upload the training dataset to S3 in order for our training code to access it. For now we will save it locally and we will upload to S3 later on.\n",
    "\n",
    "### Save the processed training dataset locally\n",
    "\n",
    "It is important to note the format of the data that we are saving as we will need to know it when we write the training code. In our case, each row of the dataset has the form `label`, `length`, `review[500]` where `review[500]` is a sequence of `500` integers representing the words in the review."
   ]
  },
  {
   "cell_type": "code",
   "execution_count": 21,
   "metadata": {},
   "outputs": [],
   "source": [
    "import pandas as pd\n",
    "    \n",
    "pd.concat([pd.DataFrame(train_y), pd.DataFrame(train_X_len), pd.DataFrame(train_X)], axis=1) \\\n",
    "        .to_csv(os.path.join(data_dir, 'train.csv'), header=False, index=False)"
   ]
  },
  {
   "cell_type": "markdown",
   "metadata": {},
   "source": [
    "### Uploading the training data\n",
    "\n",
    "\n",
    "Next, we need to upload the training data to the SageMaker default S3 bucket so that we can provide access to it while training our model."
   ]
  },
  {
   "cell_type": "code",
   "execution_count": 22,
   "metadata": {},
   "outputs": [],
   "source": [
    "import sagemaker\n",
    "\n",
    "sagemaker_session = sagemaker.Session()\n",
    "\n",
    "bucket = sagemaker_session.default_bucket()\n",
    "prefix = 'sagemaker/sentiment_rnn'\n",
    "\n",
    "role = sagemaker.get_execution_role()"
   ]
  },
  {
   "cell_type": "code",
   "execution_count": 23,
   "metadata": {},
   "outputs": [],
   "source": [
    "input_data = sagemaker_session.upload_data(path=data_dir, bucket=bucket, key_prefix=prefix)"
   ]
  },
  {
   "cell_type": "markdown",
   "metadata": {},
   "source": [
    "**NOTE:** The cell above uploads the entire contents of our data directory. This includes the `word_dict.pkl` file. This is fortunate as we will need this later on when we create an endpoint that accepts an arbitrary review. For now, we will just take note of the fact that it resides in the data directory (and so also in the S3 training bucket) and that we will need to make sure it gets saved in the model directory."
   ]
  },
  {
   "cell_type": "markdown",
   "metadata": {},
   "source": [
    "## Step 4: Build and Train the PyTorch Model\n",
    "\n",
    "In the XGBoost notebook we discussed what a model is in the SageMaker framework. In particular, a model comprises three objects\n",
    "\n",
    " - Model Artifacts,\n",
    " - Training Code, and\n",
    " - Inference Code,\n",
    " \n",
    "each of which interact with one another. In the XGBoost example we used training and inference code that was provided by Amazon. Here we will still be using containers provided by Amazon with the added benefit of being able to include our own custom code.\n",
    "\n",
    "We will start by implementing our own neural network in PyTorch along with a training script. For the purposes of this project we have provided the necessary model object in the `model.py` file, inside of the `train` folder. You can see the provided implementation by running the cell below."
   ]
  },
  {
   "cell_type": "code",
   "execution_count": 24,
   "metadata": {},
   "outputs": [
    {
     "name": "stdout",
     "output_type": "stream",
     "text": [
      "\u001b[34mimport\u001b[39;49;00m \u001b[04m\u001b[36mtorch\u001b[39;49;00m\u001b[04m\u001b[36m.\u001b[39;49;00m\u001b[04m\u001b[36mnn\u001b[39;49;00m \u001b[34mas\u001b[39;49;00m \u001b[04m\u001b[36mnn\u001b[39;49;00m\r\n",
      "\r\n",
      "\u001b[34mclass\u001b[39;49;00m \u001b[04m\u001b[32mLSTMClassifier\u001b[39;49;00m(nn.Module):\r\n",
      "    \u001b[33m\"\"\"\u001b[39;49;00m\r\n",
      "\u001b[33m    This is the simple RNN model we will be using to perform Sentiment Analysis.\u001b[39;49;00m\r\n",
      "\u001b[33m    \"\"\"\u001b[39;49;00m\r\n",
      "\r\n",
      "    \u001b[34mdef\u001b[39;49;00m \u001b[32m__init__\u001b[39;49;00m(\u001b[36mself\u001b[39;49;00m, embedding_dim, hidden_dim, vocab_size):\r\n",
      "        \u001b[33m\"\"\"\u001b[39;49;00m\r\n",
      "\u001b[33m        Initialize the model by settingg up the various layers.\u001b[39;49;00m\r\n",
      "\u001b[33m        \"\"\"\u001b[39;49;00m\r\n",
      "        \u001b[36msuper\u001b[39;49;00m(LSTMClassifier, \u001b[36mself\u001b[39;49;00m).\u001b[32m__init__\u001b[39;49;00m()\r\n",
      "\r\n",
      "        \u001b[36mself\u001b[39;49;00m.embedding = nn.Embedding(vocab_size, embedding_dim, padding_idx=\u001b[34m0\u001b[39;49;00m)\r\n",
      "        \u001b[36mself\u001b[39;49;00m.lstm = nn.LSTM(embedding_dim, hidden_dim)\r\n",
      "        \u001b[36mself\u001b[39;49;00m.dense = nn.Linear(in_features=hidden_dim, out_features=\u001b[34m1\u001b[39;49;00m)\r\n",
      "        \u001b[36mself\u001b[39;49;00m.sig = nn.Sigmoid()\r\n",
      "        \r\n",
      "        \u001b[36mself\u001b[39;49;00m.word_dict = \u001b[34mNone\u001b[39;49;00m\r\n",
      "\r\n",
      "    \u001b[34mdef\u001b[39;49;00m \u001b[32mforward\u001b[39;49;00m(\u001b[36mself\u001b[39;49;00m, x):\r\n",
      "        \u001b[33m\"\"\"\u001b[39;49;00m\r\n",
      "\u001b[33m        Perform a forward pass of our model on some input.\u001b[39;49;00m\r\n",
      "\u001b[33m        \"\"\"\u001b[39;49;00m\r\n",
      "        x = x.t()\r\n",
      "        lengths = x[\u001b[34m0\u001b[39;49;00m,:]\r\n",
      "        reviews = x[\u001b[34m1\u001b[39;49;00m:,:]\r\n",
      "        embeds = \u001b[36mself\u001b[39;49;00m.embedding(reviews)\r\n",
      "        lstm_out, _ = \u001b[36mself\u001b[39;49;00m.lstm(embeds)\r\n",
      "        out = \u001b[36mself\u001b[39;49;00m.dense(lstm_out)\r\n",
      "        out = out[lengths - \u001b[34m1\u001b[39;49;00m, \u001b[36mrange\u001b[39;49;00m(\u001b[36mlen\u001b[39;49;00m(lengths))]\r\n",
      "        \u001b[34mreturn\u001b[39;49;00m \u001b[36mself\u001b[39;49;00m.sig(out.squeeze())\r\n"
     ]
    }
   ],
   "source": [
    "!pygmentize train/model.py"
   ]
  },
  {
   "cell_type": "markdown",
   "metadata": {},
   "source": [
    "The important takeaway from the implementation provided is that there are three parameters that we may wish to tweak to improve the performance of our model. These are the embedding dimension, the hidden dimension and the size of the vocabulary. We will likely want to make these parameters configurable in the training script so that if we wish to modify them we do not need to modify the script itself. We will see how to do this later on. To start we will write some of the training code in the notebook so that we can more easily diagnose any issues that arise.\n",
    "\n",
    "First we will load a small portion of the training data set to use as a sample. It would be very time consuming to try and train the model completely in the notebook as we do not have access to a gpu and the compute instance that we are using is not particularly powerful. However, we can work on a small bit of the data to get a feel for how our training script is behaving."
   ]
  },
  {
   "cell_type": "code",
   "execution_count": 25,
   "metadata": {},
   "outputs": [],
   "source": [
    "import torch\n",
    "import torch.utils.data\n",
    "\n",
    "# Read in only the first 250 rows\n",
    "train_sample = pd.read_csv(os.path.join(data_dir, 'train.csv'), header=None, names=None, nrows=250)\n",
    "\n",
    "# Turn the input pandas dataframe into tensors\n",
    "train_sample_y = torch.from_numpy(train_sample[[0]].values).float().squeeze()\n",
    "train_sample_X = torch.from_numpy(train_sample.drop([0], axis=1).values).long()\n",
    "\n",
    "# Build the dataset\n",
    "train_sample_ds = torch.utils.data.TensorDataset(train_sample_X, train_sample_y)\n",
    "# Build the dataloader\n",
    "train_sample_dl = torch.utils.data.DataLoader(train_sample_ds, batch_size=50)"
   ]
  },
  {
   "cell_type": "markdown",
   "metadata": {},
   "source": [
    "### (TODO) Writing the training method\n",
    "\n",
    "Next we need to write the training code itself. This should be very similar to training methods that you have written before to train PyTorch models. We will leave any difficult aspects such as model saving / loading and parameter loading until a little later."
   ]
  },
  {
   "cell_type": "code",
   "execution_count": 26,
   "metadata": {},
   "outputs": [],
   "source": [
    "def train(model, train_loader, epochs, optimizer, loss_fn, device):\n",
    "    for epoch in range(1, epochs + 1):\n",
    "        model.train()\n",
    "        total_loss = 0\n",
    "        for batch in train_loader:         \n",
    "            batch_X, batch_y = batch\n",
    "            \n",
    "            batch_X = batch_X.to(device)\n",
    "            batch_y = batch_y.to(device)\n",
    "            \n",
    "            # TODO: Complete this train method to train the model provided.\n",
    "            model.zero_grad()\n",
    "            forward = model.forward(batch_X)\n",
    "            loss = loss_fn(forward, batch_y)\n",
    "            loss.backward()\n",
    "            optimizer.step()\n",
    "            \n",
    "            total_loss += loss.data.item()\n",
    "        print(\"Epoch: {}, BCELoss: {}\".format(epoch, total_loss / len(train_loader)))"
   ]
  },
  {
   "cell_type": "markdown",
   "metadata": {},
   "source": [
    "Supposing we have the training method above, we will test that it is working by writing a bit of code in the notebook that executes our training method on the small sample training set that we loaded earlier. The reason for doing this in the notebook is so that we have an opportunity to fix any errors that arise early when they are easier to diagnose."
   ]
  },
  {
   "cell_type": "code",
   "execution_count": 27,
   "metadata": {},
   "outputs": [
    {
     "name": "stdout",
     "output_type": "stream",
     "text": [
      "Epoch: 1, BCELoss: 0.6904621601104737\n",
      "Epoch: 2, BCELoss: 0.6784745573997497\n",
      "Epoch: 3, BCELoss: 0.6682729005813599\n",
      "Epoch: 4, BCELoss: 0.6571086049079895\n",
      "Epoch: 5, BCELoss: 0.6435078501701355\n"
     ]
    }
   ],
   "source": [
    "import torch.optim as optim\n",
    "from train.model import LSTMClassifier\n",
    "\n",
    "device = torch.device(\"cuda\" if torch.cuda.is_available() else \"cpu\")\n",
    "model = LSTMClassifier(32, 100, 5000).to(device)\n",
    "optimizer = optim.Adam(model.parameters())\n",
    "loss_fn = torch.nn.BCELoss()\n",
    "\n",
    "train(model, train_sample_dl, 5, optimizer, loss_fn, device)"
   ]
  },
  {
   "cell_type": "markdown",
   "metadata": {},
   "source": [
    "In order to construct a PyTorch model using SageMaker we must provide SageMaker with a training script. We may optionally include a directory which will be copied to the container and from which our training code will be run. When the training container is executed it will check the uploaded directory (if there is one) for a `requirements.txt` file and install any required Python libraries, after which the training script will be run."
   ]
  },
  {
   "cell_type": "markdown",
   "metadata": {},
   "source": [
    "### (TODO) Training the model\n",
    "\n",
    "When a PyTorch model is constructed in SageMaker, an entry point must be specified. This is the Python file which will be executed when the model is trained. Inside of the `train` directory is a file called `train.py` which has been provided and which contains most of the necessary code to train our model. The only thing that is missing is the implementation of the `train()` method which you wrote earlier in this notebook.\n",
    "\n",
    "**TODO**: Copy the `train()` method written above and paste it into the `train/train.py` file where required.\n",
    "\n",
    "The way that SageMaker passes hyperparameters to the training script is by way of arguments. These arguments can then be parsed and used in the training script. To see how this is done take a look at the provided `train/train.py` file."
   ]
  },
  {
   "cell_type": "code",
   "execution_count": 28,
   "metadata": {},
   "outputs": [],
   "source": [
    "from sagemaker.pytorch import PyTorch\n",
    "\n",
    "estimator = PyTorch(entry_point=\"train.py\",\n",
    "                    source_dir=\"train\",\n",
    "                    role=role,\n",
    "                    framework_version='0.4.0',\n",
    "                    train_instance_count=1,\n",
    "                    train_instance_type='ml.p2.xlarge',\n",
    "                    hyperparameters={\n",
    "                        'epochs': 10,\n",
    "                        'hidden_dim': 200,\n",
    "                    })"
   ]
  },
  {
   "cell_type": "code",
   "execution_count": 29,
   "metadata": {},
   "outputs": [
    {
     "name": "stderr",
     "output_type": "stream",
     "text": [
      "'create_image_uri' will be deprecated in favor of 'ImageURIProvider' class in SageMaker Python SDK v2.\n",
      "'s3_input' class will be renamed to 'TrainingInput' in SageMaker Python SDK v2.\n",
      "'create_image_uri' will be deprecated in favor of 'ImageURIProvider' class in SageMaker Python SDK v2.\n"
     ]
    },
    {
     "name": "stdout",
     "output_type": "stream",
     "text": [
      "2021-02-02 04:09:25 Starting - Starting the training job...\n",
      "2021-02-02 04:09:26 Starting - Launching requested ML instances......\n",
      "2021-02-02 04:10:54 Starting - Preparing the instances for training.........\n",
      "2021-02-02 04:12:15 Downloading - Downloading input data...\n",
      "2021-02-02 04:12:47 Training - Downloading the training image...\n",
      "2021-02-02 04:13:22 Training - Training image download completed. Training in progress..\u001b[34mbash: cannot set terminal process group (-1): Inappropriate ioctl for device\u001b[0m\n",
      "\u001b[34mbash: no job control in this shell\u001b[0m\n",
      "\u001b[34m2021-02-02 04:13:23,117 sagemaker-containers INFO     Imported framework sagemaker_pytorch_container.training\u001b[0m\n",
      "\u001b[34m2021-02-02 04:13:23,144 sagemaker_pytorch_container.training INFO     Block until all host DNS lookups succeed.\u001b[0m\n",
      "\u001b[34m2021-02-02 04:13:23,148 sagemaker_pytorch_container.training INFO     Invoking user training script.\u001b[0m\n",
      "\u001b[34m2021-02-02 04:13:23,420 sagemaker-containers INFO     Module train does not provide a setup.py. \u001b[0m\n",
      "\u001b[34mGenerating setup.py\u001b[0m\n",
      "\u001b[34m2021-02-02 04:13:23,420 sagemaker-containers INFO     Generating setup.cfg\u001b[0m\n",
      "\u001b[34m2021-02-02 04:13:23,420 sagemaker-containers INFO     Generating MANIFEST.in\u001b[0m\n",
      "\u001b[34m2021-02-02 04:13:23,420 sagemaker-containers INFO     Installing module with the following command:\u001b[0m\n",
      "\u001b[34m/usr/bin/python -m pip install -U . -r requirements.txt\u001b[0m\n",
      "\u001b[34mProcessing /opt/ml/code\u001b[0m\n",
      "\u001b[34mCollecting pandas (from -r requirements.txt (line 1))\n",
      "  Downloading https://files.pythonhosted.org/packages/74/24/0cdbf8907e1e3bc5a8da03345c23cbed7044330bb8f73bb12e711a640a00/pandas-0.24.2-cp35-cp35m-manylinux1_x86_64.whl (10.0MB)\u001b[0m\n",
      "\u001b[34mCollecting numpy (from -r requirements.txt (line 2))\n",
      "  Downloading https://files.pythonhosted.org/packages/b5/36/88723426b4ff576809fec7d73594fe17a35c27f8d01f93637637a29ae25b/numpy-1.18.5-cp35-cp35m-manylinux1_x86_64.whl (19.9MB)\u001b[0m\n",
      "\u001b[34mCollecting nltk (from -r requirements.txt (line 3))\n",
      "  Downloading https://files.pythonhosted.org/packages/92/75/ce35194d8e3022203cca0d2f896dbb88689f9b3fce8e9f9cff942913519d/nltk-3.5.zip (1.4MB)\u001b[0m\n",
      "\u001b[34mCollecting beautifulsoup4 (from -r requirements.txt (line 4))\n",
      "  Downloading https://files.pythonhosted.org/packages/d1/41/e6495bd7d3781cee623ce23ea6ac73282a373088fcd0ddc809a047b18eae/beautifulsoup4-4.9.3-py3-none-any.whl (115kB)\u001b[0m\n",
      "\u001b[34mCollecting html5lib (from -r requirements.txt (line 5))\n",
      "  Downloading https://files.pythonhosted.org/packages/6c/dd/a834df6482147d48e225a49515aabc28974ad5a4ca3215c18a882565b028/html5lib-1.1-py2.py3-none-any.whl (112kB)\u001b[0m\n",
      "\u001b[34mRequirement already satisfied, skipping upgrade: python-dateutil>=2.5.0 in /usr/local/lib/python3.5/dist-packages (from pandas->-r requirements.txt (line 1)) (2.7.5)\u001b[0m\n",
      "\u001b[34mCollecting pytz>=2011k (from pandas->-r requirements.txt (line 1))\n",
      "  Downloading https://files.pythonhosted.org/packages/70/94/784178ca5dd892a98f113cdd923372024dc04b8d40abe77ca76b5fb90ca6/pytz-2021.1-py2.py3-none-any.whl (510kB)\u001b[0m\n",
      "\u001b[34mRequirement already satisfied, skipping upgrade: click in /usr/local/lib/python3.5/dist-packages (from nltk->-r requirements.txt (line 3)) (7.0)\u001b[0m\n",
      "\u001b[34mCollecting joblib (from nltk->-r requirements.txt (line 3))\n",
      "  Downloading https://files.pythonhosted.org/packages/28/5c/cf6a2b65a321c4a209efcdf64c2689efae2cb62661f8f6f4bb28547cf1bf/joblib-0.14.1-py2.py3-none-any.whl (294kB)\u001b[0m\n",
      "\u001b[34mCollecting regex (from nltk->-r requirements.txt (line 3))\u001b[0m\n",
      "\u001b[34m  Downloading https://files.pythonhosted.org/packages/2e/e4/3447fed9ab29944333f48730ecff4dca92f0868c5b188d6ab2b2078e32c2/regex-2020.11.13.tar.gz (694kB)\u001b[0m\n",
      "\u001b[34mCollecting tqdm (from nltk->-r requirements.txt (line 3))\u001b[0m\n",
      "\u001b[34m  Downloading https://files.pythonhosted.org/packages/80/02/8f8880a4fd6625461833abcf679d4c12a44c76f9925f92bf212bb6cefaad/tqdm-4.56.0-py2.py3-none-any.whl (72kB)\u001b[0m\n",
      "\u001b[34mCollecting soupsieve>1.2; python_version >= \"3.0\" (from beautifulsoup4->-r requirements.txt (line 4))\n",
      "  Downloading https://files.pythonhosted.org/packages/02/fb/1c65691a9aeb7bd6ac2aa505b84cb8b49ac29c976411c6ab3659425e045f/soupsieve-2.1-py3-none-any.whl\u001b[0m\n",
      "\u001b[34mRequirement already satisfied, skipping upgrade: six>=1.9 in /usr/local/lib/python3.5/dist-packages (from html5lib->-r requirements.txt (line 5)) (1.11.0)\u001b[0m\n",
      "\u001b[34mCollecting webencodings (from html5lib->-r requirements.txt (line 5))\n",
      "  Downloading https://files.pythonhosted.org/packages/f4/24/2a3e3df732393fed8b3ebf2ec078f05546de641fe1b667ee316ec1dcf3b7/webencodings-0.5.1-py2.py3-none-any.whl\u001b[0m\n",
      "\u001b[34mBuilding wheels for collected packages: nltk, train, regex\n",
      "  Running setup.py bdist_wheel for nltk: started\n",
      "  Running setup.py bdist_wheel for nltk: finished with status 'done'\n",
      "  Stored in directory: /root/.cache/pip/wheels/ae/8c/3f/b1fe0ba04555b08b57ab52ab7f86023639a526d8bc8d384306\u001b[0m\n",
      "\u001b[34m  Running setup.py bdist_wheel for train: started\n",
      "  Running setup.py bdist_wheel for train: finished with status 'done'\n",
      "  Stored in directory: /tmp/pip-ephem-wheel-cache-942cweok/wheels/35/24/16/37574d11bf9bde50616c67372a334f94fa8356bc7164af8ca3\n",
      "  Running setup.py bdist_wheel for regex: started\u001b[0m\n",
      "\u001b[34m  Running setup.py bdist_wheel for regex: finished with status 'done'\n",
      "  Stored in directory: /root/.cache/pip/wheels/27/f6/66/a4243e485a0ebc73dc59033ae26c48e82526f77dbfe158ac59\u001b[0m\n",
      "\u001b[34mSuccessfully built nltk train regex\u001b[0m\n",
      "\u001b[34mInstalling collected packages: numpy, pytz, pandas, joblib, regex, tqdm, nltk, soupsieve, beautifulsoup4, webencodings, html5lib, train\n",
      "  Found existing installation: numpy 1.15.4\n",
      "    Uninstalling numpy-1.15.4:\u001b[0m\n",
      "\u001b[34m      Successfully uninstalled numpy-1.15.4\u001b[0m\n",
      "\u001b[34mSuccessfully installed beautifulsoup4-4.9.3 html5lib-1.1 joblib-0.14.1 nltk-3.5 numpy-1.18.5 pandas-0.24.2 pytz-2021.1 regex-2020.11.13 soupsieve-2.1 tqdm-4.56.0 train-1.0.0 webencodings-0.5.1\u001b[0m\n",
      "\u001b[34mYou are using pip version 18.1, however version 20.3.4 is available.\u001b[0m\n",
      "\u001b[34mYou should consider upgrading via the 'pip install --upgrade pip' command.\u001b[0m\n",
      "\u001b[34m2021-02-02 04:13:46,728 sagemaker-containers INFO     Invoking user script\n",
      "\u001b[0m\n",
      "\u001b[34mTraining Env:\n",
      "\u001b[0m\n",
      "\u001b[34m{\n",
      "    \"num_cpus\": 4,\n",
      "    \"input_data_config\": {\n",
      "        \"training\": {\n",
      "            \"S3DistributionType\": \"FullyReplicated\",\n",
      "            \"TrainingInputMode\": \"File\",\n",
      "            \"RecordWrapperType\": \"None\"\n",
      "        }\n",
      "    },\n",
      "    \"job_name\": \"sagemaker-pytorch-2021-02-02-04-09-24-610\",\n",
      "    \"user_entry_point\": \"train.py\",\n",
      "    \"input_config_dir\": \"/opt/ml/input/config\",\n",
      "    \"hosts\": [\n",
      "        \"algo-1\"\n",
      "    ],\n",
      "    \"additional_framework_parameters\": {},\n",
      "    \"output_intermediate_dir\": \"/opt/ml/output/intermediate\",\n",
      "    \"hyperparameters\": {\n",
      "        \"epochs\": 10,\n",
      "        \"hidden_dim\": 200\n",
      "    },\n",
      "    \"output_dir\": \"/opt/ml/output\",\n",
      "    \"resource_config\": {\n",
      "        \"hosts\": [\n",
      "            \"algo-1\"\n",
      "        ],\n",
      "        \"current_host\": \"algo-1\",\n",
      "        \"network_interface_name\": \"eth0\"\n",
      "    },\n",
      "    \"framework_module\": \"sagemaker_pytorch_container.training:main\",\n",
      "    \"channel_input_dirs\": {\n",
      "        \"training\": \"/opt/ml/input/data/training\"\n",
      "    },\n",
      "    \"module_name\": \"train\",\n",
      "    \"input_dir\": \"/opt/ml/input\",\n",
      "    \"module_dir\": \"s3://sagemaker-us-east-1-246013994907/sagemaker-pytorch-2021-02-02-04-09-24-610/source/sourcedir.tar.gz\",\n",
      "    \"output_data_dir\": \"/opt/ml/output/data\",\n",
      "    \"model_dir\": \"/opt/ml/model\",\n",
      "    \"network_interface_name\": \"eth0\",\n",
      "    \"log_level\": 20,\n",
      "    \"num_gpus\": 1,\n",
      "    \"current_host\": \"algo-1\"\u001b[0m\n",
      "\u001b[34m}\n",
      "\u001b[0m\n",
      "\u001b[34mEnvironment variables:\n",
      "\u001b[0m\n",
      "\u001b[34mSM_CURRENT_HOST=algo-1\u001b[0m\n",
      "\u001b[34mSM_HP_EPOCHS=10\u001b[0m\n",
      "\u001b[34mSM_INPUT_DIR=/opt/ml/input\u001b[0m\n",
      "\u001b[34mSM_CHANNELS=[\"training\"]\u001b[0m\n",
      "\u001b[34mSM_FRAMEWORK_PARAMS={}\u001b[0m\n",
      "\u001b[34mSM_HOSTS=[\"algo-1\"]\u001b[0m\n",
      "\u001b[34mSM_MODEL_DIR=/opt/ml/model\u001b[0m\n",
      "\u001b[34mSM_NUM_GPUS=1\u001b[0m\n",
      "\u001b[34mSM_OUTPUT_DIR=/opt/ml/output\u001b[0m\n",
      "\u001b[34mSM_USER_ARGS=[\"--epochs\",\"10\",\"--hidden_dim\",\"200\"]\u001b[0m\n",
      "\u001b[34mPYTHONPATH=/usr/local/bin:/usr/lib/python35.zip:/usr/lib/python3.5:/usr/lib/python3.5/plat-x86_64-linux-gnu:/usr/lib/python3.5/lib-dynload:/usr/local/lib/python3.5/dist-packages:/usr/lib/python3/dist-packages\u001b[0m\n",
      "\u001b[34mSM_OUTPUT_INTERMEDIATE_DIR=/opt/ml/output/intermediate\u001b[0m\n",
      "\u001b[34mSM_OUTPUT_DATA_DIR=/opt/ml/output/data\u001b[0m\n",
      "\u001b[34mSM_NUM_CPUS=4\u001b[0m\n",
      "\u001b[34mSM_NETWORK_INTERFACE_NAME=eth0\u001b[0m\n",
      "\u001b[34mSM_HP_HIDDEN_DIM=200\u001b[0m\n",
      "\u001b[34mSM_LOG_LEVEL=20\u001b[0m\n",
      "\u001b[34mSM_RESOURCE_CONFIG={\"current_host\":\"algo-1\",\"hosts\":[\"algo-1\"],\"network_interface_name\":\"eth0\"}\u001b[0m\n",
      "\u001b[34mSM_INPUT_CONFIG_DIR=/opt/ml/input/config\u001b[0m\n",
      "\u001b[34mSM_FRAMEWORK_MODULE=sagemaker_pytorch_container.training:main\u001b[0m\n",
      "\u001b[34mSM_INPUT_DATA_CONFIG={\"training\":{\"RecordWrapperType\":\"None\",\"S3DistributionType\":\"FullyReplicated\",\"TrainingInputMode\":\"File\"}}\u001b[0m\n",
      "\u001b[34mSM_MODULE_DIR=s3://sagemaker-us-east-1-246013994907/sagemaker-pytorch-2021-02-02-04-09-24-610/source/sourcedir.tar.gz\u001b[0m\n",
      "\u001b[34mSM_CHANNEL_TRAINING=/opt/ml/input/data/training\u001b[0m\n",
      "\u001b[34mSM_USER_ENTRY_POINT=train.py\u001b[0m\n",
      "\u001b[34mSM_HPS={\"epochs\":10,\"hidden_dim\":200}\u001b[0m\n",
      "\u001b[34mSM_TRAINING_ENV={\"additional_framework_parameters\":{},\"channel_input_dirs\":{\"training\":\"/opt/ml/input/data/training\"},\"current_host\":\"algo-1\",\"framework_module\":\"sagemaker_pytorch_container.training:main\",\"hosts\":[\"algo-1\"],\"hyperparameters\":{\"epochs\":10,\"hidden_dim\":200},\"input_config_dir\":\"/opt/ml/input/config\",\"input_data_config\":{\"training\":{\"RecordWrapperType\":\"None\",\"S3DistributionType\":\"FullyReplicated\",\"TrainingInputMode\":\"File\"}},\"input_dir\":\"/opt/ml/input\",\"job_name\":\"sagemaker-pytorch-2021-02-02-04-09-24-610\",\"log_level\":20,\"model_dir\":\"/opt/ml/model\",\"module_dir\":\"s3://sagemaker-us-east-1-246013994907/sagemaker-pytorch-2021-02-02-04-09-24-610/source/sourcedir.tar.gz\",\"module_name\":\"train\",\"network_interface_name\":\"eth0\",\"num_cpus\":4,\"num_gpus\":1,\"output_data_dir\":\"/opt/ml/output/data\",\"output_dir\":\"/opt/ml/output\",\"output_intermediate_dir\":\"/opt/ml/output/intermediate\",\"resource_config\":{\"current_host\":\"algo-1\",\"hosts\":[\"algo-1\"],\"network_interface_name\":\"eth0\"},\"user_entry_point\":\"train.py\"}\u001b[0m\n",
      "\u001b[34mSM_MODULE_NAME=train\n",
      "\u001b[0m\n",
      "\u001b[34mInvoking script with the following command:\n",
      "\u001b[0m\n",
      "\u001b[34m/usr/bin/python -m train --epochs 10 --hidden_dim 200\n",
      "\n",
      "\u001b[0m\n",
      "\u001b[34mUsing device cuda.\u001b[0m\n",
      "\u001b[34mGet train data loader.\u001b[0m\n"
     ]
    },
    {
     "name": "stdout",
     "output_type": "stream",
     "text": [
      "\u001b[34mModel loaded with embedding_dim 32, hidden_dim 200, vocab_size 5000.\u001b[0m\n",
      "\u001b[34mEpoch: 1, BCELoss: 0.6726043187842077\u001b[0m\n",
      "\u001b[34mEpoch: 2, BCELoss: 0.5896007175348243\u001b[0m\n",
      "\u001b[34mEpoch: 3, BCELoss: 0.49670951767843596\u001b[0m\n",
      "\u001b[34mEpoch: 4, BCELoss: 0.4313606419125382\u001b[0m\n",
      "\u001b[34mEpoch: 5, BCELoss: 0.40279572168175054\u001b[0m\n",
      "\u001b[34mEpoch: 6, BCELoss: 0.35093637753506096\u001b[0m\n",
      "\u001b[34mEpoch: 7, BCELoss: 0.3286001572803575\u001b[0m\n",
      "\u001b[34mEpoch: 8, BCELoss: 0.31564359336483233\u001b[0m\n",
      "\u001b[34mEpoch: 9, BCELoss: 0.306574074285371\u001b[0m\n",
      "\n",
      "2021-02-02 04:16:52 Uploading - Uploading generated training model\n",
      "2021-02-02 04:16:52 Completed - Training job completed\n",
      "\u001b[34mEpoch: 10, BCELoss: 0.27518685648635943\u001b[0m\n",
      "\u001b[34m2021-02-02 04:16:43,688 sagemaker-containers INFO     Reporting training SUCCESS\u001b[0m\n",
      "Training seconds: 277\n",
      "Billable seconds: 277\n"
     ]
    }
   ],
   "source": [
    "estimator.fit({'training': input_data})"
   ]
  },
  {
   "cell_type": "markdown",
   "metadata": {},
   "source": [
    "## Step 5: Testing the model\n",
    "\n",
    "As mentioned at the top of this notebook, we will be testing this model by first deploying it and then sending the testing data to the deployed endpoint. We will do this so that we can make sure that the deployed model is working correctly.\n",
    "\n",
    "## Step 6: Deploy the model for testing\n",
    "\n",
    "Now that we have trained our model, we would like to test it to see how it performs. Currently our model takes input of the form `review_length, review[500]` where `review[500]` is a sequence of `500` integers which describe the words present in the review, encoded using `word_dict`. Fortunately for us, SageMaker provides built-in inference code for models with simple inputs such as this.\n",
    "\n",
    "There is one thing that we need to provide, however, and that is a function which loads the saved model. This function must be called `model_fn()` and takes as its only parameter a path to the directory where the model artifacts are stored. This function must also be present in the python file which we specified as the entry point. In our case the model loading function has been provided and so no changes need to be made.\n",
    "\n",
    "**NOTE**: When the built-in inference code is run it must import the `model_fn()` method from the `train.py` file. This is why the training code is wrapped in a main guard ( ie, `if __name__ == '__main__':` )\n",
    "\n",
    "Since we don't need to change anything in the code that was uploaded during training, we can simply deploy the current model as-is.\n",
    "\n",
    "**NOTE:** When deploying a model you are asking SageMaker to launch an compute instance that will wait for data to be sent to it. As a result, this compute instance will continue to run until *you* shut it down. This is important to know since the cost of a deployed endpoint depends on how long it has been running for.\n",
    "\n",
    "In other words **If you are no longer using a deployed endpoint, shut it down!**\n",
    "\n",
    "**TODO:** Deploy the trained model."
   ]
  },
  {
   "cell_type": "code",
   "execution_count": 30,
   "metadata": {},
   "outputs": [
    {
     "name": "stderr",
     "output_type": "stream",
     "text": [
      "Parameter image will be renamed to image_uri in SageMaker Python SDK v2.\n",
      "'create_image_uri' will be deprecated in favor of 'ImageURIProvider' class in SageMaker Python SDK v2.\n"
     ]
    },
    {
     "name": "stdout",
     "output_type": "stream",
     "text": [
      "---------------!"
     ]
    }
   ],
   "source": [
    "# TODO: Deploy the trained model\n",
    "predictor=estimator.deploy(initial_instance_count=1, instance_type='ml.m4.16xlarge')"
   ]
  },
  {
   "cell_type": "markdown",
   "metadata": {},
   "source": [
    "## Step 7 - Use the model for testing\n",
    "\n",
    "Once deployed, we can read in the test data and send it off to our deployed model to get some results. Once we collect all of the results we can determine how accurate our model is."
   ]
  },
  {
   "cell_type": "code",
   "execution_count": 31,
   "metadata": {},
   "outputs": [],
   "source": [
    "test_X = pd.concat([pd.DataFrame(test_X_len), pd.DataFrame(test_X)], axis=1)"
   ]
  },
  {
   "cell_type": "code",
   "execution_count": 32,
   "metadata": {},
   "outputs": [],
   "source": [
    "# We split the data into chunks and send each chunk seperately, accumulating the results.\n",
    "\n",
    "def predict(data, rows=512):\n",
    "    split_array = np.array_split(data, int(data.shape[0] / float(rows) + 1))\n",
    "    predictions = np.array([])\n",
    "    for array in split_array:\n",
    "        predictions = np.append(predictions, predictor.predict(array))\n",
    "    \n",
    "    return predictions"
   ]
  },
  {
   "cell_type": "code",
   "execution_count": 33,
   "metadata": {},
   "outputs": [],
   "source": [
    "predictions = predict(test_X.values)\n",
    "predictions = [round(num) for num in predictions]"
   ]
  },
  {
   "cell_type": "code",
   "execution_count": 34,
   "metadata": {},
   "outputs": [
    {
     "data": {
      "text/plain": [
       "0.85444"
      ]
     },
     "execution_count": 34,
     "metadata": {},
     "output_type": "execute_result"
    }
   ],
   "source": [
    "from sklearn.metrics import accuracy_score\n",
    "accuracy_score(test_y, predictions)"
   ]
  },
  {
   "cell_type": "markdown",
   "metadata": {},
   "source": [
    "**Question:** How does this model compare to the XGBoost model you created earlier? Why might these two models perform differently on this dataset? Which do *you* think is better for sentiment analysis?"
   ]
  },
  {
   "cell_type": "markdown",
   "metadata": {},
   "source": [
    "**Answer:** The error is of the same magnitute as compared to XGboost there we had accuracy score of around (.84 - .86) with Hyperparameter tuning.\n",
    "I still think the neural network can do better if properly tuned and with more layers. Also we had only 20 epochs with the neural network and we did not do any Hyperparameter tuning."
   ]
  },
  {
   "cell_type": "markdown",
   "metadata": {},
   "source": [
    "### (TODO) More testing\n",
    "\n",
    "We now have a trained model which has been deployed and which we can send processed reviews to and which returns the predicted sentiment. However, ultimately we would like to be able to send our model an unprocessed review. That is, we would like to send the review itself as a string. For example, suppose we wish to send the following review to our model."
   ]
  },
  {
   "cell_type": "code",
   "execution_count": 35,
   "metadata": {},
   "outputs": [],
   "source": [
    "test_review = 'The simplest pleasures in life are the best, and this film is one of them. Combining a rather basic storyline of love and adventure this movie transcends the usual weekend fair with wit and unmitigated charm.'"
   ]
  },
  {
   "cell_type": "markdown",
   "metadata": {},
   "source": [
    "The question we now need to answer is, how do we send this review to our model?\n",
    "\n",
    "Recall in the first section of this notebook we did a bunch of data processing to the IMDb dataset. In particular, we did two specific things to the provided reviews.\n",
    " - Removed any html tags and stemmed the input\n",
    " - Encoded the review as a sequence of integers using `word_dict`\n",
    " \n",
    "In order process the review we will need to repeat these two steps.\n",
    "\n",
    "**TODO**: Using the `review_to_words` and `convert_and_pad` methods from section one, convert `test_review` into a numpy array `test_data` suitable to send to our model. Remember that our model expects input of the form `review_length, review[500]`."
   ]
  },
  {
   "cell_type": "code",
   "execution_count": 36,
   "metadata": {},
   "outputs": [],
   "source": [
    "# TODO: Convert test_review into a form usable by the model and save the results in test_data\n",
    "test_review_words=[]\n",
    "test_review_words = [np.array(review_to_words(test_review))]\n",
    "test_data, test_data_length = convert_and_pad_data(word_dict, test_review_words)"
   ]
  },
  {
   "cell_type": "code",
   "execution_count": null,
   "metadata": {},
   "outputs": [],
   "source": []
  },
  {
   "cell_type": "markdown",
   "metadata": {},
   "source": [
    "Now that we have processed the review, we can send the resulting array to our model to predict the sentiment of the review."
   ]
  },
  {
   "cell_type": "code",
   "execution_count": 37,
   "metadata": {},
   "outputs": [
    {
     "data": {
      "text/plain": [
       "array(0.52649534, dtype=float32)"
      ]
     },
     "execution_count": 37,
     "metadata": {},
     "output_type": "execute_result"
    }
   ],
   "source": [
    "predictor.predict(test_data)"
   ]
  },
  {
   "cell_type": "markdown",
   "metadata": {},
   "source": [
    "Since the return value of our model is close to `1`, we can be certain that the review we submitted is positive."
   ]
  },
  {
   "cell_type": "markdown",
   "metadata": {},
   "source": [
    "### Delete the endpoint\n",
    "\n",
    "Of course, just like in the XGBoost notebook, once we've deployed an endpoint it continues to run until we tell it to shut down. Since we are done using our endpoint for now, we can delete it."
   ]
  },
  {
   "cell_type": "code",
   "execution_count": 38,
   "metadata": {},
   "outputs": [
    {
     "name": "stderr",
     "output_type": "stream",
     "text": [
      "estimator.delete_endpoint() will be deprecated in SageMaker Python SDK v2. Please use the delete_endpoint() function on your predictor instead.\n"
     ]
    }
   ],
   "source": [
    "estimator.delete_endpoint()"
   ]
  },
  {
   "cell_type": "markdown",
   "metadata": {},
   "source": [
    "## Step 6 (again) - Deploy the model for the web app\n",
    "\n",
    "Now that we know that our model is working, it's time to create some custom inference code so that we can send the model a review which has not been processed and have it determine the sentiment of the review.\n",
    "\n",
    "As we saw above, by default the estimator which we created, when deployed, will use the entry script and directory which we provided when creating the model. However, since we now wish to accept a string as input and our model expects a processed review, we need to write some custom inference code.\n",
    "\n",
    "We will store the code that we write in the `serve` directory. Provided in this directory is the `model.py` file that we used to construct our model, a `utils.py` file which contains the `review_to_words` and `convert_and_pad` pre-processing functions which we used during the initial data processing, and `predict.py`, the file which will contain our custom inference code. Note also that `requirements.txt` is present which will tell SageMaker what Python libraries are required by our custom inference code.\n",
    "\n",
    "When deploying a PyTorch model in SageMaker, you are expected to provide four functions which the SageMaker inference container will use.\n",
    " - `model_fn`: This function is the same function that we used in the training script and it tells SageMaker how to load our model.\n",
    " - `input_fn`: This function receives the raw serialized input that has been sent to the model's endpoint and its job is to de-serialize and make the input available for the inference code.\n",
    " - `output_fn`: This function takes the output of the inference code and its job is to serialize this output and return it to the caller of the model's endpoint.\n",
    " - `predict_fn`: The heart of the inference script, this is where the actual prediction is done and is the function which you will need to complete.\n",
    "\n",
    "For the simple website that we are constructing during this project, the `input_fn` and `output_fn` methods are relatively straightforward. We only require being able to accept a string as input and we expect to return a single value as output. You might imagine though that in a more complex application the input or output may be image data or some other binary data which would require some effort to serialize.\n",
    "\n",
    "### (TODO) Writing inference code\n",
    "\n",
    "Before writing our custom inference code, we will begin by taking a look at the code which has been provided."
   ]
  },
  {
   "cell_type": "code",
   "execution_count": 39,
   "metadata": {},
   "outputs": [
    {
     "name": "stdout",
     "output_type": "stream",
     "text": [
      "\u001b[34mimport\u001b[39;49;00m \u001b[04m\u001b[36margparse\u001b[39;49;00m\r\n",
      "\u001b[34mimport\u001b[39;49;00m \u001b[04m\u001b[36mjson\u001b[39;49;00m\r\n",
      "\u001b[34mimport\u001b[39;49;00m \u001b[04m\u001b[36mos\u001b[39;49;00m\r\n",
      "\u001b[34mimport\u001b[39;49;00m \u001b[04m\u001b[36mpickle\u001b[39;49;00m\r\n",
      "\u001b[34mimport\u001b[39;49;00m \u001b[04m\u001b[36msys\u001b[39;49;00m\r\n",
      "\u001b[34mimport\u001b[39;49;00m \u001b[04m\u001b[36msagemaker_containers\u001b[39;49;00m\r\n",
      "\u001b[34mimport\u001b[39;49;00m \u001b[04m\u001b[36mpandas\u001b[39;49;00m \u001b[34mas\u001b[39;49;00m \u001b[04m\u001b[36mpd\u001b[39;49;00m\r\n",
      "\u001b[34mimport\u001b[39;49;00m \u001b[04m\u001b[36mnumpy\u001b[39;49;00m \u001b[34mas\u001b[39;49;00m \u001b[04m\u001b[36mnp\u001b[39;49;00m\r\n",
      "\u001b[34mimport\u001b[39;49;00m \u001b[04m\u001b[36mtorch\u001b[39;49;00m\r\n",
      "\u001b[34mimport\u001b[39;49;00m \u001b[04m\u001b[36mtorch\u001b[39;49;00m\u001b[04m\u001b[36m.\u001b[39;49;00m\u001b[04m\u001b[36mnn\u001b[39;49;00m \u001b[34mas\u001b[39;49;00m \u001b[04m\u001b[36mnn\u001b[39;49;00m\r\n",
      "\u001b[34mimport\u001b[39;49;00m \u001b[04m\u001b[36mtorch\u001b[39;49;00m\u001b[04m\u001b[36m.\u001b[39;49;00m\u001b[04m\u001b[36moptim\u001b[39;49;00m \u001b[34mas\u001b[39;49;00m \u001b[04m\u001b[36moptim\u001b[39;49;00m\r\n",
      "\u001b[34mimport\u001b[39;49;00m \u001b[04m\u001b[36mtorch\u001b[39;49;00m\u001b[04m\u001b[36m.\u001b[39;49;00m\u001b[04m\u001b[36mutils\u001b[39;49;00m\u001b[04m\u001b[36m.\u001b[39;49;00m\u001b[04m\u001b[36mdata\u001b[39;49;00m\r\n",
      "\r\n",
      "\u001b[34mfrom\u001b[39;49;00m \u001b[04m\u001b[36mmodel\u001b[39;49;00m \u001b[34mimport\u001b[39;49;00m LSTMClassifier\r\n",
      "\r\n",
      "\u001b[34mfrom\u001b[39;49;00m \u001b[04m\u001b[36mutils\u001b[39;49;00m \u001b[34mimport\u001b[39;49;00m review_to_words, convert_and_pad\r\n",
      "\r\n",
      "\u001b[34mdef\u001b[39;49;00m \u001b[32mmodel_fn\u001b[39;49;00m(model_dir):\r\n",
      "    \u001b[33m\"\"\"Load the PyTorch model from the `model_dir` directory.\"\"\"\u001b[39;49;00m\r\n",
      "    \u001b[36mprint\u001b[39;49;00m(\u001b[33m\"\u001b[39;49;00m\u001b[33mLoading model.\u001b[39;49;00m\u001b[33m\"\u001b[39;49;00m)\r\n",
      "\r\n",
      "    \u001b[37m# First, load the parameters used to create the model.\u001b[39;49;00m\r\n",
      "    model_info = {}\r\n",
      "    model_info_path = os.path.join(model_dir, \u001b[33m'\u001b[39;49;00m\u001b[33mmodel_info.pth\u001b[39;49;00m\u001b[33m'\u001b[39;49;00m)\r\n",
      "    \u001b[34mwith\u001b[39;49;00m \u001b[36mopen\u001b[39;49;00m(model_info_path, \u001b[33m'\u001b[39;49;00m\u001b[33mrb\u001b[39;49;00m\u001b[33m'\u001b[39;49;00m) \u001b[34mas\u001b[39;49;00m f:\r\n",
      "        model_info = torch.load(f)\r\n",
      "\r\n",
      "    \u001b[36mprint\u001b[39;49;00m(\u001b[33m\"\u001b[39;49;00m\u001b[33mmodel_info: \u001b[39;49;00m\u001b[33m{}\u001b[39;49;00m\u001b[33m\"\u001b[39;49;00m.format(model_info))\r\n",
      "\r\n",
      "    \u001b[37m# Determine the device and construct the model.\u001b[39;49;00m\r\n",
      "    device = torch.device(\u001b[33m\"\u001b[39;49;00m\u001b[33mcuda\u001b[39;49;00m\u001b[33m\"\u001b[39;49;00m \u001b[34mif\u001b[39;49;00m torch.cuda.is_available() \u001b[34melse\u001b[39;49;00m \u001b[33m\"\u001b[39;49;00m\u001b[33mcpu\u001b[39;49;00m\u001b[33m\"\u001b[39;49;00m)\r\n",
      "    model = LSTMClassifier(model_info[\u001b[33m'\u001b[39;49;00m\u001b[33membedding_dim\u001b[39;49;00m\u001b[33m'\u001b[39;49;00m], model_info[\u001b[33m'\u001b[39;49;00m\u001b[33mhidden_dim\u001b[39;49;00m\u001b[33m'\u001b[39;49;00m], model_info[\u001b[33m'\u001b[39;49;00m\u001b[33mvocab_size\u001b[39;49;00m\u001b[33m'\u001b[39;49;00m])\r\n",
      "\r\n",
      "    \u001b[37m# Load the store model parameters.\u001b[39;49;00m\r\n",
      "    model_path = os.path.join(model_dir, \u001b[33m'\u001b[39;49;00m\u001b[33mmodel.pth\u001b[39;49;00m\u001b[33m'\u001b[39;49;00m)\r\n",
      "    \u001b[34mwith\u001b[39;49;00m \u001b[36mopen\u001b[39;49;00m(model_path, \u001b[33m'\u001b[39;49;00m\u001b[33mrb\u001b[39;49;00m\u001b[33m'\u001b[39;49;00m) \u001b[34mas\u001b[39;49;00m f:\r\n",
      "        model.load_state_dict(torch.load(f))\r\n",
      "\r\n",
      "    \u001b[37m# Load the saved word_dict.\u001b[39;49;00m\r\n",
      "    word_dict_path = os.path.join(model_dir, \u001b[33m'\u001b[39;49;00m\u001b[33mword_dict.pkl\u001b[39;49;00m\u001b[33m'\u001b[39;49;00m)\r\n",
      "    \u001b[34mwith\u001b[39;49;00m \u001b[36mopen\u001b[39;49;00m(word_dict_path, \u001b[33m'\u001b[39;49;00m\u001b[33mrb\u001b[39;49;00m\u001b[33m'\u001b[39;49;00m) \u001b[34mas\u001b[39;49;00m f:\r\n",
      "        model.word_dict = pickle.load(f)\r\n",
      "\r\n",
      "    model.to(device).eval()\r\n",
      "\r\n",
      "    \u001b[36mprint\u001b[39;49;00m(\u001b[33m\"\u001b[39;49;00m\u001b[33mDone loading model.\u001b[39;49;00m\u001b[33m\"\u001b[39;49;00m)\r\n",
      "    \u001b[34mreturn\u001b[39;49;00m model\r\n",
      "\r\n",
      "\u001b[34mdef\u001b[39;49;00m \u001b[32minput_fn\u001b[39;49;00m(serialized_input_data, content_type):\r\n",
      "    \u001b[36mprint\u001b[39;49;00m(\u001b[33m'\u001b[39;49;00m\u001b[33mDeserializing the input data.\u001b[39;49;00m\u001b[33m'\u001b[39;49;00m)\r\n",
      "    \u001b[34mif\u001b[39;49;00m content_type == \u001b[33m'\u001b[39;49;00m\u001b[33mtext/plain\u001b[39;49;00m\u001b[33m'\u001b[39;49;00m:\r\n",
      "        data = serialized_input_data.decode(\u001b[33m'\u001b[39;49;00m\u001b[33mutf-8\u001b[39;49;00m\u001b[33m'\u001b[39;49;00m)\r\n",
      "        \u001b[34mreturn\u001b[39;49;00m data\r\n",
      "    \u001b[34mraise\u001b[39;49;00m \u001b[36mException\u001b[39;49;00m(\u001b[33m'\u001b[39;49;00m\u001b[33mRequested unsupported ContentType in content_type: \u001b[39;49;00m\u001b[33m'\u001b[39;49;00m + content_type)\r\n",
      "\r\n",
      "\u001b[34mdef\u001b[39;49;00m \u001b[32moutput_fn\u001b[39;49;00m(prediction_output, accept):\r\n",
      "    \u001b[36mprint\u001b[39;49;00m(\u001b[33m'\u001b[39;49;00m\u001b[33mSerializing the generated output.\u001b[39;49;00m\u001b[33m'\u001b[39;49;00m)\r\n",
      "    \u001b[34mreturn\u001b[39;49;00m \u001b[36mstr\u001b[39;49;00m(prediction_output)\r\n",
      "\r\n",
      "\u001b[34mdef\u001b[39;49;00m \u001b[32mpredict_fn\u001b[39;49;00m(input_data, model):\r\n",
      "    \u001b[36mprint\u001b[39;49;00m(\u001b[33m'\u001b[39;49;00m\u001b[33mInferring sentiment of input data.\u001b[39;49;00m\u001b[33m'\u001b[39;49;00m)\r\n",
      "\r\n",
      "    device = torch.device(\u001b[33m\"\u001b[39;49;00m\u001b[33mcuda\u001b[39;49;00m\u001b[33m\"\u001b[39;49;00m \u001b[34mif\u001b[39;49;00m torch.cuda.is_available() \u001b[34melse\u001b[39;49;00m \u001b[33m\"\u001b[39;49;00m\u001b[33mcpu\u001b[39;49;00m\u001b[33m\"\u001b[39;49;00m)\r\n",
      "    \r\n",
      "    \u001b[34mif\u001b[39;49;00m model.word_dict \u001b[35mis\u001b[39;49;00m \u001b[34mNone\u001b[39;49;00m:\r\n",
      "        \u001b[34mraise\u001b[39;49;00m \u001b[36mException\u001b[39;49;00m(\u001b[33m'\u001b[39;49;00m\u001b[33mModel has not been loaded properly, no word_dict.\u001b[39;49;00m\u001b[33m'\u001b[39;49;00m)\r\n",
      "    \r\n",
      "    \u001b[37m# TODO: Process input_data so that it is ready to be sent to our model.\u001b[39;49;00m\r\n",
      "    \u001b[37m#       You should produce two variables:\u001b[39;49;00m\r\n",
      "    \u001b[37m#         data_X   - A sequence of length 500 which represents the converted review\u001b[39;49;00m\r\n",
      "    \u001b[37m#         data_len - The length of the review\u001b[39;49;00m\r\n",
      "\r\n",
      "    data_X = \u001b[34mNone\u001b[39;49;00m\r\n",
      "    data_len = \u001b[34mNone\u001b[39;49;00m\r\n",
      "    data_X, data_len = convert_and_pad(model.word_dict, input_data, pad=\u001b[34m500\u001b[39;49;00m)\r\n",
      "\r\n",
      "    \u001b[37m# Using data_X and data_len we construct an appropriate input tensor. Remember\u001b[39;49;00m\r\n",
      "    \u001b[37m# that our model expects input data of the form 'len, review[500]'.\u001b[39;49;00m\r\n",
      "    data_pack = np.hstack((data_len, data_X))\r\n",
      "    data_pack = data_pack.reshape(\u001b[34m1\u001b[39;49;00m, -\u001b[34m1\u001b[39;49;00m)\r\n",
      "    \r\n",
      "    data = torch.from_numpy(data_pack)\r\n",
      "    data = data.to(device)\r\n",
      "\r\n",
      "    \u001b[37m# Make sure to put the model into evaluation mode\u001b[39;49;00m\r\n",
      "    model.eval()\r\n",
      "\r\n",
      "    \u001b[37m# TODO: Compute the result of applying the model to the input data. The variable `result` should\u001b[39;49;00m\r\n",
      "    \u001b[37m#       be a numpy array which contains a single integer which is either 1 or 0\u001b[39;49;00m\r\n",
      "\r\n",
      "    result = \u001b[34mNone\u001b[39;49;00m\r\n",
      "    \u001b[34mwith\u001b[39;49;00m torch.no_grad():\r\n",
      "        output = model.forward(data)\r\n",
      "    result = \u001b[36mint\u001b[39;49;00m(np.round(output.numpy()))\r\n",
      "\r\n",
      "    \u001b[34mreturn\u001b[39;49;00m result\r\n"
     ]
    }
   ],
   "source": [
    "!pygmentize serve/predict.py"
   ]
  },
  {
   "cell_type": "markdown",
   "metadata": {},
   "source": [
    "As mentioned earlier, the `model_fn` method is the same as the one provided in the training code and the `input_fn` and `output_fn` methods are very simple and your task will be to complete the `predict_fn` method. Make sure that you save the completed file as `predict.py` in the `serve` directory.\n",
    "\n",
    "**TODO**: Complete the `predict_fn()` method in the `serve/predict.py` file."
   ]
  },
  {
   "cell_type": "markdown",
   "metadata": {},
   "source": [
    "### Deploying the model\n",
    "\n",
    "Now that the custom inference code has been written, we will create and deploy our model. To begin with, we need to construct a new PyTorchModel object which points to the model artifacts created during training and also points to the inference code that we wish to use. Then we can call the deploy method to launch the deployment container.\n",
    "\n",
    "**NOTE**: The default behaviour for a deployed PyTorch model is to assume that any input passed to the predictor is a `numpy` array. In our case we want to send a string so we need to construct a simple wrapper around the `RealTimePredictor` class to accomodate simple strings. In a more complicated situation you may want to provide a serialization object, for example if you wanted to sent image data."
   ]
  },
  {
   "cell_type": "code",
   "execution_count": 40,
   "metadata": {},
   "outputs": [
    {
     "name": "stderr",
     "output_type": "stream",
     "text": [
      "Parameter image will be renamed to image_uri in SageMaker Python SDK v2.\n",
      "'create_image_uri' will be deprecated in favor of 'ImageURIProvider' class in SageMaker Python SDK v2.\n"
     ]
    },
    {
     "name": "stdout",
     "output_type": "stream",
     "text": [
      "-----------------!"
     ]
    }
   ],
   "source": [
    "from sagemaker.predictor import RealTimePredictor\n",
    "from sagemaker.pytorch import PyTorchModel\n",
    "\n",
    "class StringPredictor(RealTimePredictor):\n",
    "    def __init__(self, endpoint_name, sagemaker_session):\n",
    "        super(StringPredictor, self).__init__(endpoint_name, sagemaker_session, content_type='text/plain')\n",
    "\n",
    "model = PyTorchModel(model_data=estimator.model_data,\n",
    "                     role = role,\n",
    "                     framework_version='0.4.0',\n",
    "                     entry_point='predict.py',\n",
    "                     source_dir='serve',\n",
    "                     predictor_cls=StringPredictor)\n",
    "predictor = model.deploy(initial_instance_count=1, instance_type='ml.m4.xlarge')"
   ]
  },
  {
   "cell_type": "markdown",
   "metadata": {},
   "source": [
    "### Testing the model\n",
    "\n",
    "Now that we have deployed our model with the custom inference code, we should test to see if everything is working. Here we test our model by loading the first `250` positive and negative reviews and send them to the endpoint, then collect the results. The reason for only sending some of the data is that the amount of time it takes for our model to process the input and then perform inference is quite long and so testing the entire data set would be prohibitive."
   ]
  },
  {
   "cell_type": "code",
   "execution_count": 41,
   "metadata": {},
   "outputs": [],
   "source": [
    "import glob\n",
    "\n",
    "def test_reviews(data_dir='../data/aclImdb', stop=250):\n",
    "    \n",
    "    results = []\n",
    "    ground = []\n",
    "    \n",
    "    # We make sure to test both positive and negative reviews    \n",
    "    for sentiment in ['pos', 'neg']:\n",
    "        \n",
    "        path = os.path.join(data_dir, 'test', sentiment, '*.txt')\n",
    "        files = glob.glob(path)\n",
    "        \n",
    "        files_read = 0\n",
    "        \n",
    "        print('Starting ', sentiment, ' files')\n",
    "        \n",
    "        # Iterate through the files and send them to the predictor\n",
    "        for f in files:\n",
    "            with open(f) as review:\n",
    "                # First, we store the ground truth (was the review positive or negative)\n",
    "                if sentiment == 'pos':\n",
    "                    ground.append(1)\n",
    "                else:\n",
    "                    ground.append(0)\n",
    "                # Read in the review and convert to 'utf-8' for transmission via HTTP\n",
    "                review_input = review.read().encode('utf-8')\n",
    "                # Send the review to the predictor and store the results\n",
    "                results.append(float(predictor.predict(review_input)))\n",
    "                \n",
    "            # Sending reviews to our endpoint one at a time takes a while so we\n",
    "            # only send a small number of reviews\n",
    "            files_read += 1\n",
    "            if files_read == stop:\n",
    "                break\n",
    "            \n",
    "    return ground, results"
   ]
  },
  {
   "cell_type": "code",
   "execution_count": 42,
   "metadata": {},
   "outputs": [
    {
     "name": "stdout",
     "output_type": "stream",
     "text": [
      "Starting  pos  files\n",
      "Starting  neg  files\n"
     ]
    }
   ],
   "source": [
    "ground, results = test_reviews()"
   ]
  },
  {
   "cell_type": "code",
   "execution_count": 43,
   "metadata": {},
   "outputs": [
    {
     "data": {
      "text/plain": [
       "0.498"
      ]
     },
     "execution_count": 43,
     "metadata": {},
     "output_type": "execute_result"
    }
   ],
   "source": [
    "from sklearn.metrics import accuracy_score\n",
    "accuracy_score(ground, results)"
   ]
  },
  {
   "cell_type": "markdown",
   "metadata": {},
   "source": [
    "As an additional test, we can try sending the `test_review` that we looked at earlier."
   ]
  },
  {
   "cell_type": "code",
   "execution_count": 44,
   "metadata": {},
   "outputs": [
    {
     "data": {
      "text/plain": [
       "b'1'"
      ]
     },
     "execution_count": 44,
     "metadata": {},
     "output_type": "execute_result"
    }
   ],
   "source": [
    "predictor.predict(test_review)"
   ]
  },
  {
   "cell_type": "markdown",
   "metadata": {},
   "source": [
    "Now that we know our endpoint is working as expected, we can set up the web page that will interact with it. If you don't have time to finish the project now, make sure to skip down to the end of this notebook and shut down your endpoint. You can deploy it again when you come back."
   ]
  },
  {
   "cell_type": "markdown",
   "metadata": {},
   "source": [
    "## Step 7 (again): Use the model for the web app\n",
    "\n",
    "> **TODO:** This entire section and the next contain tasks for you to complete, mostly using the AWS console.\n",
    "\n",
    "So far we have been accessing our model endpoint by constructing a predictor object which uses the endpoint and then just using the predictor object to perform inference. What if we wanted to create a web app which accessed our model? The way things are set up currently makes that not possible since in order to access a SageMaker endpoint the app would first have to authenticate with AWS using an IAM role which included access to SageMaker endpoints. However, there is an easier way! We just need to use some additional AWS services.\n",
    "\n",
    "<img src=\"Web App Diagram.svg\">\n",
    "\n",
    "The diagram above gives an overview of how the various services will work together. On the far right is the model which we trained above and which is deployed using SageMaker. On the far left is our web app that collects a user's movie review, sends it off and expects a positive or negative sentiment in return.\n",
    "\n",
    "In the middle is where some of the magic happens. We will construct a Lambda function, which you can think of as a straightforward Python function that can be executed whenever a specified event occurs. We will give this function permission to send and recieve data from a SageMaker endpoint.\n",
    "\n",
    "Lastly, the method we will use to execute the Lambda function is a new endpoint that we will create using API Gateway. This endpoint will be a url that listens for data to be sent to it. Once it gets some data it will pass that data on to the Lambda function and then return whatever the Lambda function returns. Essentially it will act as an interface that lets our web app communicate with the Lambda function.\n",
    "\n",
    "### Setting up a Lambda function\n",
    "\n",
    "The first thing we are going to do is set up a Lambda function. This Lambda function will be executed whenever our public API has data sent to it. When it is executed it will receive the data, perform any sort of processing that is required, send the data (the review) to the SageMaker endpoint we've created and then return the result.\n",
    "\n",
    "#### Part A: Create an IAM Role for the Lambda function\n",
    "\n",
    "Since we want the Lambda function to call a SageMaker endpoint, we need to make sure that it has permission to do so. To do this, we will construct a role that we can later give the Lambda function.\n",
    "\n",
    "Using the AWS Console, navigate to the **IAM** page and click on **Roles**. Then, click on **Create role**. Make sure that the **AWS service** is the type of trusted entity selected and choose **Lambda** as the service that will use this role, then click **Next: Permissions**.\n",
    "\n",
    "In the search box type `sagemaker` and select the check box next to the **AmazonSageMakerFullAccess** policy. Then, click on **Next: Review**.\n",
    "\n",
    "Lastly, give this role a name. Make sure you use a name that you will remember later on, for example `LambdaSageMakerRole`. Then, click on **Create role**.\n",
    "\n",
    "#### Part B: Create a Lambda function\n",
    "\n",
    "Now it is time to actually create the Lambda function.\n",
    "\n",
    "Using the AWS Console, navigate to the AWS Lambda page and click on **Create a function**. When you get to the next page, make sure that **Author from scratch** is selected. Now, name your Lambda function, using a name that you will remember later on, for example `sentiment_analysis_func`. Make sure that the **Python 3.6** runtime is selected and then choose the role that you created in the previous part. Then, click on **Create Function**.\n",
    "\n",
    "On the next page you will see some information about the Lambda function you've just created. If you scroll down you should see an editor in which you can write the code that will be executed when your Lambda function is triggered. In our example, we will use the code below. \n",
    "\n",
    "```python\n",
    "# We need to use the low-level library to interact with SageMaker since the SageMaker API\n",
    "# is not available natively through Lambda.\n",
    "import boto3\n",
    "\n",
    "def lambda_handler(event, context):\n",
    "\n",
    "    # The SageMaker runtime is what allows us to invoke the endpoint that we've created.\n",
    "    runtime = boto3.Session().client('sagemaker-runtime')\n",
    "\n",
    "    # Now we use the SageMaker runtime to invoke our endpoint, sending the review we were given\n",
    "    response = runtime.invoke_endpoint(EndpointName = '**ENDPOINT NAME HERE**',    # The name of the endpoint we created\n",
    "                                       ContentType = 'text/plain',                 # The data format that is expected\n",
    "                                       Body = event['body'])                       # The actual review\n",
    "\n",
    "    # The response is an HTTP response whose body contains the result of our inference\n",
    "    result = response['Body'].read().decode('utf-8')\n",
    "\n",
    "    return {\n",
    "        'statusCode' : 200,\n",
    "        'headers' : { 'Content-Type' : 'text/plain', 'Access-Control-Allow-Origin' : '*' },\n",
    "        'body' : result\n",
    "    }\n",
    "```\n",
    "\n",
    "Once you have copy and pasted the code above into the Lambda code editor, replace the `**ENDPOINT NAME HERE**` portion with the name of the endpoint that we deployed earlier. You can determine the name of the endpoint using the code cell below."
   ]
  },
  {
   "cell_type": "code",
   "execution_count": 45,
   "metadata": {},
   "outputs": [
    {
     "data": {
      "text/plain": [
       "'sagemaker-pytorch-2021-02-02-04-25-30-186'"
      ]
     },
     "execution_count": 45,
     "metadata": {},
     "output_type": "execute_result"
    }
   ],
   "source": [
    "predictor.endpoint"
   ]
  },
  {
   "cell_type": "markdown",
   "metadata": {},
   "source": [
    "Once you have added the endpoint name to the Lambda function, click on **Save**. Your Lambda function is now up and running. Next we need to create a way for our web app to execute the Lambda function.\n",
    "\n",
    "### Setting up API Gateway\n",
    "\n",
    "Now that our Lambda function is set up, it is time to create a new API using API Gateway that will trigger the Lambda function we have just created.\n",
    "\n",
    "Using AWS Console, navigate to **Amazon API Gateway** and then click on **Get started**.\n",
    "\n",
    "On the next page, make sure that **New API** is selected and give the new api a name, for example, `sentiment_analysis_api`. Then, click on **Create API**.\n",
    "\n",
    "Now we have created an API, however it doesn't currently do anything. What we want it to do is to trigger the Lambda function that we created earlier.\n",
    "\n",
    "Select the **Actions** dropdown menu and click **Create Method**. A new blank method will be created, select its dropdown menu and select **POST**, then click on the check mark beside it.\n",
    "\n",
    "For the integration point, make sure that **Lambda Function** is selected and click on the **Use Lambda Proxy integration**. This option makes sure that the data that is sent to the API is then sent directly to the Lambda function with no processing. It also means that the return value must be a proper response object as it will also not be processed by API Gateway.\n",
    "\n",
    "Type the name of the Lambda function you created earlier into the **Lambda Function** text entry box and then click on **Save**. Click on **OK** in the pop-up box that then appears, giving permission to API Gateway to invoke the Lambda function you created.\n",
    "\n",
    "The last step in creating the API Gateway is to select the **Actions** dropdown and click on **Deploy API**. You will need to create a new Deployment stage and name it anything you like, for example `prod`.\n",
    "\n",
    "You have now successfully set up a public API to access your SageMaker model. Make sure to copy or write down the URL provided to invoke your newly created public API as this will be needed in the next step. This URL can be found at the top of the page, highlighted in blue next to the text **Invoke URL**."
   ]
  },
  {
   "cell_type": "markdown",
   "metadata": {},
   "source": [
    "## Step 4: Deploying our web app\n",
    "\n",
    "Now that we have a publicly available API, we can start using it in a web app. For our purposes, we have provided a simple static html file which can make use of the public api you created earlier.\n",
    "\n",
    "In the `website` folder there should be a file called `index.html`. Download the file to your computer and open that file up in a text editor of your choice. There should be a line which contains **\\*\\*REPLACE WITH PUBLIC API URL\\*\\***. Replace this string with the url that you wrote down in the last step and then save the file.\n",
    "\n",
    "Now, if you open `index.html` on your local computer, your browser will behave as a local web server and you can use the provided site to interact with your SageMaker model.\n",
    "\n",
    "If you'd like to go further, you can host this html file anywhere you'd like, for example using github or hosting a static site on Amazon's S3. Once you have done this you can share the link with anyone you'd like and have them play with it too!\n",
    "\n",
    "> **Important Note** In order for the web app to communicate with the SageMaker endpoint, the endpoint has to actually be deployed and running. This means that you are paying for it. Make sure that the endpoint is running when you want to use the web app but that you shut it down when you don't need it, otherwise you will end up with a surprisingly large AWS bill.\n",
    "\n",
    "**TODO:** Make sure that you include the edited `index.html` file in your project submission."
   ]
  },
  {
   "cell_type": "markdown",
   "metadata": {},
   "source": [
    "Now that your web app is working, trying playing around with it and see how well it works.\n",
    "\n",
    "**Question**: Give an example of a review that you entered into your web app. What was the predicted sentiment of your example review?"
   ]
  },
  {
   "cell_type": "markdown",
   "metadata": {},
   "source": [
    "**Answer:** see screenshot with test and predicted sentiment"
   ]
  },
  {
   "cell_type": "code",
   "execution_count": 47,
   "metadata": {},
   "outputs": [
    {
     "data": {
      "image/png": "[encoded data removed]",
      "text/plain": [
       "<IPython.core.display.Image object>"
      ]
     },
     "execution_count": 47,
     "metadata": {
      "image/png": {
       "height": 500,
       "width": 1000
      }
     },
     "output_type": "execute_result"
    }
   ],
   "source": [
    "from IPython.display import Image\n",
    "Image(filename='Screenshot 2021-02-01 234326.png',width=1000, height=500)"
   ]
  },
  {
   "cell_type": "markdown",
   "metadata": {},
   "source": [
    "### Delete the endpoint\n",
    "\n",
    "Remember to always shut down your endpoint if you are no longer using it. You are charged for the length of time that the endpoint is running so if you forget and leave it on you could end up with an unexpectedly large bill."
   ]
  },
  {
   "cell_type": "code",
   "execution_count": 48,
   "metadata": {},
   "outputs": [],
   "source": [
    "predictor.delete_endpoint()"
   ]
  },
  {
   "cell_type": "code",
   "execution_count": null,
   "metadata": {},
   "outputs": [],
   "source": []
  }
 ],
 "metadata": {
  "kernelspec": {
   "display_name": "conda_pytorch_p36",
   "language": "python",
   "name": "conda_pytorch_p36"
  },
  "language_info": {
   "codemirror_mode": {
    "name": "ipython",
    "version": 3
   },
   "file_extension": ".py",
   "mimetype": "text/x-python",
   "name": "python",
   "nbconvert_exporter": "python",
   "pygments_lexer": "ipython3",
   "version": "3.6.10"
  }
 },
 "nbformat": 4,
 "nbformat_minor": 2
}
